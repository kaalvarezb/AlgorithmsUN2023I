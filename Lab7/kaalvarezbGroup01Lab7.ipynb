{
  "nbformat": 4,
  "nbformat_minor": 0,
  "metadata": {
    "colab": {
      "provenance": [],
      "authorship_tag": "ABX9TyOK0sah+6bnrutYOh+7a+wK"
    },
    "kernelspec": {
      "name": "python3",
      "display_name": "Python 3"
    },
    "language_info": {
      "name": "python"
    }
  },
  "cells": [
    {
      "cell_type": "markdown",
      "source": [
        "<center><h1>LAB 7 Gale-Shapley and Irving Algorithms (Groups)  [part of the first test]</h1></center>\n",
        "\n",
        "\n",
        "<br><br>\n",
        "\n",
        "##1. Find the best and worst cases for the Gale-Shapley and Irving ( An Efficient Algorithm for the “Stable Roommates” Problem) Algorithms and run in Colab these algorithms for those cases for n=4 and 40.\n",
        "\n",
        "##* Gale–Shapley algorithm simply explained – towardsdatascience\n",
        "##* Stable Marriage Problem – geeksforgeeks\n",
        "##* Stable matching, as a game – towardsdatascience.com"
      ],
      "metadata": {
        "id": "lcW7hK3uEXXi"
      }
    },
    {
      "cell_type": "code",
      "execution_count": 1,
      "metadata": {
        "id": "DyqdAn-v-dA7"
      },
      "outputs": [],
      "source": [
        "# Gale-Shapley Algorithm\n",
        "\n",
        "def stable_marriage(n, men_preferences, women_preferences):\n",
        "    # Initialize matches and availability\n",
        "    matches = {}\n",
        "    men_available = {man: True for man in range(n)}\n",
        "\n",
        "    # Continue until all men are matched\n",
        "    while any(men_available.values()):\n",
        "        for man in range(n):\n",
        "            if men_available[man]:\n",
        "                # Get the woman according to the man's preference\n",
        "                woman = men_preferences[man].pop(0)\n",
        "\n",
        "                # Check if the woman is already engaged\n",
        "                current_man = matches.get(woman)\n",
        "\n",
        "                if current_man is None:\n",
        "                    # Woman is not engaged, match them\n",
        "                    matches[woman] = man\n",
        "                    men_available[man] = False\n",
        "                else:\n",
        "                    # Woman is engaged, compare preferences\n",
        "                    current_woman_pref = women_preferences[woman]\n",
        "                    if current_woman_pref.index(current_man) > current_woman_pref.index(man):\n",
        "                        # Current man is less preferred, update the match\n",
        "                        matches[woman] = man\n",
        "                        men_available[man] = False\n",
        "                        men_available[current_man] = True\n",
        "\n",
        "    return matches"
      ]
    },
    {
      "cell_type": "code",
      "source": [
        "import random\n",
        "\n",
        "# Generate random preferences\n",
        "def generate_random_preferences(n):\n",
        "    preferences = {}\n",
        "    for i in range(n):\n",
        "        preferences[i] = random.sample(range(n), n)\n",
        "    return preferences\n"
      ],
      "metadata": {
        "id": "4lwtPzmgL7Bc"
      },
      "execution_count": 2,
      "outputs": []
    },
    {
      "cell_type": "code",
      "source": [
        "# Example n = 4\n",
        "\n",
        "# Number of men and women\n",
        "n = 4\n",
        "\n",
        "# Generate random preferences\n",
        "men_preferences = generate_random_preferences(n)\n",
        "women_preferences = generate_random_preferences(n)\n",
        "print(\"Men's Preferences:\", men_preferences)\n",
        "print(\"Women's Preferences:\", women_preferences)\n",
        "\n",
        "# Stable marriage\n",
        "result1 = stable_marriage(n, men_preferences, women_preferences)\n",
        "print(\"Matching:\", result1)"
      ],
      "metadata": {
        "colab": {
          "base_uri": "https://localhost:8080/"
        },
        "id": "HNWqCnDhMjQ-",
        "outputId": "dfc17d26-79de-4ef6-8966-0ec3e65a2985"
      },
      "execution_count": 3,
      "outputs": [
        {
          "output_type": "stream",
          "name": "stdout",
          "text": [
            "Men's Preferences: {0: [2, 3, 1, 0], 1: [2, 3, 1, 0], 2: [1, 2, 3, 0], 3: [1, 2, 0, 3]}\n",
            "Women's Preferences: {0: [0, 2, 3, 1], 1: [0, 1, 3, 2], 2: [1, 2, 0, 3], 3: [3, 0, 1, 2]}\n",
            "Matching: {2: 1, 1: 3, 3: 0, 0: 2}\n"
          ]
        }
      ]
    },
    {
      "cell_type": "code",
      "source": [
        "# Example n = 40\n",
        "\n",
        "# Number of men and women\n",
        "n = 40\n",
        "\n",
        "# Generate random preferences\n",
        "men_preferences = generate_random_preferences(n)\n",
        "women_preferences = generate_random_preferences(n)\n",
        "print(\"Men's Preferences:\", men_preferences)\n",
        "print(\"Women's Preferences:\", women_preferences)\n",
        "\n",
        "# Stable marriage\n",
        "result2 = stable_marriage(n, men_preferences, women_preferences)\n",
        "print(\"Matching:\", result2)"
      ],
      "metadata": {
        "colab": {
          "base_uri": "https://localhost:8080/"
        },
        "id": "pC2OQ6UtNE_W",
        "outputId": "1b9893ef-1584-403f-b304-59c7d5d813b3"
      },
      "execution_count": 4,
      "outputs": [
        {
          "output_type": "stream",
          "name": "stdout",
          "text": [
            "Men's Preferences: {0: [22, 37, 10, 2, 32, 27, 8, 39, 28, 18, 12, 9, 13, 1, 33, 6, 25, 35, 11, 0, 15, 7, 21, 5, 14, 26, 31, 23, 4, 20, 36, 16, 38, 24, 19, 34, 30, 29, 17, 3], 1: [13, 3, 31, 26, 2, 21, 20, 7, 9, 6, 30, 34, 29, 8, 16, 0, 33, 1, 17, 32, 10, 22, 35, 11, 19, 24, 23, 15, 27, 14, 38, 12, 5, 18, 37, 28, 4, 39, 25, 36], 2: [22, 33, 10, 37, 38, 27, 3, 7, 18, 26, 28, 31, 2, 36, 14, 0, 17, 6, 9, 35, 39, 23, 15, 13, 11, 25, 8, 1, 34, 29, 12, 5, 19, 30, 21, 24, 32, 20, 16, 4], 3: [26, 22, 31, 4, 36, 16, 24, 3, 34, 35, 7, 27, 13, 9, 29, 18, 17, 37, 2, 0, 1, 11, 10, 28, 8, 21, 15, 38, 30, 19, 12, 39, 25, 20, 23, 33, 5, 6, 32, 14], 4: [23, 32, 30, 3, 5, 14, 7, 28, 10, 2, 18, 35, 24, 34, 12, 6, 29, 20, 31, 36, 0, 19, 37, 26, 8, 9, 27, 22, 11, 25, 17, 16, 1, 39, 38, 15, 21, 33, 4, 13], 5: [4, 37, 30, 6, 24, 13, 28, 20, 32, 27, 16, 33, 21, 15, 22, 31, 35, 5, 12, 2, 1, 17, 38, 26, 11, 0, 18, 34, 7, 8, 39, 10, 36, 19, 25, 14, 29, 3, 9, 23], 6: [39, 4, 7, 10, 21, 34, 32, 30, 33, 27, 38, 35, 22, 20, 23, 24, 28, 3, 29, 14, 8, 26, 0, 12, 37, 17, 25, 5, 6, 16, 2, 31, 1, 15, 19, 18, 13, 11, 36, 9], 7: [35, 23, 3, 33, 16, 20, 36, 32, 14, 13, 26, 39, 31, 22, 1, 11, 7, 15, 6, 4, 29, 19, 37, 28, 34, 8, 18, 30, 38, 10, 12, 2, 21, 9, 25, 17, 24, 0, 5, 27], 8: [38, 3, 39, 6, 10, 4, 37, 7, 1, 5, 32, 14, 28, 24, 26, 21, 33, 13, 35, 8, 9, 2, 20, 17, 0, 25, 11, 27, 18, 12, 23, 30, 16, 19, 31, 29, 15, 36, 22, 34], 9: [0, 1, 2, 39, 18, 13, 5, 22, 11, 16, 10, 8, 35, 7, 34, 12, 26, 29, 15, 9, 6, 28, 20, 23, 30, 32, 36, 24, 4, 33, 3, 17, 25, 38, 19, 21, 31, 37, 27, 14], 10: [17, 28, 34, 15, 5, 6, 4, 13, 8, 1, 26, 18, 23, 10, 31, 16, 7, 25, 35, 12, 21, 11, 27, 19, 20, 32, 2, 37, 22, 36, 39, 33, 3, 9, 14, 38, 29, 30, 24, 0], 11: [24, 28, 0, 13, 1, 30, 31, 8, 26, 23, 2, 32, 7, 25, 33, 35, 18, 11, 38, 4, 36, 15, 29, 5, 27, 16, 14, 19, 37, 20, 12, 34, 22, 3, 10, 39, 21, 17, 9, 6], 12: [5, 18, 33, 23, 1, 35, 11, 14, 10, 13, 26, 29, 22, 20, 31, 15, 3, 0, 39, 37, 27, 2, 7, 34, 19, 25, 9, 24, 16, 38, 6, 32, 8, 30, 4, 36, 21, 12, 28, 17], 13: [35, 12, 6, 26, 11, 5, 27, 7, 23, 15, 31, 33, 37, 36, 1, 39, 3, 20, 18, 22, 24, 13, 17, 30, 2, 25, 29, 14, 32, 28, 21, 10, 8, 4, 16, 38, 34, 19, 9, 0], 14: [32, 3, 16, 14, 22, 23, 19, 30, 9, 25, 37, 13, 28, 4, 6, 21, 1, 15, 12, 10, 18, 11, 27, 29, 5, 26, 0, 2, 36, 33, 31, 7, 34, 20, 17, 39, 35, 24, 38, 8], 15: [2, 33, 1, 28, 18, 37, 21, 27, 23, 12, 20, 26, 7, 25, 19, 29, 4, 32, 16, 34, 11, 6, 0, 14, 22, 17, 9, 36, 35, 38, 39, 15, 8, 24, 13, 31, 10, 5, 30, 3], 16: [9, 5, 12, 7, 0, 11, 27, 31, 26, 39, 22, 35, 29, 32, 14, 10, 24, 20, 19, 17, 33, 1, 16, 28, 21, 38, 18, 2, 36, 37, 13, 8, 25, 3, 6, 23, 34, 15, 4, 30], 17: [16, 37, 10, 9, 1, 8, 20, 31, 18, 30, 0, 36, 34, 27, 29, 35, 28, 5, 33, 14, 32, 4, 7, 13, 23, 25, 19, 3, 17, 2, 12, 6, 22, 39, 26, 21, 38, 24, 15, 11], 18: [34, 24, 16, 7, 4, 21, 10, 35, 23, 12, 26, 25, 22, 15, 14, 1, 39, 27, 31, 38, 33, 17, 18, 32, 9, 8, 11, 36, 30, 29, 0, 3, 5, 20, 6, 13, 2, 28, 37, 19], 19: [16, 2, 27, 37, 4, 0, 28, 7, 14, 22, 3, 5, 18, 13, 26, 24, 34, 31, 17, 12, 30, 21, 10, 6, 25, 15, 38, 19, 32, 39, 35, 29, 20, 9, 36, 33, 1, 11, 23, 8], 20: [1, 37, 10, 15, 9, 23, 3, 31, 30, 35, 29, 12, 22, 25, 36, 13, 19, 24, 26, 18, 32, 14, 8, 6, 4, 20, 2, 33, 39, 21, 11, 27, 34, 16, 17, 28, 7, 0, 5, 38], 21: [22, 33, 28, 12, 15, 4, 1, 8, 23, 37, 27, 13, 5, 3, 9, 11, 39, 17, 26, 16, 0, 10, 20, 34, 30, 29, 38, 36, 19, 24, 25, 18, 6, 2, 32, 21, 35, 31, 7, 14], 22: [36, 9, 28, 23, 14, 34, 31, 2, 3, 37, 4, 24, 25, 35, 11, 13, 1, 21, 17, 18, 7, 22, 29, 33, 20, 0, 32, 10, 5, 12, 6, 26, 16, 30, 15, 8, 19, 27, 39, 38], 23: [1, 20, 33, 12, 13, 30, 31, 17, 15, 21, 0, 34, 23, 29, 7, 9, 35, 6, 39, 4, 38, 32, 18, 11, 24, 3, 22, 36, 26, 25, 5, 19, 2, 16, 10, 37, 8, 27, 28, 14], 24: [30, 12, 6, 5, 9, 11, 32, 2, 23, 26, 24, 18, 13, 31, 33, 17, 1, 15, 22, 10, 14, 37, 39, 25, 28, 36, 16, 0, 38, 3, 8, 20, 7, 29, 27, 35, 4, 21, 34, 19], 25: [11, 5, 38, 3, 33, 34, 30, 25, 12, 20, 31, 36, 1, 16, 39, 37, 2, 22, 13, 4, 24, 14, 18, 10, 19, 6, 26, 17, 15, 7, 0, 8, 23, 32, 27, 35, 28, 9, 21, 29], 26: [1, 25, 14, 3, 7, 35, 19, 27, 26, 34, 37, 32, 15, 18, 28, 31, 9, 12, 36, 39, 20, 16, 24, 2, 17, 33, 6, 38, 21, 29, 10, 11, 8, 23, 0, 13, 30, 22, 4, 5], 27: [28, 34, 25, 31, 35, 39, 5, 16, 32, 27, 8, 30, 11, 6, 33, 14, 3, 12, 18, 7, 36, 0, 24, 23, 38, 13, 2, 17, 22, 26, 29, 1, 37, 15, 10, 9, 19, 4, 21, 20], 28: [11, 0, 1, 33, 36, 5, 25, 17, 14, 24, 37, 3, 7, 13, 22, 23, 4, 15, 6, 2, 12, 10, 26, 30, 27, 32, 35, 38, 21, 16, 8, 39, 34, 31, 28, 19, 18, 20, 29, 9], 29: [26, 19, 11, 3, 8, 4, 16, 9, 1, 35, 34, 0, 31, 33, 38, 25, 5, 29, 14, 22, 13, 6, 15, 23, 10, 28, 37, 21, 24, 39, 12, 36, 32, 30, 2, 7, 18, 20, 17, 27], 30: [6, 15, 35, 11, 30, 21, 20, 5, 16, 2, 3, 14, 0, 10, 37, 17, 28, 39, 31, 38, 33, 1, 24, 27, 4, 25, 34, 26, 32, 22, 9, 12, 19, 18, 23, 36, 8, 13, 7, 29], 31: [17, 27, 25, 1, 9, 29, 12, 34, 2, 28, 31, 38, 32, 8, 0, 16, 11, 20, 39, 26, 15, 22, 5, 14, 21, 7, 23, 18, 30, 4, 35, 19, 6, 13, 36, 33, 37, 24, 3, 10], 32: [26, 20, 18, 11, 29, 0, 39, 34, 36, 2, 6, 37, 9, 7, 38, 15, 17, 33, 19, 8, 31, 5, 30, 13, 16, 3, 10, 1, 23, 22, 27, 21, 35, 12, 4, 24, 14, 32, 28, 25], 33: [4, 37, 19, 25, 26, 11, 5, 17, 33, 15, 35, 16, 1, 3, 18, 12, 6, 32, 7, 24, 8, 30, 20, 23, 31, 9, 21, 2, 22, 39, 29, 36, 13, 27, 38, 28, 10, 0, 14, 34], 34: [9, 33, 5, 39, 35, 21, 8, 29, 7, 23, 0, 10, 15, 34, 36, 38, 20, 14, 28, 4, 19, 37, 17, 26, 30, 24, 6, 16, 25, 1, 11, 27, 2, 31, 3, 22, 18, 13, 32, 12], 35: [33, 1, 0, 29, 35, 31, 18, 34, 28, 23, 15, 13, 39, 27, 25, 3, 21, 11, 10, 17, 8, 24, 32, 7, 38, 9, 37, 26, 12, 22, 14, 5, 4, 19, 6, 16, 30, 2, 20, 36], 36: [5, 11, 22, 21, 18, 19, 28, 10, 0, 1, 36, 30, 20, 15, 32, 24, 7, 13, 37, 16, 25, 3, 38, 6, 26, 8, 27, 33, 2, 12, 9, 39, 31, 29, 14, 17, 4, 23, 35, 34], 37: [35, 38, 27, 25, 29, 20, 34, 32, 14, 23, 12, 31, 4, 28, 39, 19, 8, 3, 26, 16, 0, 15, 13, 22, 18, 11, 36, 7, 33, 6, 21, 17, 5, 2, 1, 37, 30, 10, 9, 24], 38: [2, 3, 16, 26, 12, 4, 25, 10, 35, 13, 28, 29, 14, 36, 19, 18, 15, 5, 6, 30, 39, 20, 37, 31, 17, 33, 23, 38, 27, 1, 32, 21, 22, 7, 8, 11, 34, 24, 9, 0], 39: [34, 7, 38, 29, 14, 23, 17, 11, 37, 0, 26, 21, 13, 28, 22, 4, 27, 2, 39, 3, 30, 31, 9, 32, 24, 16, 5, 36, 12, 10, 33, 19, 20, 25, 15, 1, 8, 6, 35, 18]}\n",
            "Women's Preferences: {0: [11, 8, 10, 20, 30, 9, 17, 27, 33, 19, 1, 25, 22, 24, 39, 13, 7, 31, 36, 16, 23, 21, 4, 26, 15, 0, 12, 32, 35, 3, 38, 34, 28, 37, 5, 6, 29, 2, 14, 18], 1: [10, 32, 13, 1, 29, 22, 30, 36, 26, 2, 19, 16, 27, 9, 3, 28, 33, 7, 5, 17, 0, 12, 15, 25, 37, 23, 38, 34, 39, 31, 21, 35, 8, 20, 4, 14, 11, 24, 6, 18], 2: [5, 4, 35, 3, 37, 38, 12, 18, 31, 8, 0, 26, 34, 21, 25, 28, 16, 7, 17, 1, 9, 30, 33, 20, 13, 19, 10, 15, 14, 39, 24, 6, 11, 32, 29, 27, 22, 23, 2, 36], 3: [17, 29, 33, 22, 12, 6, 36, 35, 10, 7, 13, 21, 8, 23, 4, 14, 15, 32, 38, 31, 27, 34, 0, 16, 24, 28, 26, 20, 3, 39, 30, 5, 18, 11, 19, 25, 2, 1, 9, 37], 4: [19, 23, 13, 6, 32, 4, 14, 37, 30, 16, 28, 12, 29, 31, 25, 0, 20, 11, 39, 2, 21, 24, 36, 1, 22, 9, 17, 8, 7, 18, 15, 33, 10, 5, 27, 26, 34, 35, 38, 3], 5: [22, 2, 12, 24, 34, 39, 33, 19, 25, 6, 37, 1, 21, 32, 31, 15, 18, 4, 0, 30, 10, 26, 7, 17, 14, 8, 11, 38, 28, 36, 16, 20, 23, 13, 27, 29, 35, 5, 3, 9], 6: [34, 21, 22, 15, 18, 0, 3, 5, 8, 9, 14, 10, 37, 2, 26, 4, 6, 29, 17, 19, 24, 36, 7, 25, 23, 35, 12, 1, 33, 32, 39, 31, 28, 16, 38, 20, 11, 13, 27, 30], 7: [38, 18, 32, 17, 39, 10, 4, 33, 24, 6, 15, 25, 11, 23, 5, 2, 13, 37, 1, 8, 29, 21, 35, 16, 28, 27, 26, 19, 3, 12, 9, 34, 14, 31, 7, 30, 0, 36, 22, 20], 8: [0, 3, 31, 38, 16, 8, 12, 2, 39, 15, 26, 6, 22, 34, 21, 23, 11, 18, 33, 19, 30, 17, 13, 35, 10, 5, 7, 14, 37, 4, 25, 28, 1, 29, 36, 27, 24, 32, 9, 20], 9: [26, 12, 38, 37, 39, 36, 31, 30, 5, 23, 15, 21, 9, 29, 16, 20, 4, 32, 17, 27, 18, 8, 3, 6, 10, 14, 35, 25, 13, 7, 22, 28, 34, 24, 2, 0, 11, 33, 19, 1], 10: [23, 15, 8, 20, 39, 17, 19, 11, 24, 14, 31, 13, 26, 35, 0, 12, 10, 5, 25, 30, 38, 3, 9, 28, 37, 2, 36, 21, 29, 33, 16, 32, 6, 4, 1, 34, 27, 22, 7, 18], 11: [25, 22, 7, 19, 6, 13, 8, 9, 12, 29, 16, 28, 17, 26, 5, 10, 15, 0, 33, 20, 21, 36, 3, 34, 37, 24, 30, 23, 32, 11, 4, 18, 35, 38, 1, 27, 14, 39, 31, 2], 12: [36, 35, 0, 14, 12, 33, 29, 25, 20, 17, 8, 4, 3, 37, 22, 13, 27, 2, 11, 24, 32, 19, 23, 5, 21, 38, 6, 10, 7, 18, 15, 28, 9, 30, 34, 39, 31, 26, 16, 1], 13: [16, 15, 13, 34, 37, 9, 32, 2, 22, 23, 39, 1, 27, 35, 30, 4, 17, 12, 8, 5, 36, 31, 25, 3, 0, 21, 7, 18, 10, 14, 29, 24, 26, 6, 20, 33, 38, 28, 11, 19], 14: [5, 6, 1, 21, 7, 19, 29, 23, 32, 25, 24, 11, 2, 17, 13, 31, 30, 8, 35, 14, 36, 39, 33, 37, 38, 27, 15, 20, 0, 18, 34, 22, 16, 12, 26, 3, 4, 28, 10, 9], 15: [17, 20, 8, 28, 39, 35, 16, 31, 3, 29, 0, 22, 18, 12, 13, 36, 9, 19, 34, 25, 5, 15, 4, 37, 2, 24, 14, 23, 7, 6, 21, 26, 10, 38, 32, 27, 30, 33, 1, 11], 16: [20, 5, 31, 11, 23, 17, 26, 9, 18, 27, 24, 3, 29, 21, 8, 4, 33, 30, 10, 15, 14, 34, 13, 6, 37, 28, 12, 25, 16, 32, 36, 7, 22, 38, 39, 2, 19, 0, 35, 1], 17: [35, 16, 10, 6, 26, 36, 13, 22, 19, 1, 31, 11, 9, 12, 32, 25, 21, 15, 20, 28, 0, 18, 24, 33, 29, 8, 27, 4, 17, 7, 5, 38, 30, 23, 34, 2, 3, 37, 14, 39], 18: [2, 18, 21, 38, 20, 10, 17, 37, 36, 8, 23, 33, 3, 19, 11, 15, 13, 35, 39, 0, 29, 32, 1, 12, 6, 31, 27, 5, 26, 22, 4, 30, 24, 7, 25, 34, 28, 16, 14, 9], 19: [24, 39, 3, 33, 28, 36, 14, 15, 5, 22, 1, 26, 21, 11, 13, 37, 32, 9, 18, 19, 8, 16, 25, 7, 29, 30, 31, 38, 0, 2, 6, 23, 34, 10, 35, 27, 20, 4, 17, 12], 20: [4, 20, 19, 31, 5, 9, 21, 24, 0, 3, 15, 18, 25, 39, 13, 29, 8, 2, 1, 32, 33, 22, 34, 6, 38, 35, 16, 27, 14, 10, 30, 37, 12, 7, 17, 36, 23, 28, 11, 26], 21: [25, 9, 27, 31, 3, 24, 19, 28, 7, 36, 10, 0, 23, 15, 8, 13, 17, 4, 5, 2, 34, 37, 6, 29, 11, 26, 35, 16, 21, 12, 14, 38, 18, 20, 22, 33, 30, 1, 32, 39], 22: [17, 7, 10, 32, 0, 18, 37, 21, 20, 1, 12, 28, 9, 25, 29, 3, 39, 34, 23, 26, 30, 11, 2, 5, 14, 22, 6, 15, 27, 24, 31, 38, 33, 19, 35, 36, 13, 4, 16, 8], 23: [8, 38, 25, 22, 15, 6, 16, 36, 32, 34, 39, 17, 4, 18, 20, 14, 28, 21, 13, 29, 26, 35, 31, 5, 7, 24, 12, 27, 0, 10, 23, 1, 9, 19, 37, 2, 33, 11, 3, 30], 24: [12, 24, 11, 0, 18, 13, 34, 33, 7, 32, 31, 29, 23, 4, 36, 16, 14, 26, 3, 6, 37, 10, 27, 25, 1, 17, 39, 19, 2, 8, 28, 30, 35, 20, 21, 38, 5, 9, 15, 22], 25: [5, 2, 30, 23, 26, 3, 39, 34, 18, 11, 31, 35, 16, 29, 8, 10, 37, 12, 36, 24, 17, 33, 15, 4, 7, 21, 25, 19, 13, 20, 32, 28, 14, 1, 27, 0, 9, 6, 22, 38], 26: [28, 2, 37, 1, 27, 14, 6, 33, 0, 26, 18, 22, 17, 23, 9, 32, 31, 25, 38, 24, 12, 29, 39, 4, 5, 3, 15, 11, 20, 19, 16, 10, 34, 35, 30, 8, 36, 7, 13, 21], 27: [18, 8, 35, 25, 3, 33, 10, 13, 24, 39, 22, 38, 28, 27, 4, 31, 11, 9, 20, 36, 29, 6, 5, 30, 15, 23, 12, 37, 16, 21, 2, 26, 7, 1, 14, 0, 32, 19, 17, 34], 28: [19, 30, 25, 18, 37, 10, 5, 26, 23, 35, 28, 36, 7, 15, 29, 2, 31, 6, 17, 20, 4, 38, 27, 33, 32, 14, 1, 24, 34, 16, 9, 11, 13, 21, 3, 22, 0, 39, 12, 8], 29: [0, 17, 23, 8, 33, 37, 34, 39, 1, 36, 3, 22, 15, 25, 11, 9, 31, 27, 29, 20, 16, 2, 32, 18, 30, 6, 7, 10, 28, 38, 14, 21, 13, 4, 12, 24, 19, 5, 35, 26], 30: [24, 9, 30, 6, 14, 26, 19, 29, 22, 10, 5, 35, 16, 13, 21, 2, 20, 4, 37, 39, 28, 1, 38, 23, 3, 31, 18, 11, 27, 12, 8, 7, 17, 25, 15, 34, 0, 36, 32, 33], 31: [2, 23, 9, 19, 14, 29, 8, 34, 1, 11, 15, 17, 33, 22, 6, 28, 36, 26, 27, 0, 13, 37, 3, 7, 16, 32, 31, 38, 5, 18, 21, 10, 20, 30, 25, 24, 12, 35, 4, 39], 32: [34, 4, 21, 3, 14, 33, 1, 28, 29, 0, 15, 39, 11, 16, 18, 10, 30, 23, 6, 19, 32, 17, 9, 25, 38, 26, 13, 35, 22, 2, 20, 24, 7, 8, 36, 27, 31, 12, 5, 37], 33: [12, 29, 26, 28, 11, 1, 23, 20, 37, 31, 6, 38, 13, 27, 2, 32, 22, 14, 7, 18, 24, 35, 19, 3, 25, 17, 36, 0, 34, 21, 9, 8, 10, 5, 16, 15, 39, 33, 30, 4], 34: [9, 30, 19, 38, 26, 10, 28, 16, 22, 27, 20, 39, 6, 5, 11, 4, 35, 34, 1, 23, 12, 32, 18, 33, 37, 36, 17, 31, 8, 0, 21, 2, 14, 15, 25, 24, 7, 13, 3, 29], 35: [0, 24, 15, 8, 33, 30, 29, 28, 18, 35, 38, 12, 26, 13, 4, 22, 1, 32, 25, 19, 14, 36, 9, 27, 34, 2, 39, 20, 16, 17, 31, 6, 21, 10, 11, 23, 5, 7, 3, 37], 36: [33, 24, 8, 4, 20, 38, 2, 0, 30, 13, 7, 9, 37, 31, 21, 32, 16, 36, 3, 34, 26, 10, 29, 6, 28, 23, 39, 22, 12, 14, 15, 25, 1, 27, 17, 18, 11, 5, 35, 19], 37: [16, 26, 9, 17, 20, 10, 5, 38, 22, 34, 0, 25, 18, 23, 29, 15, 39, 12, 27, 30, 4, 14, 28, 36, 24, 11, 21, 32, 33, 8, 2, 37, 6, 13, 1, 31, 3, 7, 19, 35], 38: [32, 24, 16, 34, 19, 10, 1, 36, 4, 8, 37, 12, 35, 17, 29, 14, 13, 39, 28, 15, 26, 22, 0, 11, 33, 30, 23, 3, 38, 7, 9, 21, 18, 6, 20, 27, 31, 2, 25, 5], 39: [32, 37, 30, 10, 8, 18, 27, 5, 2, 22, 9, 16, 29, 21, 34, 35, 31, 3, 1, 23, 39, 17, 36, 7, 25, 28, 12, 24, 15, 26, 38, 20, 19, 0, 11, 13, 6, 14, 4, 33]}\n",
            "Matching: {22: 0, 13: 23, 26: 32, 23: 22, 4: 19, 39: 16, 35: 30, 38: 8, 0: 9, 17: 10, 24: 11, 5: 12, 32: 4, 2: 38, 9: 39, 16: 17, 34: 27, 1: 26, 36: 7, 30: 24, 11: 25, 28: 15, 6: 5, 33: 28, 37: 20, 20: 6, 19: 33, 27: 3, 31: 1, 3: 29, 7: 18, 12: 13, 15: 21, 29: 37, 21: 36, 25: 31, 10: 2, 18: 35, 14: 14, 8: 34}\n"
          ]
        }
      ]
    },
    {
      "cell_type": "code",
      "source": [
        "# Irving Algorithm\n",
        "\n",
        "def irving_algorithm(n, preferences):\n",
        "    # Initialize matches and availability\n",
        "    matches = {}\n",
        "    individuals_available = {i: True for i in range(n)}\n",
        "\n",
        "    # Continue until all individuals are matched\n",
        "    while any(individuals_available.values()):\n",
        "        for person in range(n):\n",
        "            if individuals_available[person]:\n",
        "                # Get the preference list of the person\n",
        "                preference_list = preferences[person]\n",
        "\n",
        "                # Find the most preferred available roommate\n",
        "                roommate = next(p for p in preference_list if individuals_available[p])\n",
        "\n",
        "                if roommate not in matches:\n",
        "                    # Roommate is not matched, match them\n",
        "                    matches[person] = roommate\n",
        "                    matches[roommate] = person\n",
        "                    individuals_available[person] = False\n",
        "                    individuals_available[roommate] = False\n",
        "                else:\n",
        "                    # Roommate is matched, compare preferences\n",
        "                    current_match = matches[roommate]\n",
        "                    if preference_list.index(person) < preference_list.index(current_match):\n",
        "                        # Current match is less preferred, update the match\n",
        "                        matches[person] = roommate\n",
        "                        matches[roommate] = person\n",
        "                        individuals_available[person] = False\n",
        "                        individuals_available[current_match] = True\n",
        "\n",
        "    return matches\n"
      ],
      "metadata": {
        "id": "gZmVL1IaNjuV"
      },
      "execution_count": 5,
      "outputs": []
    },
    {
      "cell_type": "code",
      "source": [
        "# Example n = 4\n",
        "n = 4\n",
        "\n",
        "# Generate random preferences\n",
        "preferences = generate_random_preferences(n)\n",
        "print(\"Preferences:\", preferences)\n",
        "\n",
        "result3 = irving_algorithm(n, preferences)\n",
        "print(\"Matching:\", result3)"
      ],
      "metadata": {
        "colab": {
          "base_uri": "https://localhost:8080/"
        },
        "id": "-hRQxsdBR1JR",
        "outputId": "5f326c66-2e9e-49b2-8c9f-9e8e307d487e"
      },
      "execution_count": 6,
      "outputs": [
        {
          "output_type": "stream",
          "name": "stdout",
          "text": [
            "Preferences: {0: [3, 2, 1, 0], 1: [1, 0, 2, 3], 2: [1, 3, 2, 0], 3: [0, 1, 3, 2]}\n",
            "Matching: {0: 3, 3: 0, 1: 1, 2: 2}\n"
          ]
        }
      ]
    },
    {
      "cell_type": "code",
      "source": [
        "# Example n = 40\n",
        "n = 40\n",
        "\n",
        "# Generate random preferences\n",
        "preferences = generate_random_preferences(n)\n",
        "print(\"Preferences:\", preferences)\n",
        "\n",
        "result3 = irving_algorithm(n, preferences)\n",
        "print(\"Matching:\", result3)"
      ],
      "metadata": {
        "colab": {
          "base_uri": "https://localhost:8080/"
        },
        "id": "-qoxyxsESiBc",
        "outputId": "3b0d96ca-7e80-42da-9ef8-329d5434259a"
      },
      "execution_count": 7,
      "outputs": [
        {
          "output_type": "stream",
          "name": "stdout",
          "text": [
            "Preferences: {0: [5, 35, 15, 1, 18, 4, 10, 3, 12, 24, 22, 17, 16, 23, 26, 13, 27, 34, 30, 38, 29, 19, 14, 6, 2, 31, 36, 20, 25, 7, 33, 11, 28, 8, 39, 37, 21, 9, 32, 0], 1: [23, 19, 29, 32, 21, 36, 24, 12, 30, 15, 13, 31, 22, 20, 35, 1, 2, 5, 4, 14, 10, 17, 39, 0, 37, 11, 28, 27, 38, 9, 34, 8, 3, 33, 7, 16, 25, 6, 18, 26], 2: [37, 6, 36, 2, 3, 19, 22, 28, 25, 0, 24, 1, 35, 32, 29, 13, 27, 7, 30, 39, 31, 15, 14, 38, 12, 18, 4, 34, 23, 16, 21, 11, 5, 20, 8, 10, 17, 26, 9, 33], 3: [3, 30, 26, 29, 2, 22, 6, 10, 15, 32, 8, 9, 31, 0, 25, 34, 33, 35, 27, 11, 28, 37, 38, 13, 7, 16, 20, 14, 4, 1, 24, 21, 23, 17, 39, 19, 36, 12, 5, 18], 4: [11, 0, 19, 36, 37, 27, 18, 4, 1, 20, 39, 2, 33, 5, 8, 34, 26, 28, 32, 22, 16, 30, 17, 3, 23, 21, 35, 15, 31, 6, 25, 12, 29, 14, 10, 24, 13, 9, 7, 38], 5: [21, 25, 20, 5, 13, 2, 7, 28, 9, 10, 6, 16, 26, 39, 29, 1, 27, 23, 0, 3, 8, 35, 15, 18, 11, 24, 17, 4, 34, 19, 36, 14, 12, 31, 22, 38, 37, 33, 30, 32], 6: [35, 21, 0, 31, 12, 39, 25, 2, 10, 6, 18, 30, 28, 13, 1, 29, 38, 37, 20, 5, 15, 32, 3, 11, 27, 7, 24, 17, 23, 4, 16, 19, 22, 33, 8, 9, 34, 36, 26, 14], 7: [19, 5, 10, 26, 22, 13, 23, 27, 4, 16, 38, 9, 8, 17, 0, 28, 35, 20, 15, 32, 3, 1, 18, 6, 34, 39, 21, 12, 29, 7, 14, 11, 36, 37, 2, 30, 25, 33, 31, 24], 8: [22, 6, 24, 33, 8, 21, 15, 27, 9, 36, 30, 26, 11, 37, 25, 17, 4, 28, 12, 16, 19, 35, 10, 20, 23, 29, 38, 0, 31, 3, 1, 5, 39, 13, 7, 2, 18, 34, 14, 32], 9: [30, 34, 6, 18, 26, 23, 9, 21, 17, 22, 36, 27, 14, 20, 3, 39, 31, 4, 2, 16, 38, 10, 8, 12, 29, 5, 32, 13, 24, 25, 19, 0, 37, 1, 7, 35, 11, 33, 15, 28], 10: [2, 7, 4, 32, 18, 6, 26, 27, 22, 11, 10, 8, 5, 29, 20, 31, 25, 3, 33, 12, 1, 39, 13, 0, 21, 24, 15, 36, 17, 35, 30, 19, 38, 28, 16, 23, 9, 34, 14, 37], 11: [12, 30, 3, 1, 23, 25, 32, 38, 18, 8, 6, 5, 35, 26, 7, 2, 27, 4, 16, 13, 33, 17, 37, 0, 22, 24, 19, 15, 39, 11, 31, 9, 28, 29, 34, 21, 10, 14, 20, 36], 12: [23, 7, 34, 1, 13, 3, 35, 0, 14, 29, 12, 30, 4, 11, 25, 37, 32, 39, 15, 6, 27, 21, 26, 20, 2, 31, 19, 33, 8, 22, 36, 9, 17, 28, 5, 16, 24, 10, 18, 38], 13: [28, 19, 6, 33, 14, 34, 21, 10, 15, 7, 24, 27, 18, 0, 25, 38, 23, 36, 5, 32, 39, 22, 16, 4, 1, 13, 3, 37, 31, 12, 30, 17, 26, 11, 20, 35, 9, 2, 8, 29], 14: [28, 11, 34, 3, 35, 21, 1, 20, 24, 32, 12, 19, 29, 16, 22, 38, 9, 37, 10, 39, 23, 4, 17, 25, 2, 30, 0, 13, 26, 15, 18, 31, 36, 14, 33, 27, 6, 8, 5, 7], 15: [9, 29, 11, 36, 12, 7, 0, 37, 24, 33, 20, 16, 4, 15, 14, 6, 35, 28, 19, 1, 34, 30, 39, 38, 25, 18, 3, 26, 5, 21, 2, 22, 8, 10, 23, 27, 31, 13, 32, 17], 16: [16, 10, 4, 34, 24, 25, 37, 29, 15, 9, 38, 18, 21, 19, 20, 39, 26, 2, 23, 27, 1, 13, 3, 35, 33, 17, 22, 30, 5, 12, 7, 6, 8, 0, 32, 14, 11, 36, 31, 28], 17: [0, 23, 16, 20, 28, 14, 37, 10, 39, 7, 22, 19, 29, 33, 35, 26, 25, 24, 15, 21, 36, 18, 13, 5, 11, 3, 9, 1, 31, 27, 32, 6, 30, 4, 8, 17, 2, 34, 12, 38], 18: [15, 39, 29, 25, 26, 38, 22, 31, 9, 8, 16, 10, 24, 14, 36, 17, 34, 19, 23, 12, 33, 27, 6, 18, 13, 28, 7, 5, 37, 3, 2, 21, 35, 4, 32, 1, 30, 20, 0, 11], 19: [3, 9, 1, 28, 22, 2, 20, 10, 21, 37, 33, 7, 4, 34, 39, 35, 19, 13, 27, 31, 5, 6, 24, 12, 23, 14, 30, 29, 38, 25, 16, 8, 36, 26, 18, 17, 15, 11, 32, 0], 20: [12, 38, 25, 0, 17, 27, 14, 26, 39, 21, 10, 29, 28, 31, 35, 2, 33, 9, 3, 36, 23, 6, 19, 1, 7, 30, 15, 37, 32, 24, 8, 20, 22, 11, 34, 16, 18, 5, 13, 4], 21: [23, 15, 28, 17, 22, 26, 5, 14, 33, 32, 12, 3, 24, 27, 35, 19, 20, 11, 31, 7, 25, 1, 8, 10, 36, 4, 38, 37, 16, 34, 18, 9, 30, 21, 13, 0, 39, 2, 29, 6], 22: [15, 34, 31, 32, 35, 1, 6, 29, 39, 24, 28, 9, 16, 18, 26, 21, 11, 25, 36, 12, 33, 5, 4, 0, 3, 13, 14, 19, 20, 8, 27, 30, 38, 17, 23, 7, 10, 22, 2, 37], 23: [38, 37, 16, 14, 23, 9, 12, 3, 18, 7, 6, 26, 35, 28, 19, 20, 22, 25, 27, 31, 13, 30, 4, 33, 17, 8, 24, 15, 2, 39, 11, 21, 29, 5, 1, 0, 36, 32, 10, 34], 24: [38, 19, 21, 22, 9, 30, 0, 24, 13, 8, 2, 36, 16, 27, 10, 28, 18, 37, 3, 35, 39, 15, 14, 31, 26, 20, 17, 4, 12, 33, 32, 1, 29, 7, 5, 6, 34, 23, 25, 11], 25: [14, 10, 3, 19, 0, 35, 38, 17, 13, 2, 7, 30, 8, 24, 28, 25, 31, 4, 21, 16, 26, 32, 9, 11, 39, 33, 36, 34, 27, 5, 6, 18, 1, 15, 37, 29, 22, 20, 23, 12], 26: [30, 16, 19, 1, 10, 37, 38, 7, 25, 34, 26, 11, 4, 36, 12, 21, 18, 5, 27, 3, 15, 14, 29, 22, 8, 35, 33, 2, 13, 23, 9, 31, 20, 6, 28, 24, 0, 17, 32, 39], 27: [34, 16, 36, 18, 31, 35, 15, 37, 26, 17, 27, 0, 1, 32, 39, 8, 19, 4, 28, 25, 7, 24, 13, 23, 33, 12, 11, 5, 38, 21, 14, 29, 22, 3, 30, 9, 10, 6, 2, 20], 28: [8, 16, 6, 1, 34, 27, 0, 17, 33, 36, 18, 28, 32, 21, 3, 19, 30, 10, 5, 11, 29, 12, 31, 9, 7, 22, 39, 15, 26, 23, 14, 13, 24, 38, 20, 2, 37, 35, 4, 25], 29: [3, 12, 20, 21, 28, 4, 6, 34, 8, 32, 9, 26, 11, 35, 36, 14, 17, 27, 2, 33, 37, 39, 19, 16, 31, 24, 0, 15, 38, 29, 25, 18, 22, 23, 13, 10, 7, 1, 5, 30], 30: [25, 32, 3, 2, 5, 7, 17, 29, 6, 19, 12, 35, 4, 20, 10, 15, 18, 31, 22, 33, 28, 16, 38, 30, 8, 9, 36, 34, 37, 26, 14, 23, 24, 0, 11, 27, 21, 39, 1, 13], 31: [36, 30, 26, 9, 22, 21, 23, 13, 14, 5, 25, 20, 27, 18, 4, 35, 10, 16, 2, 15, 24, 3, 11, 29, 17, 19, 8, 33, 28, 12, 34, 1, 39, 32, 6, 7, 37, 0, 31, 38], 32: [25, 37, 20, 5, 28, 21, 15, 31, 36, 34, 13, 0, 11, 29, 30, 1, 3, 7, 38, 32, 17, 14, 16, 4, 2, 26, 35, 27, 22, 10, 12, 18, 39, 24, 6, 23, 8, 33, 19, 9], 33: [8, 35, 38, 11, 2, 21, 5, 32, 20, 19, 30, 33, 4, 9, 26, 27, 7, 39, 3, 22, 6, 16, 24, 37, 25, 12, 34, 14, 1, 10, 23, 31, 28, 29, 0, 18, 15, 13, 36, 17], 34: [23, 34, 22, 39, 24, 10, 18, 21, 12, 9, 38, 25, 0, 28, 16, 19, 1, 6, 37, 15, 36, 32, 27, 4, 13, 5, 35, 7, 31, 20, 33, 2, 11, 29, 17, 3, 8, 30, 14, 26], 35: [14, 33, 9, 26, 1, 7, 11, 34, 10, 6, 39, 8, 31, 21, 27, 35, 0, 37, 2, 19, 13, 29, 22, 5, 18, 24, 12, 30, 23, 3, 38, 17, 20, 28, 32, 15, 25, 16, 36, 4], 36: [8, 39, 25, 0, 22, 20, 31, 14, 36, 18, 19, 16, 37, 9, 38, 35, 11, 27, 30, 3, 29, 10, 17, 33, 4, 32, 21, 23, 26, 15, 5, 12, 1, 2, 6, 24, 13, 7, 28, 34], 37: [9, 17, 37, 22, 4, 24, 7, 2, 39, 16, 38, 29, 5, 34, 19, 33, 21, 20, 26, 18, 27, 13, 10, 14, 12, 28, 31, 15, 1, 8, 11, 6, 36, 0, 32, 30, 23, 3, 35, 25], 38: [3, 8, 37, 17, 25, 9, 36, 32, 23, 27, 0, 13, 24, 34, 16, 19, 28, 18, 20, 22, 10, 14, 2, 33, 7, 4, 21, 39, 12, 35, 15, 29, 26, 30, 1, 38, 31, 5, 6, 11], 39: [35, 34, 0, 17, 5, 19, 7, 24, 13, 4, 25, 12, 26, 32, 6, 31, 8, 33, 28, 27, 10, 22, 16, 18, 30, 11, 23, 29, 1, 36, 3, 9, 2, 39, 21, 14, 38, 20, 15, 37]}\n",
            "Matching: {0: 5, 5: 0, 1: 23, 23: 1, 2: 37, 37: 2, 3: 3, 4: 11, 11: 4, 6: 35, 35: 6, 7: 19, 19: 7, 8: 22, 22: 8, 9: 30, 30: 9, 10: 32, 32: 10, 12: 34, 34: 12, 13: 28, 28: 13, 14: 21, 21: 14, 15: 29, 29: 15, 16: 16, 17: 20, 20: 17, 18: 39, 39: 18, 24: 38, 38: 24, 25: 25, 26: 26, 27: 36, 36: 27, 31: 33, 33: 31}\n"
          ]
        }
      ]
    },
    {
      "cell_type": "markdown",
      "source": [
        "##2. Run the Gale-Shapley Algorithm 100 times using random permutations as preference lists for n=4 and 40. Find the minimum, maximum and average number of iterations and plot the distribution of the number of iterations.\n"
      ],
      "metadata": {
        "id": "Ckh6gQGWS-r0"
      }
    },
    {
      "cell_type": "code",
      "source": [
        "import random\n",
        "import networkx as nx\n",
        "import matplotlib.pyplot as plt\n",
        "\n",
        "def stable_marriage(n, men_preferences, women_preferences):\n",
        "    # Initialize matches and availability\n",
        "    matches = {}\n",
        "    men_available = {man: True for man in range(n)}\n",
        "\n",
        "    # Initialize iteration count\n",
        "    iterations = 0\n",
        "\n",
        "    # Continue until all men are matched\n",
        "    while any(men_available.values()):\n",
        "        for man in range(n):\n",
        "            if men_available[man]:\n",
        "                # Increment iteration count\n",
        "                iterations += 1\n",
        "\n",
        "                # Get the woman according to the man's preference\n",
        "                woman = men_preferences[man].pop(0)\n",
        "\n",
        "                # Check if the woman is already engaged\n",
        "                current_man = matches.get(woman)\n",
        "\n",
        "                if current_man is None:\n",
        "                    # Woman is not engaged, match them\n",
        "                    matches[woman] = man\n",
        "                    men_available[man] = False\n",
        "                else:\n",
        "                    # Woman is engaged, compare preferences\n",
        "                    current_woman_pref = women_preferences[woman]\n",
        "                    if current_woman_pref.index(current_man) > current_woman_pref.index(man):\n",
        "                        # Current man is less preferred, update the match\n",
        "                        matches[woman] = man\n",
        "                        men_available[man] = False\n",
        "                        men_available[current_man] = True\n",
        "\n",
        "    return matches, iterations\n",
        "\n",
        "def run_experiment(n, num_trials):\n",
        "    # Run the Gale-Shapley algorithm multiple times and collect iteration counts\n",
        "    iteration_counts = []\n",
        "\n",
        "    for _ in range(num_trials):\n",
        "        men_preferences = generate_random_preferences(n)\n",
        "        women_preferences = generate_random_preferences(n)\n",
        "\n",
        "        # Run Gale-Shapley algorithm and record the number of iterations\n",
        "        _, iterations = stable_marriage(n, men_preferences, women_preferences)\n",
        "        iteration_counts.append(iterations)\n",
        "\n",
        "    return iteration_counts\n",
        "\n",
        "def calculate_statistics(iteration_counts):\n",
        "    # Calculate and display statistics for iteration counts\n",
        "    min_iterations = min(iteration_counts)\n",
        "    max_iterations = max(iteration_counts)\n",
        "    avg_iterations = sum(iteration_counts) / len(iteration_counts)\n",
        "\n",
        "    return min_iterations, max_iterations, avg_iterations\n",
        "\n",
        "def plot_distribution(iteration_counts, n):\n",
        "    # Plot the distribution of iteration counts\n",
        "    plt.hist(iteration_counts, bins=range(min(iteration_counts), max(iteration_counts) + 1), align='left', density=True, alpha=0.75)\n",
        "    plt.title(f'Distribution of Iteration Counts (n={n})')\n",
        "    plt.xlabel('Number of Iterations')\n",
        "    plt.ylabel('Frequency')\n",
        "    plt.show()\n",
        "\n",
        "# Run the experiment for n=4 and n=40\n",
        "num_trials = 100\n",
        "iteration_counts_n4 = run_experiment(4, num_trials)\n",
        "iteration_counts_n40 = run_experiment(40, num_trials)\n",
        "\n",
        "# Display statistics for n=4\n",
        "min_iter_n4, max_iter_n4, avg_iter_n4 = calculate_statistics(iteration_counts_n4)\n",
        "print(f\"Statistics for n=4:\")\n",
        "print(f\"Min Iterations: {min_iter_n4}\")\n",
        "print(f\"Max Iterations: {max_iter_n4}\")\n",
        "print(f\"Avg Iterations: {avg_iter_n4}\")\n",
        "\n",
        "# Display statistics for n=40\n",
        "min_iter_n40, max_iter_n40, avg_iter_n40 = calculate_statistics(iteration_counts_n40)\n",
        "print(f\"\\nStatistics for n=40:\")\n",
        "print(f\"Min Iterations: {min_iter_n40}\")\n",
        "print(f\"Max Iterations: {max_iter_n40}\")\n",
        "print(f\"Avg Iterations: {avg_iter_n40}\")\n",
        "\n",
        "# Plot distribution for n=4\n",
        "plot_distribution(iteration_counts_n4, 4)\n",
        "\n",
        "# Plot distribution for n=40\n",
        "plot_distribution(iteration_counts_n40, 40)\n"
      ],
      "metadata": {
        "id": "CNdVOE16THfE",
        "colab": {
          "base_uri": "https://localhost:8080/",
          "height": 1000
        },
        "outputId": "ba1ee860-35bd-477b-82ba-89ced581287d"
      },
      "execution_count": 6,
      "outputs": [
        {
          "output_type": "stream",
          "name": "stdout",
          "text": [
            "Statistics for n=4:\n",
            "Min Iterations: 4\n",
            "Max Iterations: 10\n",
            "Avg Iterations: 6.5\n",
            "\n",
            "Statistics for n=40:\n",
            "Min Iterations: 79\n",
            "Max Iterations: 261\n",
            "Avg Iterations: 157.48\n"
          ]
        },
        {
          "output_type": "display_data",
          "data": {
            "text/plain": [
              "<Figure size 640x480 with 1 Axes>"
            ],
            "image/png": "[encoded data removed]"
          },
          "metadata": {}
        },
        {
          "output_type": "display_data",
          "data": {
            "text/plain": [
              "<Figure size 640x480 with 1 Axes>"
            ],
            "image/png": "[encoded data removed]"
          },
          "metadata": {}
        }
      ]
    },
    {
      "cell_type": "markdown",
      "source": [
        "##3. Simulate the the Gale-Shapley and Irving algorithms using random preference lists , for n=4 and 40 and generate a gift animation fo the type show in “Illustrating the Deferred Acceptance Algorithm with R – Code r-bloggers\n",
        "##* Gale Shapley R github\n",
        "##* Deferred acceptance algorithm after Gale and Shapley R github\n",
        "##* Creating animated GIFs with Pillow pythoninformer\n",
        "##* Image manipulation recipes in Pillow pythoninformer\n",
        "##* How do I plot a grayscale image with a 2D array of random numbers in Python? quora"
      ],
      "metadata": {
        "id": "_fl4y40hpYqC"
      }
    },
    {
      "cell_type": "code",
      "source": [
        "import random\n",
        "import matplotlib.pyplot as plt\n",
        "from matplotlib.animation import FuncAnimation\n",
        "\n",
        "# Gale-Shapley Algorithm\n",
        "\n",
        "def stable_marriage(n, men_preferences, women_preferences):\n",
        "    # Initialize matches and availability\n",
        "    matches = {}\n",
        "    men_available = {man: True for man in range(n)}\n",
        "    iterations = 0\n",
        "\n",
        "    # Continue until all men are matched\n",
        "    while any(men_available.values()):\n",
        "        iterations += 1\n",
        "        for man in range(n):\n",
        "            if men_available[man]:\n",
        "                # Get the woman according to the man's preference\n",
        "                woman = men_preferences[man].pop(0)\n",
        "\n",
        "                # Check if the woman is already engaged\n",
        "                current_man = matches.get(woman)\n",
        "\n",
        "                if current_man is None:\n",
        "                    # Woman is not engaged, match them\n",
        "                    matches[woman] = man\n",
        "                    men_available[man] = False\n",
        "                else:\n",
        "                    # Woman is engaged, compare preferences\n",
        "                    current_woman_pref = women_preferences[woman]\n",
        "                    if current_woman_pref.index(current_man) > current_woman_pref.index(man):\n",
        "                        # Current man is less preferred, update the match\n",
        "                        matches[woman] = man\n",
        "                        men_available[man] = False\n",
        "                        men_available[current_man] = True\n",
        "\n",
        "    return matches, iterations\n",
        "\n",
        "\n",
        "def simulate_and_plot(n, num_frames):\n",
        "    men_preferences = generate_random_preferences(n)\n",
        "    women_preferences = generate_random_preferences(n)\n",
        "\n",
        "    # Store intermediate results for animation\n",
        "    results = []\n",
        "\n",
        "    for _ in range(num_frames):\n",
        "        # Run Gale-Shapley algorithm\n",
        "        _, iterations = stable_marriage(n, men_preferences, women_preferences)\n",
        "        results.append((dict(men_preferences), dict(women_preferences), iterations))\n",
        "\n",
        "    return results\n",
        "\n",
        "def update(frame, men_preferences, women_preferences, sc, text):\n",
        "    # Update the scatter plot and text for each frame\n",
        "    men_text = [f'Man {i}\\n{men_preferences[i]}' for i in range(len(men_preferences))]\n",
        "    women_text = [f'Woman {i}\\n{women_preferences[i]}' for i in range(len(women_preferences))]\n",
        "\n",
        "    text.set_text(f'Iteration: {frame + 1}')\n",
        "    sc.set_offsets([(0, i) for i in range(len(men_preferences))])\n",
        "    text.set_text(f'Iteration: {frame + 1}')\n",
        "    text.set_text(f'Iteration: {frame + 1}')\n",
        "    text.set_text(f'Iteration: {frame + 1}')\n",
        "\n",
        "# Simulate and plot the animation\n",
        "n = 4\n",
        "num_frames = 10\n",
        "\n",
        "results = simulate_and_plot(n, num_frames)\n",
        "\n",
        "# Set up the initial plot\n",
        "fig, ax = plt.subplots()\n",
        "sc = ax.scatter([0] * n, range(n), s=200, c='blue', marker='o')\n",
        "text = ax.text(0.5, 1.05, '', transform=ax.transAxes, fontsize=10, ha='center')\n",
        "\n",
        "# Create the animation\n",
        "ani = FuncAnimation(fig, update, frames=num_frames, fargs=results, blit=False)\n",
        "\n",
        "# Save the animation as a GIF\n",
        "ani.save('gale_shapley_animation.gif', writer='imagemagick', fps=1)\n",
        "\n",
        "# Display the plot\n",
        "plt.show()\n"
      ],
      "metadata": {
        "id": "LQAm5m_QqASP"
      },
      "execution_count": 7,
      "outputs": []
    }
  ]
}