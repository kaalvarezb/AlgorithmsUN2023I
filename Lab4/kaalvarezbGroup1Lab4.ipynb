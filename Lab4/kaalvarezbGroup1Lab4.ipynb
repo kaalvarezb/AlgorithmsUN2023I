{
  "cells": [
    {
      "cell_type": "code",
      "execution_count": null,
      "metadata": {
        "id": "im-VVd1__7VU",
        "colab": {
          "base_uri": "https://localhost:8080/"
        },
        "outputId": "6fb75e66-f3e5-499c-d4d9-2e9b720ad491"
      },
      "outputs": [
        {
          "output_type": "stream",
          "name": "stdout",
          "text": [
            "processor\t: 0\n",
            "vendor_id\t: GenuineIntel\n",
            "cpu family\t: 6\n",
            "model\t\t: 79\n",
            "model name\t: Intel(R) Xeon(R) CPU @ 2.20GHz\n",
            "stepping\t: 0\n",
            "microcode\t: 0xffffffff\n",
            "cpu MHz\t\t: 2199.998\n",
            "cache size\t: 56320 KB\n",
            "physical id\t: 0\n",
            "siblings\t: 2\n",
            "core id\t\t: 0\n",
            "cpu cores\t: 1\n",
            "apicid\t\t: 0\n",
            "initial apicid\t: 0\n",
            "fpu\t\t: yes\n",
            "fpu_exception\t: yes\n",
            "cpuid level\t: 13\n",
            "wp\t\t: yes\n",
            "flags\t\t: fpu vme de pse tsc msr pae mce cx8 apic sep mtrr pge mca cmov pat pse36 clflush mmx fxsr sse sse2 ss ht syscall nx pdpe1gb rdtscp lm constant_tsc rep_good nopl xtopology nonstop_tsc cpuid tsc_known_freq pni pclmulqdq ssse3 fma cx16 pcid sse4_1 sse4_2 x2apic movbe popcnt aes xsave avx f16c rdrand hypervisor lahf_lm abm 3dnowprefetch invpcid_single ssbd ibrs ibpb stibp fsgsbase tsc_adjust bmi1 hle avx2 smep bmi2 erms invpcid rtm rdseed adx smap xsaveopt arat md_clear arch_capabilities\n",
            "bugs\t\t: cpu_meltdown spectre_v1 spectre_v2 spec_store_bypass l1tf mds swapgs taa mmio_stale_data retbleed\n",
            "bogomips\t: 4399.99\n",
            "clflush size\t: 64\n",
            "cache_alignment\t: 64\n",
            "address sizes\t: 46 bits physical, 48 bits virtual\n",
            "power management:\n",
            "\n",
            "processor\t: 1\n",
            "vendor_id\t: GenuineIntel\n",
            "cpu family\t: 6\n",
            "model\t\t: 79\n",
            "model name\t: Intel(R) Xeon(R) CPU @ 2.20GHz\n",
            "stepping\t: 0\n",
            "microcode\t: 0xffffffff\n",
            "cpu MHz\t\t: 2199.998\n",
            "cache size\t: 56320 KB\n",
            "physical id\t: 0\n",
            "siblings\t: 2\n",
            "core id\t\t: 0\n",
            "cpu cores\t: 1\n",
            "apicid\t\t: 1\n",
            "initial apicid\t: 1\n",
            "fpu\t\t: yes\n",
            "fpu_exception\t: yes\n",
            "cpuid level\t: 13\n",
            "wp\t\t: yes\n",
            "flags\t\t: fpu vme de pse tsc msr pae mce cx8 apic sep mtrr pge mca cmov pat pse36 clflush mmx fxsr sse sse2 ss ht syscall nx pdpe1gb rdtscp lm constant_tsc rep_good nopl xtopology nonstop_tsc cpuid tsc_known_freq pni pclmulqdq ssse3 fma cx16 pcid sse4_1 sse4_2 x2apic movbe popcnt aes xsave avx f16c rdrand hypervisor lahf_lm abm 3dnowprefetch invpcid_single ssbd ibrs ibpb stibp fsgsbase tsc_adjust bmi1 hle avx2 smep bmi2 erms invpcid rtm rdseed adx smap xsaveopt arat md_clear arch_capabilities\n",
            "bugs\t\t: cpu_meltdown spectre_v1 spectre_v2 spec_store_bypass l1tf mds swapgs taa mmio_stale_data retbleed\n",
            "bogomips\t: 4399.99\n",
            "clflush size\t: 64\n",
            "cache_alignment\t: 64\n",
            "address sizes\t: 46 bits physical, 48 bits virtual\n",
            "power management:\n",
            "\n"
          ]
        }
      ],
      "source": [
        "!cat /proc/cpuinfo"
      ]
    },
    {
      "cell_type": "markdown",
      "metadata": {
        "id": "N1ok_-56OjB1"
      },
      "source": [
        "# I Solving the Sum of Two Digits Programming Challenge"
      ]
    },
    {
      "cell_type": "markdown",
      "metadata": {
        "id": "MMY7kmDSO0KM"
      },
      "source": [
        "## C++"
      ]
    },
    {
      "cell_type": "code",
      "execution_count": null,
      "metadata": {
        "colab": {
          "base_uri": "https://localhost:8080/"
        },
        "id": "2pGGf9BkPNIk",
        "outputId": "8d5668d1-fa2a-417e-b0cd-68d34a3cd187"
      },
      "outputs": [
        {
          "output_type": "stream",
          "name": "stdout",
          "text": [
            "Overwriting APlusB.cpp\n"
          ]
        }
      ],
      "source": [
        "%%writefile APlusB.cpp\n",
        "#include <iostream>\n",
        "\n",
        "int sum_of_two_digits(int first_digit, int second_digit) {\n",
        "    return first_digit + second_digit;\n",
        "}\n",
        "\n",
        "int main() {\n",
        "    int a = 0;\n",
        "    int b = 0;\n",
        "    std::cin >> a;\n",
        "    std::cin >> b;\n",
        "    std::cout << sum_of_two_digits(a, b);\n",
        "    return 0;\n",
        "}"
      ]
    },
    {
      "cell_type": "code",
      "execution_count": null,
      "metadata": {
        "id": "0G3ZKOYAPXSU",
        "colab": {
          "base_uri": "https://localhost:8080/"
        },
        "outputId": "9ca7bee4-7afb-40a6-cd0c-9279d877f3fb"
      },
      "outputs": [
        {
          "output_type": "stream",
          "name": "stdout",
          "text": [
            "^C\n"
          ]
        }
      ],
      "source": [
        "!g++ APlusB.cpp -o APlusB -std=c++11\n",
        "!./APlusB"
      ]
    },
    {
      "cell_type": "markdown",
      "metadata": {
        "id": "iNkG2HqfTl9c"
      },
      "source": [
        "### Test input output files"
      ]
    },
    {
      "cell_type": "code",
      "execution_count": null,
      "metadata": {
        "colab": {
          "base_uri": "https://localhost:8080/"
        },
        "id": "aTzU2efzMxly",
        "outputId": "c30f804e-8ed2-4086-a45c-5b21b2cffc50"
      },
      "outputs": [
        {
          "output_type": "stream",
          "name": "stdout",
          "text": [
            "Writing input1.txt\n"
          ]
        }
      ],
      "source": [
        "%%writefile input1.txt\n",
        "4 8"
      ]
    },
    {
      "cell_type": "code",
      "execution_count": null,
      "metadata": {
        "colab": {
          "base_uri": "https://localhost:8080/"
        },
        "id": "zBJ0Gc0NQRet",
        "outputId": "f52ca4d2-de7a-4f4b-a050-2ce97204c7bf"
      },
      "outputs": [
        {
          "output_type": "stream",
          "name": "stdout",
          "text": [
            "Writing output1.txt\n"
          ]
        }
      ],
      "source": [
        "%%writefile output1.txt\n",
        "12"
      ]
    },
    {
      "cell_type": "code",
      "execution_count": null,
      "metadata": {
        "colab": {
          "base_uri": "https://localhost:8080/"
        },
        "id": "IjEcIx63PJAN",
        "outputId": "096a3353-60d1-4575-d149-b44256405dac"
      },
      "outputs": [
        {
          "output_type": "stream",
          "name": "stdout",
          "text": [
            "Writing input2.txt\n"
          ]
        }
      ],
      "source": [
        "%%writefile input2.txt\n",
        "0 9"
      ]
    },
    {
      "cell_type": "code",
      "execution_count": null,
      "metadata": {
        "colab": {
          "base_uri": "https://localhost:8080/"
        },
        "id": "Up9gOrxURTmd",
        "outputId": "dfed9ff4-9c2e-4291-bbe1-f92f0d64e861"
      },
      "outputs": [
        {
          "output_type": "stream",
          "name": "stdout",
          "text": [
            "Writing output2.txt\n"
          ]
        }
      ],
      "source": [
        "%%writefile output2.txt\n",
        "9"
      ]
    },
    {
      "cell_type": "code",
      "execution_count": null,
      "metadata": {
        "colab": {
          "base_uri": "https://localhost:8080/"
        },
        "id": "PST6G-s-Pwgc",
        "outputId": "4d305090-0c1a-4cb0-c0c0-c379d391ffdd"
      },
      "outputs": [
        {
          "output_type": "stream",
          "name": "stdout",
          "text": [
            "12"
          ]
        }
      ],
      "source": [
        "!./APlusB < input1.txt"
      ]
    },
    {
      "cell_type": "code",
      "execution_count": null,
      "metadata": {
        "colab": {
          "base_uri": "https://localhost:8080/"
        },
        "id": "cKxZOjSlRfIN",
        "outputId": "713a081a-8a81-4acd-ff56-9ff2a3bfe688"
      },
      "outputs": [
        {
          "output_type": "stream",
          "name": "stdout",
          "text": [
            "9"
          ]
        }
      ],
      "source": [
        "!./APlusB < input2.txt"
      ]
    },
    {
      "cell_type": "markdown",
      "metadata": {
        "id": "Qw2TQWCCUwqk"
      },
      "source": [
        "### Comparing files with grep\n",
        "\n",
        "https://askubuntu.com/questions/546796/comparing-two-text-files"
      ]
    },
    {
      "cell_type": "code",
      "execution_count": null,
      "metadata": {
        "id": "WVIaAmMKU4QM"
      },
      "outputs": [],
      "source": [
        "!grep -xvFf output1.txt output1.txt"
      ]
    },
    {
      "cell_type": "code",
      "execution_count": null,
      "metadata": {
        "id": "MQU8gPPjQuYO",
        "colab": {
          "base_uri": "https://localhost:8080/"
        },
        "outputId": "d891d962-9908-49cc-fdf1-85da6b5043be"
      },
      "outputs": [
        {
          "output_type": "stream",
          "name": "stdout",
          "text": [
            "9\n"
          ]
        }
      ],
      "source": [
        "!grep -xvFf output1.txt output2.txt"
      ]
    },
    {
      "cell_type": "code",
      "execution_count": null,
      "metadata": {
        "colab": {
          "base_uri": "https://localhost:8080/"
        },
        "id": "jYL9OuYBTD_l",
        "outputId": "810e4d40-8245-4ea1-9245-81224584ff06"
      },
      "outputs": [
        {
          "output_type": "stream",
          "name": "stdout",
          "text": [
            "12\n"
          ]
        }
      ],
      "source": [
        "!grep -xvFf output2.txt output1.txt"
      ]
    },
    {
      "cell_type": "code",
      "execution_count": null,
      "metadata": {
        "id": "Jlja0Xm4TX9M"
      },
      "outputs": [],
      "source": [
        "!./APlusB < input1.txt> ctest1.txt\n",
        "!grep -xvFf output1.txt ctest1.txt"
      ]
    },
    {
      "cell_type": "code",
      "execution_count": null,
      "metadata": {
        "id": "g9OIUZA_QLCQ"
      },
      "outputs": [],
      "source": [
        "!./APlusB < input2.txt > ctest2.txt\n",
        "!grep -xvFf output2.txt ctest2.txt"
      ]
    },
    {
      "cell_type": "markdown",
      "metadata": {
        "id": "3BgOaDjUVJk6"
      },
      "source": [
        "## Python"
      ]
    },
    {
      "cell_type": "code",
      "execution_count": null,
      "metadata": {
        "colab": {
          "base_uri": "https://localhost:8080/"
        },
        "id": "DBvl-T0CTN_8",
        "outputId": "2b43e5f8-03da-4de6-c875-0b5769ffd689"
      },
      "outputs": [
        {
          "output_type": "stream",
          "name": "stdout",
          "text": [
            "Writing sum.py\n"
          ]
        }
      ],
      "source": [
        "%%writefile sum.py\n",
        "# python3\n",
        "\n",
        "def sum_of_two_digits(first_digit, second_digit):\n",
        "    return first_digit + second_digit\n",
        "\n",
        "if __name__ == '__main__':\n",
        "    a, b = map(int, input().split())\n",
        "    print(sum_of_two_digits(a, b))"
      ]
    },
    {
      "cell_type": "code",
      "execution_count": null,
      "metadata": {
        "colab": {
          "base_uri": "https://localhost:8080/"
        },
        "id": "QKoKM11_WGyF",
        "outputId": "f21076ef-4502-4209-edf6-2b48448cad5e"
      },
      "outputs": [
        {
          "output_type": "stream",
          "name": "stdout",
          "text": [
            "Traceback (most recent call last):\n",
            "  File \"/content/sum.py\", line 7, in <module>\n",
            "    a, b = map(int, input().split())\n",
            "KeyboardInterrupt\n",
            "^C\n"
          ]
        }
      ],
      "source": [
        "!python sum.py"
      ]
    },
    {
      "cell_type": "code",
      "execution_count": null,
      "metadata": {
        "id": "cocFbPRTWrqt"
      },
      "outputs": [],
      "source": [
        "!python sum.py  < input1.txt> ptest1.txt\n",
        "!grep -xvFf output1.txt ptest1.txt"
      ]
    },
    {
      "cell_type": "code",
      "execution_count": null,
      "metadata": {
        "id": "MorKTa-XXASN"
      },
      "outputs": [],
      "source": [
        "!python sum.py  < input2.txt> ptest2.txt\n",
        "!grep -xvFf output2.txt ptest2.txt"
      ]
    },
    {
      "cell_type": "markdown",
      "metadata": {
        "id": "uvP-mOubW_5F"
      },
      "source": [
        "# II Solving The Maximum Pairwise Product Programming Challenge in C++"
      ]
    },
    {
      "cell_type": "markdown",
      "metadata": {
        "id": "C12yoFR6Xonl"
      },
      "source": [
        "## C++"
      ]
    },
    {
      "cell_type": "code",
      "source": [
        "%%writefile max_pairwise_product_full.cpp\n",
        "#include <iostream>\n",
        "#include <vector>\n",
        "#include <algorithm>\n",
        "\n",
        "int MaxPairwiseProduct(const std::vector<int>& numbers) {\n",
        "    int max_product = 0;\n",
        "    int aux_product = 0;\n",
        "    int n = numbers.size();\n",
        "\n",
        "    for (int first = 0; first < n; ++first) {\n",
        "        for (int second = 0; second < n; ++second) {\n",
        "          if ( first != second ){\n",
        "                aux_product = numbers[first] * numbers[second];\n",
        "                if (aux_product > max_product)  max_product = aux_product;\n",
        "          }\n",
        "        }\n",
        "    }\n",
        "\n",
        "    return max_product;\n",
        "}\n",
        "\n",
        "int main() {\n",
        "    int n;\n",
        "    std::cin >> n;\n",
        "    std::vector<int> numbers(n);\n",
        "    for (int i = 0; i < n; ++i) {\n",
        "        std::cin >> numbers[i];\n",
        "    }\n",
        "\n",
        "    std::cout << MaxPairwiseProduct(numbers) << \"\\n\";\n",
        "    return 0;\n",
        "}"
      ],
      "metadata": {
        "colab": {
          "base_uri": "https://localhost:8080/"
        },
        "id": "3LpfoGv2Ae81",
        "outputId": "9c35b3a7-4e79-41ac-b6bc-68afaeb54376"
      },
      "execution_count": null,
      "outputs": [
        {
          "output_type": "stream",
          "name": "stdout",
          "text": [
            "Writing max_pairwise_product_full.cpp\n"
          ]
        }
      ]
    },
    {
      "cell_type": "code",
      "source": [
        "!g++ max_pairwise_product_full.cpp -o max_pairwise_product_full\n",
        "!./max_pairwise_product_full"
      ],
      "metadata": {
        "id": "PCVo1h6nCF9k",
        "colab": {
          "base_uri": "https://localhost:8080/"
        },
        "outputId": "631fb147-1f5c-46cf-e057-e2c8897b79af"
      },
      "execution_count": null,
      "outputs": [
        {
          "output_type": "stream",
          "name": "stdout",
          "text": [
            "^C\n"
          ]
        }
      ]
    },
    {
      "cell_type": "markdown",
      "metadata": {
        "id": "m75IQQPbEHBS"
      },
      "source": [
        "$$n^2 \\ \\text{first != second  comparisons},  n^2 - n \\ \\ \\text{numbers[first] * numbers[second] products},  O(n^2)$$"
      ]
    },
    {
      "cell_type": "markdown",
      "metadata": {
        "id": "e7KhxHGNS3i0"
      },
      "source": [
        "### Test 1: Small numbers"
      ]
    },
    {
      "cell_type": "code",
      "execution_count": null,
      "metadata": {
        "colab": {
          "base_uri": "https://localhost:8080/"
        },
        "id": "e1mmTzBgShT-",
        "outputId": "9db00c8e-931a-4be8-c004-be8dcf0de884"
      },
      "outputs": [
        {
          "output_type": "stream",
          "name": "stdout",
          "text": [
            "Overwriting input1.txt\n"
          ]
        }
      ],
      "source": [
        "%%writefile input1.txt\n",
        "10\n",
        "1 2 3 4 5 6 7 8 9 10"
      ]
    },
    {
      "cell_type": "code",
      "execution_count": null,
      "metadata": {
        "colab": {
          "base_uri": "https://localhost:8080/"
        },
        "id": "vy_uI0x7TCId",
        "outputId": "fdb2c123-3483-4223-f26b-5b434b06809e"
      },
      "outputs": [
        {
          "output_type": "stream",
          "name": "stdout",
          "text": [
            "90\n"
          ]
        }
      ],
      "source": [
        "!./max_pairwise_product_full < input1.txt"
      ]
    },
    {
      "cell_type": "code",
      "execution_count": null,
      "metadata": {
        "colab": {
          "base_uri": "https://localhost:8080/"
        },
        "id": "xaj6f9bxC6D6",
        "outputId": "0830b8e3-3680-458a-de4e-235ed03fe5dc"
      },
      "outputs": [
        {
          "output_type": "stream",
          "name": "stdout",
          "text": [
            "Overwriting output1.txt\n"
          ]
        }
      ],
      "source": [
        "%%writefile output1.txt\n",
        "90"
      ]
    },
    {
      "cell_type": "code",
      "execution_count": null,
      "metadata": {
        "id": "fYCjAdA_C-wy"
      },
      "outputs": [],
      "source": [
        "!./max_pairwise_product_full< input1.txt > ctest1.txt\n",
        "!grep -xvFf output1.txt ctest1.txt"
      ]
    },
    {
      "cell_type": "code",
      "source": [
        "%%writefile input2.txt\n",
        "10\n",
        "10 9 8 7 6 5 4 3 2 1"
      ],
      "metadata": {
        "colab": {
          "base_uri": "https://localhost:8080/"
        },
        "id": "ZPe40LY14_6f",
        "outputId": "8f8aa901-dca7-43b6-903d-1bb268fb8b41"
      },
      "execution_count": null,
      "outputs": [
        {
          "output_type": "stream",
          "name": "stdout",
          "text": [
            "Overwriting input2.txt\n"
          ]
        }
      ]
    },
    {
      "cell_type": "code",
      "source": [
        "%%writefile output2.txt\n",
        "90"
      ],
      "metadata": {
        "colab": {
          "base_uri": "https://localhost:8080/"
        },
        "id": "xiHmF7HA5Faa",
        "outputId": "18dad732-6dd1-4f54-f690-5612da0017cb"
      },
      "execution_count": null,
      "outputs": [
        {
          "output_type": "stream",
          "name": "stdout",
          "text": [
            "Overwriting output2.txt\n"
          ]
        }
      ]
    },
    {
      "cell_type": "code",
      "source": [
        "!./max_pairwise_product_full< input2.txt > ctest2.txt\n",
        "!grep -xvFf output2.txt ctest2.txt"
      ],
      "metadata": {
        "id": "jjwc9kwb5t_k"
      },
      "execution_count": null,
      "outputs": []
    },
    {
      "cell_type": "markdown",
      "metadata": {
        "id": "IeZ3kTjpYmR9"
      },
      "source": [
        "### Test 2: largest input numbers 200000 200000 in the input"
      ]
    },
    {
      "cell_type": "code",
      "execution_count": null,
      "metadata": {
        "colab": {
          "base_uri": "https://localhost:8080/"
        },
        "id": "LQNlZqaqYt7U",
        "outputId": "92a55d9b-d973-4b40-facd-79e6498891f5"
      },
      "outputs": [
        {
          "output_type": "stream",
          "name": "stdout",
          "text": [
            "Writing input3.txt\n"
          ]
        }
      ],
      "source": [
        "%%writefile input3.txt\n",
        "6\n",
        "1 3 200000 9 200000 23"
      ]
    },
    {
      "cell_type": "code",
      "execution_count": null,
      "metadata": {
        "colab": {
          "base_uri": "https://localhost:8080/"
        },
        "id": "GjQq7QOUCw-9",
        "outputId": "93031a8c-a919-4c59-cf8f-3328bb667478"
      },
      "outputs": [
        {
          "output_type": "execute_result",
          "data": {
            "text/plain": [
              "40000000000"
            ]
          },
          "metadata": {},
          "execution_count": 37
        }
      ],
      "source": [
        "200000*200000"
      ]
    },
    {
      "cell_type": "code",
      "execution_count": null,
      "metadata": {
        "colab": {
          "base_uri": "https://localhost:8080/"
        },
        "id": "EuS6n3jtDK5C",
        "outputId": "2a1189ed-b2d2-462b-fa43-4412f92c6b1d"
      },
      "outputs": [
        {
          "output_type": "stream",
          "name": "stdout",
          "text": [
            "Writing output3.txt\n"
          ]
        }
      ],
      "source": [
        "%%writefile output3.txt\n",
        "40000000000"
      ]
    },
    {
      "cell_type": "code",
      "execution_count": null,
      "metadata": {
        "colab": {
          "base_uri": "https://localhost:8080/"
        },
        "id": "2Wad2VZUZDxR",
        "outputId": "e17399f6-4bc8-4f5f-b45d-c9de3ebe7e6c"
      },
      "outputs": [
        {
          "output_type": "stream",
          "name": "stdout",
          "text": [
            "1345294336\n"
          ]
        }
      ],
      "source": [
        "!./max_pairwise_product_full < input3.txt"
      ]
    },
    {
      "cell_type": "code",
      "execution_count": null,
      "metadata": {
        "colab": {
          "base_uri": "https://localhost:8080/"
        },
        "id": "pEvp1ieyDJGq",
        "outputId": "11495dd0-5f9e-43e7-a8b3-744750840a12"
      },
      "outputs": [
        {
          "output_type": "stream",
          "name": "stdout",
          "text": [
            "1345294336\n"
          ]
        }
      ],
      "source": [
        "!./max_pairwise_product_full < input3.txt > ctest3.txt\n",
        "!grep -xvFf output3.txt ctest3.txt"
      ]
    },
    {
      "cell_type": "code",
      "source": [
        " %%writefile run_all_test.sh\n",
        "#!/bin/bash\n",
        "g++ max_pairwise_product_full.cpp -o max_pairwise_product_full\n",
        "for i in {1..3}\n",
        "do\n",
        "    ./max_pairwise_product_full < input$i.txt > ctest$i.txt\n",
        "    grep -xvFf output$i.txt ctest$i.txt\n",
        "done"
      ],
      "metadata": {
        "colab": {
          "base_uri": "https://localhost:8080/"
        },
        "id": "SrtJrKqM-God",
        "outputId": "a5e4265b-525a-42dd-bff1-194cdb4ef9f8"
      },
      "execution_count": null,
      "outputs": [
        {
          "output_type": "stream",
          "name": "stdout",
          "text": [
            "Writing run_all_test.sh\n"
          ]
        }
      ]
    },
    {
      "cell_type": "code",
      "source": [
        "!chmod u+x run_all_test.sh\n",
        "!./run_all_test.sh"
      ],
      "metadata": {
        "colab": {
          "base_uri": "https://localhost:8080/"
        },
        "id": "wGWMHtzS-QnA",
        "outputId": "bcc7e898-0547-4bba-e7e8-b1ede5956a8e"
      },
      "execution_count": null,
      "outputs": [
        {
          "output_type": "stream",
          "name": "stdout",
          "text": [
            "1345294336\n"
          ]
        }
      ]
    },
    {
      "cell_type": "markdown",
      "metadata": {
        "id": "H2SC0Qt5HCzz"
      },
      "source": [
        "Changing the variables to long long"
      ]
    },
    {
      "cell_type": "code",
      "execution_count": null,
      "metadata": {
        "colab": {
          "base_uri": "https://localhost:8080/"
        },
        "id": "MPcmsxiQZSfE",
        "outputId": "af0ddcb7-17a6-4b94-a8a0-8d4ad2f928de"
      },
      "outputs": [
        {
          "output_type": "stream",
          "name": "stdout",
          "text": [
            "Writing max_pairwise_product_long_full.cpp\n"
          ]
        }
      ],
      "source": [
        "%%writefile max_pairwise_product_long_full.cpp\n",
        "#include <iostream>\n",
        "#include <vector>\n",
        "#include <algorithm>\n",
        "\n",
        "long long MaxPairwiseProduct(const std::vector<int>& numbers) {\n",
        "    long long max_product = 0LL;\n",
        "\t  long long aux_product = 0LL;\n",
        "    int n = numbers.size();\n",
        "\n",
        "    for (int first = 0; first < n; ++first) {\n",
        "        for (int second = 0; second < n; ++second) {\n",
        "          if ( first != second){\n",
        "                aux_product = (long long) numbers[first] * numbers[second];\n",
        "                if (aux_product > max_product)  max_product = aux_product;\n",
        "          }\n",
        "        }\n",
        "    }\n",
        "\n",
        "\n",
        "    return max_product;\n",
        "}\n",
        "\n",
        "int main() {\n",
        "    int n;\n",
        "    std::cin >> n;\n",
        "    std::vector<int> numbers(n);\n",
        "    for (int i = 0; i < n; ++i) {\n",
        "        std::cin >> numbers[i];\n",
        "    }\n",
        "\n",
        "    std::cout << MaxPairwiseProduct(numbers) << \"\\n\";\n",
        "    return 0;\n",
        "}\n"
      ]
    },
    {
      "cell_type": "code",
      "source": [
        "!g++ max_pairwise_product_long_full.cpp -o max_pairwise_product_long_full"
      ],
      "metadata": {
        "id": "W3xQpFXL6wjO"
      },
      "execution_count": null,
      "outputs": []
    },
    {
      "cell_type": "code",
      "source": [
        "!./max_pairwise_product_long_full < input3.txt"
      ],
      "metadata": {
        "colab": {
          "base_uri": "https://localhost:8080/"
        },
        "id": "H5dvN9M3R9sV",
        "outputId": "b7c74c73-4a47-4140-fb3f-1c1aa6e46942"
      },
      "execution_count": null,
      "outputs": [
        {
          "output_type": "stream",
          "name": "stdout",
          "text": [
            "40000000000\n"
          ]
        }
      ]
    },
    {
      "cell_type": "markdown",
      "source": [
        "### Runing multuple test with a bash shell"
      ],
      "metadata": {
        "id": "gx-sEYdfQ8f8"
      }
    },
    {
      "cell_type": "code",
      "source": [
        " %%writefile run_all_test.sh\n",
        "#!/bin/bash\n",
        "g++ max_pairwise_product_long_full.cpp -o max_pairwise_product_long_full\n",
        "for i in {1..3}\n",
        "do\n",
        "    ./max_pairwise_product_long_full < input$i.txt > ctest$i.txt\n",
        "    grep -xvFf output$i.txt ctest$i.txt\n",
        "done"
      ],
      "metadata": {
        "colab": {
          "base_uri": "https://localhost:8080/"
        },
        "id": "O9qsq2nn7elw",
        "outputId": "aa613e64-b691-402b-f2b9-591dcd8685ee"
      },
      "execution_count": null,
      "outputs": [
        {
          "output_type": "stream",
          "name": "stdout",
          "text": [
            "Overwriting run_all_test.sh\n"
          ]
        }
      ]
    },
    {
      "cell_type": "code",
      "source": [
        "!chmod u+x run_all_test.sh\n",
        "!./run_all_test.sh"
      ],
      "metadata": {
        "id": "0g5kKVph7xIA"
      },
      "execution_count": null,
      "outputs": []
    },
    {
      "cell_type": "markdown",
      "metadata": {
        "id": "XPVHkHxH6_7s"
      },
      "source": [
        "### Test 3  stress tests 6 testing cases files input4.txt/output4.txt .. input10.txt/output10.txt\n",
        "\n",
        "---\n",
        "\n"
      ]
    },
    {
      "cell_type": "code",
      "execution_count": null,
      "metadata": {
        "id": "PwqpBmYr69fu",
        "colab": {
          "base_uri": "https://localhost:8080/"
        },
        "outputId": "95087762-b926-41df-a5f9-3642f2d150dc"
      },
      "outputs": [
        {
          "output_type": "stream",
          "name": "stdout",
          "text": [
            "Overwriting input4.txt\n"
          ]
        }
      ],
      "source": [
        "%%writefile input4.txt\n",
        "7\n",
        "10 48 59 62 20 36 78"
      ]
    },
    {
      "cell_type": "code",
      "source": [
        "!./max_pairwise_product_long_full < input4.txt"
      ],
      "metadata": {
        "colab": {
          "base_uri": "https://localhost:8080/"
        },
        "id": "uj87YodDoaNo",
        "outputId": "6c985332-4312-4e7c-ab94-fb7d22bf0403"
      },
      "execution_count": null,
      "outputs": [
        {
          "output_type": "stream",
          "name": "stdout",
          "text": [
            "4836\n"
          ]
        }
      ]
    },
    {
      "cell_type": "code",
      "execution_count": null,
      "metadata": {
        "id": "jBCkMeR6Fw4y"
      },
      "outputs": [],
      "source": [
        "!./max_pairwise_product_long_full < input4.txt > output4.txt"
      ]
    },
    {
      "cell_type": "code",
      "execution_count": null,
      "metadata": {
        "colab": {
          "base_uri": "https://localhost:8080/"
        },
        "outputId": "0e2cb54a-2ae0-4783-fbfd-891c483726a1",
        "id": "5Y5vwEvMqoDD"
      },
      "outputs": [
        {
          "output_type": "stream",
          "name": "stdout",
          "text": [
            "Writing input5.txt\n"
          ]
        }
      ],
      "source": [
        "%%writefile input5.txt\n",
        "10\n",
        "100 1 3 15 80 14 23 105 78 47"
      ]
    },
    {
      "cell_type": "code",
      "source": [
        "!./max_pairwise_product_long_full < input5.txt"
      ],
      "metadata": {
        "colab": {
          "base_uri": "https://localhost:8080/"
        },
        "outputId": "d1cb67f3-507a-487b-a694-eea2a667e8eb",
        "id": "3bk6G7MeqoDE"
      },
      "execution_count": null,
      "outputs": [
        {
          "output_type": "stream",
          "name": "stdout",
          "text": [
            "10500\n"
          ]
        }
      ]
    },
    {
      "cell_type": "code",
      "execution_count": null,
      "metadata": {
        "id": "-ZORyjDoqoDF"
      },
      "outputs": [],
      "source": [
        "!./max_pairwise_product_long_full < input5.txt > output5.txt"
      ]
    },
    {
      "cell_type": "code",
      "execution_count": null,
      "metadata": {
        "colab": {
          "base_uri": "https://localhost:8080/"
        },
        "outputId": "ec8974ab-a9d1-461d-c521-ddfb026798af",
        "id": "iQO4aZnjqqyt"
      },
      "outputs": [
        {
          "output_type": "stream",
          "name": "stdout",
          "text": [
            "Writing input6.txt\n"
          ]
        }
      ],
      "source": [
        "%%writefile input6.txt\n",
        "5\n",
        "1025 4856 4540 4563 7582"
      ]
    },
    {
      "cell_type": "code",
      "source": [
        "!./max_pairwise_product_long_full < input6.txt"
      ],
      "metadata": {
        "colab": {
          "base_uri": "https://localhost:8080/"
        },
        "outputId": "ff7a675d-b696-4028-b7ad-e4ff14f0e268",
        "id": "2C2bMsk_qqy4"
      },
      "execution_count": null,
      "outputs": [
        {
          "output_type": "stream",
          "name": "stdout",
          "text": [
            "36818192\n"
          ]
        }
      ]
    },
    {
      "cell_type": "code",
      "execution_count": null,
      "metadata": {
        "id": "cvJtjDcUqqy5"
      },
      "outputs": [],
      "source": [
        "!./max_pairwise_product_long_full < input6.txt > output6.txt"
      ]
    },
    {
      "cell_type": "code",
      "execution_count": null,
      "metadata": {
        "colab": {
          "base_uri": "https://localhost:8080/"
        },
        "outputId": "d1c0ae3c-6007-418c-98fe-6e3958cf662f",
        "id": "W6lWdVzHqrTd"
      },
      "outputs": [
        {
          "output_type": "stream",
          "name": "stdout",
          "text": [
            "Writing input7.txt\n"
          ]
        }
      ],
      "source": [
        "%%writefile input7.txt\n",
        "15\n",
        "856 1 785 65 96 35 11 45 458 956 702 18 63 58 77"
      ]
    },
    {
      "cell_type": "code",
      "source": [
        "!./max_pairwise_product_long_full < input7.txt"
      ],
      "metadata": {
        "colab": {
          "base_uri": "https://localhost:8080/"
        },
        "outputId": "b454c13b-067f-4063-9968-f81480e643a4",
        "id": "K9x1_2_6qrTe"
      },
      "execution_count": null,
      "outputs": [
        {
          "output_type": "stream",
          "name": "stdout",
          "text": [
            "818336\n"
          ]
        }
      ]
    },
    {
      "cell_type": "code",
      "execution_count": null,
      "metadata": {
        "id": "6UM8FBUoqrTe"
      },
      "outputs": [],
      "source": [
        "!./max_pairwise_product_long_full < input7.txt > output7.txt"
      ]
    },
    {
      "cell_type": "code",
      "execution_count": null,
      "metadata": {
        "colab": {
          "base_uri": "https://localhost:8080/"
        },
        "outputId": "b2b32c19-028c-4e49-bb02-c77e9d550205",
        "id": "zocx8YZ5qvPK"
      },
      "outputs": [
        {
          "output_type": "stream",
          "name": "stdout",
          "text": [
            "Writing input8.txt\n"
          ]
        }
      ],
      "source": [
        "%%writefile input8.txt\n",
        "20\n",
        "0 896 362 452 12 36 543 786 5555 444 22 1 778 8885 2 4254 21 606 60 3"
      ]
    },
    {
      "cell_type": "code",
      "source": [
        "!./max_pairwise_product_long_full < input8.txt"
      ],
      "metadata": {
        "colab": {
          "base_uri": "https://localhost:8080/"
        },
        "outputId": "729c2f53-3fa4-4e45-c63a-23fe68d9437a",
        "id": "8uerke1qqvP4"
      },
      "execution_count": null,
      "outputs": [
        {
          "output_type": "stream",
          "name": "stdout",
          "text": [
            "49356175\n"
          ]
        }
      ]
    },
    {
      "cell_type": "code",
      "execution_count": null,
      "metadata": {
        "id": "kd14XcPFqvP6"
      },
      "outputs": [],
      "source": [
        "!./max_pairwise_product_long_full < input8.txt > output8.txt"
      ]
    },
    {
      "cell_type": "code",
      "execution_count": null,
      "metadata": {
        "colab": {
          "base_uri": "https://localhost:8080/"
        },
        "outputId": "376e8978-620f-440f-d8eb-f0a3a0a1b8e2",
        "id": "nduYPMkFqv9y"
      },
      "outputs": [
        {
          "output_type": "stream",
          "name": "stdout",
          "text": [
            "Writing input9.txt\n"
          ]
        }
      ],
      "source": [
        "%%writefile input9.txt\n",
        "2\n",
        "4785962 8964521"
      ]
    },
    {
      "cell_type": "code",
      "source": [
        "!./max_pairwise_product_long_full < input9.txt"
      ],
      "metadata": {
        "colab": {
          "base_uri": "https://localhost:8080/"
        },
        "outputId": "cf7bfb05-06d4-4b9a-ac93-c3640e9fd5c1",
        "id": "_j4geqqBqv9z"
      },
      "execution_count": null,
      "outputs": [
        {
          "output_type": "stream",
          "name": "stdout",
          "text": [
            "1428534458\n"
          ]
        }
      ]
    },
    {
      "cell_type": "code",
      "execution_count": null,
      "metadata": {
        "id": "6S4Giludqv90"
      },
      "outputs": [],
      "source": [
        "!./max_pairwise_product_long_full < input9.txt > output9.txt"
      ]
    },
    {
      "cell_type": "code",
      "execution_count": null,
      "metadata": {
        "colab": {
          "base_uri": "https://localhost:8080/"
        },
        "outputId": "b566505a-6dab-47ad-87e1-0af0eeaabd7e",
        "id": "ZVUPthhnqwkG"
      },
      "outputs": [
        {
          "output_type": "stream",
          "name": "stdout",
          "text": [
            "Writing input10.txt\n"
          ]
        }
      ],
      "source": [
        "%%writefile input10.txt\n",
        "8\n",
        "78572 410275 1 75757 3663 4254543 4125 653"
      ]
    },
    {
      "cell_type": "code",
      "source": [
        "!./max_pairwise_product_long_full < input10.txt"
      ],
      "metadata": {
        "colab": {
          "base_uri": "https://localhost:8080/"
        },
        "outputId": "5e8dd6d2-e37a-4edd-fc16-763ed4895bd2",
        "id": "Th_Kgc0FqwkG"
      },
      "execution_count": null,
      "outputs": [
        {
          "output_type": "stream",
          "name": "stdout",
          "text": [
            "1775907149\n"
          ]
        }
      ]
    },
    {
      "cell_type": "code",
      "execution_count": null,
      "metadata": {
        "id": "XJArffb3qwkH"
      },
      "outputs": [],
      "source": [
        "!./max_pairwise_product_long_full < input10.txt > output10.txt"
      ]
    },
    {
      "cell_type": "markdown",
      "metadata": {
        "id": "9z9yr5QkeyJF"
      },
      "source": [
        "### Test 4  time test  measure the execution time running with the the largest worst cases input11.txt  (200000 increasing numbers) and inoput12.txt (199998 increasing numbers and  200000, 200000 at the end)"
      ]
    },
    {
      "cell_type": "code",
      "source": [
        "# input11.txt 200000 increasing numbers:  1 2 .. 200000\n",
        "\n",
        "%%writefile WriteTest.cpp\n",
        "\n",
        "#include <iostream>\n",
        "#include <fstream>\n",
        "#include <cstdlib>\n",
        "\n",
        "using namespace std;\n",
        "\n",
        "int main() {\n",
        "  // Create and open a text file\n",
        "  ofstream MyFile(\"input11.txt\");\n",
        "\n",
        " MyFile << 200000 <<\"\\n\";  // n\n",
        " for (int i=1; i <200001; i++){\n",
        "     MyFile << i <<\" \";\n",
        " }\n",
        "\n",
        "  // Close the file\n",
        "  MyFile.close();\n",
        "}"
      ],
      "metadata": {
        "colab": {
          "base_uri": "https://localhost:8080/"
        },
        "id": "UmB1ipWM_nSk",
        "outputId": "b89ef8c1-6922-4571-ae33-9d4a4428e8da"
      },
      "execution_count": null,
      "outputs": [
        {
          "output_type": "stream",
          "name": "stdout",
          "text": [
            "Writing WriteTest.cpp\n"
          ]
        }
      ]
    },
    {
      "cell_type": "code",
      "execution_count": null,
      "metadata": {
        "id": "EH25TkOkZfD9"
      },
      "outputs": [],
      "source": [
        "!g++ WriteTest.cpp -o WriteTest\n",
        "!./WriteTest"
      ]
    },
    {
      "cell_type": "code",
      "source": [
        "199999 * 200000"
      ],
      "metadata": {
        "colab": {
          "base_uri": "https://localhost:8080/"
        },
        "id": "j0mokSOnCCtZ",
        "outputId": "ad1485f3-7985-4eed-a04c-0d6947cb2d98"
      },
      "execution_count": null,
      "outputs": [
        {
          "output_type": "execute_result",
          "data": {
            "text/plain": [
              "39999800000"
            ]
          },
          "metadata": {},
          "execution_count": 50
        }
      ]
    },
    {
      "cell_type": "code",
      "source": [
        "%%writefile output11.txt\n",
        "39999800000"
      ],
      "metadata": {
        "id": "VoDhDV73B5Mo",
        "colab": {
          "base_uri": "https://localhost:8080/"
        },
        "outputId": "4c6ef83d-10f2-4719-ae99-4cececfa881a"
      },
      "execution_count": null,
      "outputs": [
        {
          "output_type": "stream",
          "name": "stdout",
          "text": [
            "Writing output11.txt\n"
          ]
        }
      ]
    },
    {
      "cell_type": "code",
      "execution_count": null,
      "metadata": {
        "colab": {
          "base_uri": "https://localhost:8080/"
        },
        "id": "oLiMjbAIfPlX",
        "outputId": "7d6dd5bc-c937-4434-fd5b-147c14aa7897"
      },
      "outputs": [
        {
          "output_type": "stream",
          "name": "stdout",
          "text": [
            "Overwriting WriteTest.cpp\n"
          ]
        }
      ],
      "source": [
        "# input12.txt 200000 decreasing numbers and 200000, 199999 ...  2 1\n",
        "\n",
        "%%writefile WriteTest.cpp\n",
        "\n",
        "#include <iostream>\n",
        "#include <fstream>\n",
        "#include <cstdlib>\n",
        "\n",
        "using namespace std;\n",
        "\n",
        "int main() {\n",
        "  // Create and open a text file\n",
        "  ofstream MyFile(\"input12.txt\");\n",
        "\n",
        " MyFile << 200000 <<\"\\n\";  // n\n",
        " for (int i=1; i <200001; i++){\n",
        "     MyFile << 200001-i <<\" \";\n",
        " }\n",
        "\n",
        "  // Close the file\n",
        "  MyFile.close();\n",
        "}"
      ]
    },
    {
      "cell_type": "code",
      "source": [
        "!g++ WriteTest.cpp -o WriteTest\n",
        "!./WriteTest"
      ],
      "metadata": {
        "id": "oULNBr_zAd9c"
      },
      "execution_count": null,
      "outputs": []
    },
    {
      "cell_type": "code",
      "source": [
        "%%writefile output12.txt\n",
        "39999800000"
      ],
      "metadata": {
        "colab": {
          "base_uri": "https://localhost:8080/"
        },
        "id": "PQLyocaFB-y4",
        "outputId": "ccdaabad-2159-4cf5-a608-7bdeaba75846"
      },
      "execution_count": null,
      "outputs": [
        {
          "output_type": "stream",
          "name": "stdout",
          "text": [
            "Writing output12.txt\n"
          ]
        }
      ]
    },
    {
      "cell_type": "markdown",
      "metadata": {
        "id": "JB6f03qO-lj9"
      },
      "source": [
        "Measure time\n",
        "\n",
        "https://askubuntu.com/questions/53444/how-can-i-measure-the-execution-time-of-a-terminal-process"
      ]
    },
    {
      "cell_type": "code",
      "execution_count": null,
      "metadata": {
        "colab": {
          "base_uri": "https://localhost:8080/"
        },
        "id": "6p2QLEr576zk",
        "outputId": "52674196-3f3d-4a62-c2c7-4c179506c50e"
      },
      "outputs": [
        {
          "output_type": "stream",
          "name": "stdout",
          "text": [
            "^C\n"
          ]
        }
      ],
      "source": [
        "!g++ max_pairwise_product_long_full.cpp -o max_pairwise_product_long_full\n",
        "!time ./max_pairwise_product_long_full< input11.txt"
      ]
    },
    {
      "cell_type": "code",
      "source": [
        "!g++ max_pairwise_product_long_full.cpp -o max_pairwise_product_long_full\n",
        "!time ./max_pairwise_product_long_full< input12.txt"
      ],
      "metadata": {
        "colab": {
          "base_uri": "https://localhost:8080/"
        },
        "id": "cnjCyeUdAnZj",
        "outputId": "252c4745-5cff-4368-fb9b-ab431cb3ecc0"
      },
      "execution_count": null,
      "outputs": [
        {
          "output_type": "stream",
          "name": "stdout",
          "text": [
            "^C\n"
          ]
        }
      ]
    },
    {
      "cell_type": "markdown",
      "metadata": {
        "id": "FXClpBsUJuXC"
      },
      "source": [
        "##### Calculate the number or and upper bound to the number of instructions executed by the algorithm as a function of n, add in each line a comment with the number of instructions that are executed in that line."
      ]
    },
    {
      "cell_type": "code",
      "execution_count": null,
      "metadata": {
        "colab": {
          "base_uri": "https://localhost:8080/"
        },
        "id": "uG6Mv-Pwlkii",
        "outputId": "6aada16a-b1b4-4071-a759-a689055cce15"
      },
      "outputs": [
        {
          "output_type": "stream",
          "name": "stdout",
          "text": [
            "Overwriting max_pairwise_product_long_full.cpp\n"
          ]
        }
      ],
      "source": [
        "%%writefile max_pairwise_product_long_full.cpp\n",
        "#include <iostream>\n",
        "#include <vector>\n",
        "#include <algorithm>\n",
        "\n",
        "long long MaxPairwiseProduct(const std::vector<int>& numbers) {              //N inst exec by line executed\n",
        "    long long max_product = 0LL;                                             //1\n",
        "\t  long long aux_product = 0LL;                                             //1\n",
        "    int n = numbers.size();                                                  //1\n",
        "\n",
        "    for (int first = 0; first < n; ++first) {                                //1+2n\n",
        "        for (int second = 0; second < n; ++second) {                         //n + 2n**2\n",
        "          if ( first != second ){                                            //n**2\n",
        "                aux_product = numbers[first] * numbers[second];              //n**2 -n\n",
        "                if (aux_product > max_product)                               //n**2 -n\n",
        "                    max_product = aux_product;                               //[1, n**2/2 - n/2] upper bound\n",
        "          }\n",
        "        }\n",
        "    }\n",
        "\n",
        "                                                                             // --------------\n",
        "    return max_product;                                                      // 4 + n + [5*n**2+1, 11*n**2/2  - n/2]  upper bound\n",
        "}\n",
        "\n",
        "int main() {                                              //N inst exec by line executed\n",
        "    int n;                                                //1\n",
        "    std::cin >> n;                                        //1\n",
        "    std::vector<int> numbers(n);                          //n\n",
        "    for (int i = 0; i < n; ++i) {                         //1 + 2n\n",
        "        std::cin >> numbers[i];                           //n\n",
        "    }\n",
        "\n",
        "    std::cout << MaxPairwiseProduct(numbers) << \"\\n\";     //1 + 1  + 4 + n + [5*n**2+1, 11*n**2/2  - n/2]\n",
        "\n",
        "    return 0;                                             // --------------\n",
        "}                                                         //  9 + 5*n + [5*n**2+1, 11*n**2/2  - n/2]  upper bound\n"
      ]
    },
    {
      "cell_type": "markdown",
      "metadata": {
        "id": "0vTsUg8OwcHs"
      },
      "source": [
        "Count executed intructions in code"
      ]
    },
    {
      "cell_type": "code",
      "execution_count": null,
      "metadata": {
        "colab": {
          "base_uri": "https://localhost:8080/"
        },
        "id": "CuRKkqQc137V",
        "outputId": "a91870a9-862a-47c0-9456-75c8eabdff56"
      },
      "outputs": [
        {
          "output_type": "stream",
          "name": "stdout",
          "text": [
            "Writing max_pairwise_product_long_full_execints.cpp\n"
          ]
        }
      ],
      "source": [
        "%%writefile max_pairwise_product_long_full_execints.cpp\n",
        "#include <iostream>\n",
        "#include <vector>\n",
        "#include <algorithm>\n",
        "\n",
        "long long MaxPairwiseProduct(const std::vector<int>& numbers, long long &execints) {              //N inst exec by line executed\n",
        "\n",
        "    long long max_product = 0LL;                                             //1\n",
        "    execints++;\n",
        "\n",
        "\t  long long aux_product = 0LL;                                             //1\n",
        "    execints++;\n",
        "\n",
        "    int n = numbers.size();                                                  //1\n",
        "    execints++;\n",
        "\n",
        "    execints++;\n",
        "    for (int first = 0; first < n; ++first) {                                //1+2n\n",
        "        execints += 2;\n",
        "\n",
        "        execints++;\n",
        "        for (int second = 0; second < n; ++second) {                         //n + 2n**2\n",
        "          execints += 2;\n",
        "\n",
        "          execints++;\n",
        "          if ( first != second ){                                            //n**2\n",
        "                aux_product = numbers[first] * numbers[second];              //n**2 -n\n",
        "                execints++;\n",
        "\n",
        "                execints++;\n",
        "                if (aux_product > max_product){                               //n**2 -n\n",
        "                    max_product = aux_product;                               //[1,n**2/2 - n/2]  upper bound\n",
        "                    execints++;\n",
        "\n",
        "                }\n",
        "        }\n",
        "      }\n",
        "    }\n",
        "                                                                            // --------------\n",
        "    return max_product;                                                     // 4 + n + [5*n**2+1, 11*n**2/2  - n/2] upper bound\n",
        "}\n",
        "\n",
        "int main() {                                                 //N inst exec by line executed\n",
        "\n",
        "    long long execints =0LL;\n",
        "\n",
        "    int n;                                                   //1\n",
        "    execints++;\n",
        "\n",
        "    std::cin >> n;                                           //1\n",
        "    execints++;\n",
        "\n",
        "    std::vector<int> numbers(n);                             //n\n",
        "    execints += n;\n",
        "\n",
        "    execints++;\n",
        "    for (int i = 0; i < n; ++i) {                            //1 + 2n\n",
        "        execints += 2;\n",
        "\n",
        "        std::cin >> numbers[i];\n",
        "        execints++;                                          //n\n",
        "\n",
        "    }\n",
        "\n",
        "\n",
        "\n",
        "    //std::cout << MaxPairwiseProduct(numbers) << \"\\n\";      //1 + 1  + 4 + n + [5*n**2+1, 11*n**2/2  - n/2] upper bound\n",
        "\n",
        "\n",
        "    execints++;\n",
        "    int M = MaxPairwiseProduct(numbers,execints);\n",
        "\n",
        "    execints++;\n",
        "    std::cout <<  execints << \"\\n\";\n",
        "    return 0;                                                // --------------\n",
        "}                                                            // 9 + 5*n + [5*n**2+1, 11*n**2/2  - n/2]"
      ]
    },
    {
      "cell_type": "markdown",
      "source": [
        "The number of instructions executed by the algooirithm with a list of size $n$ is  \n",
        "\n",
        "$$T (n) = 9 + 5n + \\left[5n^2+1, 11\\frac{n^2}{2}  - \\frac{n}{2}\\right] \\ \\  \\text{upper bound}$$\n",
        "\n",
        "It depends on the size of the lists and  the order of the list.\n",
        "\n",
        "For the input1.txt\n",
        "```\n",
        "10\n",
        "1 2 3 4 5 6 7 8 9 10\n",
        "```\n",
        "$$T = 9 + 5(10) + 5(10)(10) +  9 + 5 + 4 + 3 + 2 + 2 + 2 + 2 + 1 + 0  = 589 $$\n",
        "\n",
        "$$T(10) \\in [560, 604]  $$\n"
      ],
      "metadata": {
        "id": "cUjHtvtdDsmr"
      }
    },
    {
      "cell_type": "code",
      "source": [
        "#The number of times that  max_product = aux_product; in the worst case is less than (n**2 -n)/2 -  upper bound\n",
        "\n",
        "   1  2  3  4  5  6  7  8  9  10\n",
        "1  x  2  3  4  5  6  7  8  9  10         9\n",
        "2  2  x  6  8  10 12 14 16 18 20         5 14\n",
        "3  3  6  x  12 15 18 21 24 27 30         4 18\n",
        "4  4  8  12 x  20 24 28 32 36 40         3 21\n",
        "5  5  10 15 20 x  30 35 40 45 50         2 23\n",
        "6  6  12 18 24 30 x  42 48 54 60         2 25\n",
        "7  7  14 21 28 35 42 x  56 63 70         2 27\n",
        "8  8  18 27 36 45 54 63 72 x  90         1 30\n",
        "10 10 20 30 40 50 60 70 60 90 x          0"
      ],
      "metadata": {
        "id": "K59xQMWiBNFj",
        "colab": {
          "base_uri": "https://localhost:8080/",
          "height": 140
        },
        "outputId": "6de6aaab-324d-4863-e10c-92630df23fbf"
      },
      "execution_count": null,
      "outputs": [
        {
          "output_type": "error",
          "ename": "IndentationError",
          "evalue": "ignored",
          "traceback": [
            "\u001b[0;36m  File \u001b[0;32m\"<ipython-input-59-f6ebb1ba87e9>\"\u001b[0;36m, line \u001b[0;32m3\u001b[0m\n\u001b[0;31m    1  2  3  4  5  6  7  8  9  10\u001b[0m\n\u001b[0m    ^\u001b[0m\n\u001b[0;31mIndentationError\u001b[0m\u001b[0;31m:\u001b[0m unexpected indent\n"
          ]
        }
      ]
    },
    {
      "cell_type": "code",
      "source": [
        "9 + 5*(10) + 5*(10)*(10) +  9 + 5 + 4 + 3 + 2 + 2 + 2 + 2 + 1 + 0"
      ],
      "metadata": {
        "colab": {
          "base_uri": "https://localhost:8080/"
        },
        "id": "E3O8dzFfEgir",
        "outputId": "7c604309-5edd-4fde-a76c-9c6054f65916"
      },
      "execution_count": null,
      "outputs": [
        {
          "output_type": "execute_result",
          "data": {
            "text/plain": [
              "589"
            ]
          },
          "metadata": {},
          "execution_count": 60
        }
      ]
    },
    {
      "cell_type": "code",
      "source": [
        "n = 10\n",
        "print( 9 + 5*n + 5*n**2+1,  9 + 5*n + 11*n**2/2  - n/2)"
      ],
      "metadata": {
        "colab": {
          "base_uri": "https://localhost:8080/"
        },
        "id": "TCpdl5u_Gq1a",
        "outputId": "9a7a4d58-9e0b-4f87-9160-07c6ab4e0ca2"
      },
      "execution_count": null,
      "outputs": [
        {
          "output_type": "stream",
          "name": "stdout",
          "text": [
            "560 604.0\n"
          ]
        }
      ]
    },
    {
      "cell_type": "code",
      "execution_count": null,
      "metadata": {
        "colab": {
          "base_uri": "https://localhost:8080/"
        },
        "id": "Kuvm1C05ly2a",
        "outputId": "b94e0d37-a801-4ab8-de47-40ab9cbcb8ce"
      },
      "outputs": [
        {
          "output_type": "stream",
          "name": "stdout",
          "text": [
            "589\n"
          ]
        }
      ],
      "source": [
        "!g++ max_pairwise_product_long_full_execints.cpp -o max_pairwise_product_long_full_execints\n",
        "!./max_pairwise_product_long_full_execints < input1.txt"
      ]
    },
    {
      "cell_type": "markdown",
      "source": [
        "\n",
        "For the input2.txt\n",
        "```\n",
        "10\n",
        "10 9 8 7 6 5 4 3 2 1\n",
        "```\n",
        "$$T = 9 + 5*(10) + 5*(10)**2 +  1  = 560 $$"
      ],
      "metadata": {
        "id": "Yr_Lb7CaHfxB"
      }
    },
    {
      "cell_type": "code",
      "source": [
        "9 + 5*(10) + 5*(10)**2 +  1"
      ],
      "metadata": {
        "colab": {
          "base_uri": "https://localhost:8080/"
        },
        "id": "HOdqlwJiZUIp",
        "outputId": "8479072b-5c23-4554-f9d2-1f7d72fb76ff"
      },
      "execution_count": null,
      "outputs": [
        {
          "output_type": "execute_result",
          "data": {
            "text/plain": [
              "560"
            ]
          },
          "metadata": {},
          "execution_count": 63
        }
      ]
    },
    {
      "cell_type": "code",
      "source": [
        "!g++ max_pairwise_product_long_full_execints.cpp -o max_pairwise_product_long_full_execints\n",
        "!./max_pairwise_product_long_full_execints < input4.txt\n",
        "n= 10"
      ],
      "metadata": {
        "id": "_znzLectjFSe",
        "colab": {
          "base_uri": "https://localhost:8080/"
        },
        "outputId": "504e5b2a-7893-4f2f-be94-e0cdaa72cd6e"
      },
      "execution_count": null,
      "outputs": [
        {
          "output_type": "stream",
          "name": "stdout",
          "text": [
            "/bin/bash: line 1: input4.txt: No such file or directory\n"
          ]
        }
      ]
    },
    {
      "cell_type": "markdown",
      "metadata": {
        "id": "L_uaamxeAHK7"
      },
      "source": [
        "\n",
        "For the input12.txt\n",
        "```\n",
        "200000\n",
        "200000  199999 ... 2 1\n",
        "```\n",
        "$$T = 9 + 5*(200000) + 5*(200000)**2 +1  = 200001000010 $$\n",
        "\n"
      ]
    },
    {
      "cell_type": "code",
      "source": [
        "9 + 5*(200000) + 5*(200000)**2 +1"
      ],
      "metadata": {
        "colab": {
          "base_uri": "https://localhost:8080/"
        },
        "id": "c7X-ewmeXe-h",
        "outputId": "666bf3a2-d426-4573-a281-1730e3d3a0a3"
      },
      "execution_count": null,
      "outputs": [
        {
          "output_type": "execute_result",
          "data": {
            "text/plain": [
              "200001000010"
            ]
          },
          "metadata": {},
          "execution_count": 65
        }
      ]
    },
    {
      "cell_type": "markdown",
      "metadata": {
        "id": "NXW7QkoBL6xH"
      },
      "source": [
        "Calculate estimated time by instruction and number of instructions by second"
      ]
    },
    {
      "cell_type": "code",
      "source": [
        "!g++ max_pairwise_product_long_full_execints.cpp -o max_pairwise_product_long_full_execints\n",
        "!./max_pairwise_product_long_full_execints < input12.txt\n"
      ],
      "metadata": {
        "colab": {
          "base_uri": "https://localhost:8080/"
        },
        "id": "BMH8mF3EKn2w",
        "outputId": "c7a2b7e1-60d5-4e04-ef31-ec9ccef9f938"
      },
      "execution_count": null,
      "outputs": [
        {
          "output_type": "stream",
          "name": "stdout",
          "text": [
            "^C\n"
          ]
        }
      ]
    },
    {
      "cell_type": "code",
      "execution_count": null,
      "metadata": {
        "colab": {
          "base_uri": "https://localhost:8080/"
        },
        "id": "pKqB3i7dIxnc",
        "outputId": "59420063-f2e7-47ab-adde-8495931dd5f9"
      },
      "outputs": [
        {
          "output_type": "execute_result",
          "data": {
            "text/plain": [
              "1.5299923499617505e-09"
            ]
          },
          "metadata": {},
          "execution_count": 67
        }
      ],
      "source": [
        "# Estimated time by instruction\n",
        "\n",
        "306/200001000010\n"
      ]
    },
    {
      "cell_type": "code",
      "execution_count": null,
      "metadata": {
        "colab": {
          "base_uri": "https://localhost:8080/"
        },
        "id": "18N1ouqeMhE1",
        "outputId": "2167cb40-ab42-4988-f8d2-0ac028f29197"
      },
      "outputs": [
        {
          "output_type": "execute_result",
          "data": {
            "text/plain": [
              "1.5299923499617505e-09"
            ]
          },
          "metadata": {},
          "execution_count": 68
        }
      ],
      "source": [
        "# Estimated number of instructions by second\n",
        "\n",
        "306/200001000010"
      ]
    },
    {
      "cell_type": "markdown",
      "source": [
        "# Estimate the maximun n that can be solved in 1 second\n",
        "\n",
        "$$5n^2 \\times 1.53*10^{-9} s = 1s$$\n",
        "\n",
        "$$ n \\approx 11000$$\n"
      ],
      "metadata": {
        "id": "KyuxejFkL5X_"
      }
    },
    {
      "cell_type": "code",
      "source": [
        "# Verify input13.txt\n",
        "%%writefile WriteTest.cpp\n",
        "\n",
        "#include <iostream>\n",
        "#include <fstream>\n",
        "#include <cstdlib>\n",
        "\n",
        "using namespace std;\n",
        "\n",
        "int main() {\n",
        "  // Create and open a text file\n",
        "  ofstream MyFile(\"input13.txt\");\n",
        "\n",
        " MyFile << 11000 <<\"\\n\";  // n\n",
        " for (int i=1; i <11001; i++){\n",
        "     MyFile << i <<\" \";\n",
        " }\n",
        "\n",
        "  // Close the file\n",
        "  MyFile.close();\n",
        "}"
      ],
      "metadata": {
        "colab": {
          "base_uri": "https://localhost:8080/"
        },
        "id": "WXu5jp-DLTOI",
        "outputId": "80b50f74-c89a-4616-8a99-555da6f6806a"
      },
      "execution_count": null,
      "outputs": [
        {
          "output_type": "stream",
          "name": "stdout",
          "text": [
            "Overwriting WriteTest.cpp\n"
          ]
        }
      ]
    },
    {
      "cell_type": "code",
      "source": [
        "!g++ WriteTest.cpp -o WriteTest\n",
        "!./WriteTest"
      ],
      "metadata": {
        "id": "AQ8N52pUMCeT"
      },
      "execution_count": null,
      "outputs": []
    },
    {
      "cell_type": "code",
      "source": [
        "!g++ max_pairwise_product_long_full.cpp -o max_pairwise_product_long_full\n",
        "!time ./max_pairwise_product_long_full< input13.txt"
      ],
      "metadata": {
        "colab": {
          "base_uri": "https://localhost:8080/"
        },
        "id": "ussuAokfM2du",
        "outputId": "99a45afb-616b-441d-9ce4-d9b42eab5c30"
      },
      "execution_count": null,
      "outputs": [
        {
          "output_type": "stream",
          "name": "stdout",
          "text": [
            "120989000\n",
            "\n",
            "real\t0m0.861s\n",
            "user\t0m0.850s\n",
            "sys\t0m0.003s\n"
          ]
        }
      ]
    },
    {
      "cell_type": "markdown",
      "metadata": {
        "id": "Tm_AVmt-QQH4"
      },
      "source": [
        "## Python"
      ]
    },
    {
      "cell_type": "code",
      "source": [
        "%%writefile max_pairwise_product_python.py\n",
        "\n",
        "def max_pairwise_product_python(numbers):\n",
        "    max_product = 0\n",
        "    n = len(numbers)\n",
        "\n",
        "    for first in range(n):\n",
        "        for second in range(n):\n",
        "            if first != second:\n",
        "                aux_product = numbers[first] * numbers[second]\n",
        "                if aux_product > max_product:\n",
        "                    max_product = aux_product\n",
        "\n",
        "    return max_product\n",
        "\n",
        "if __name__ == \"__main__\":\n",
        "    n = int(input())\n",
        "    numbers = list(map(int, input().split()))\n",
        "\n",
        "    result = max_pairwise_product_python(numbers)\n",
        "    print(result)"
      ],
      "metadata": {
        "colab": {
          "base_uri": "https://localhost:8080/"
        },
        "id": "dtNdRZzTxoQz",
        "outputId": "4e2ee1af-25d1-449a-9576-df6aac2fd1e5"
      },
      "execution_count": null,
      "outputs": [
        {
          "output_type": "stream",
          "name": "stdout",
          "text": [
            "Overwriting max_pairwise_product_python.py\n"
          ]
        }
      ]
    },
    {
      "cell_type": "code",
      "execution_count": null,
      "metadata": {
        "id": "gRCCcd7IQTKZ",
        "colab": {
          "base_uri": "https://localhost:8080/"
        },
        "outputId": "f54507a7-d490-49bf-ab1d-2b4bb7a6de5d"
      },
      "outputs": [
        {
          "output_type": "stream",
          "name": "stdout",
          "text": [
            "Overwriting WriteTest_with_python.py\n"
          ]
        }
      ],
      "source": [
        "# verify input14.txt\n",
        "%%writefile WriteTest_with_python.py\n",
        "\n",
        "with open(\"input14.txt\", \"w\") as file:\n",
        "    n = 11000\n",
        "    file.write(str(n) + \"\\n\")\n",
        "    for i in range(1, n + 1):\n",
        "        file.write(str(i) + \" \")"
      ]
    },
    {
      "cell_type": "code",
      "execution_count": null,
      "metadata": {
        "id": "kAEAoNZEQTCw"
      },
      "outputs": [],
      "source": [
        "!python WriteTest_with_python.py"
      ]
    },
    {
      "cell_type": "code",
      "execution_count": null,
      "metadata": {
        "id": "hjw7TJrDL0d-",
        "colab": {
          "base_uri": "https://localhost:8080/"
        },
        "outputId": "bcde6fc9-fd58-40a7-bd3e-8df07f58aa21"
      },
      "outputs": [
        {
          "output_type": "stream",
          "name": "stdout",
          "text": [
            "120989000\n",
            "\n",
            "real\t0m21.244s\n",
            "user\t0m20.930s\n",
            "sys\t0m0.018s\n"
          ]
        }
      ],
      "source": [
        "!time python max_pairwise_product_python.py < input14.txt"
      ]
    },
    {
      "cell_type": "markdown",
      "metadata": {
        "id": "MKQKSC-vKePK"
      },
      "source": [
        "## Perform the same analysis for an algorithm in C++ and Python that uses\n",
        "$$\\frac{n^2 - n}{2} = O(n^2)\\ \\ \\text{products}$$"
      ]
    },
    {
      "cell_type": "code",
      "execution_count": null,
      "metadata": {
        "id": "jkkHHoxSK65p",
        "colab": {
          "base_uri": "https://localhost:8080/"
        },
        "outputId": "3be25c40-5d7b-4d68-fffd-b7e27a602fe1"
      },
      "outputs": [
        {
          "output_type": "stream",
          "name": "stdout",
          "text": [
            "Writing max_pairwise_product.cpp\n"
          ]
        }
      ],
      "source": [
        "%%writefile max_pairwise_product.cpp\n",
        "#include <iostream>\n",
        "#include <vector>\n",
        "#include <algorithm>\n",
        "\n",
        "int MaxPairwiseProduct(const std::vector<int>& numbers) {\n",
        "    int max_product = 0;\n",
        "    int n = numbers.size();\n",
        "\n",
        "    for (int first = 0; first < n; ++first) {\n",
        "        for (int second = first + 1; second < n; ++second) {\n",
        "            max_product = std::max(max_product,\n",
        "                numbers[first] * numbers[second]);\n",
        "        }\n",
        "    }\n",
        "\n",
        "    return max_product;\n",
        "}\n",
        "\n",
        "int main() {\n",
        "    int n;\n",
        "    std::cin >> n;\n",
        "    std::vector<int> numbers(n);\n",
        "    for (int i = 0; i < n; ++i) {\n",
        "        std::cin >> numbers[i];\n",
        "    }\n",
        "\n",
        "    std::cout << MaxPairwiseProduct(numbers) << \"\\n\";\n",
        "    return 0;\n",
        "}"
      ]
    },
    {
      "cell_type": "code",
      "execution_count": null,
      "metadata": {
        "id": "sU8-Ote7K8vz",
        "colab": {
          "base_uri": "https://localhost:8080/"
        },
        "outputId": "b8fa0434-550b-4c9e-c419-cd2a20a611cd"
      },
      "outputs": [
        {
          "output_type": "stream",
          "name": "stdout",
          "text": [
            "Overwriting max_pairwise_product_long.cpp\n"
          ]
        }
      ],
      "source": [
        "%%writefile max_pairwise_product_long.cpp\n",
        "#include <iostream>\n",
        "#include <vector>\n",
        "#include <algorithm>\n",
        "\n",
        "long long MaxPairwiseProduct(const std::vector<int>& numbers) {              //N inst exec by line executed\n",
        "    long long max_product = 0LL;                                             //1\n",
        "\t  long long aux_product = 0LL;                                             //1\n",
        "    int n = numbers.size();                                                  //1\n",
        "\n",
        "    for (int first = 0; first < n; ++first) {                                //1+2n\n",
        "        for (int second = first + 1; second < n; ++second) {                 //n + (n-1)n\n",
        "\t\t\t       aux_product =  (long long) numbers[first] * numbers[second];    //(n-1)n/2\n",
        "            if (max_product < aux_product)  {                                //(n-1)n/2\n",
        "\t\t\t\t        max_product = aux_product;                                   //[0, (n-1)n/2]\n",
        "             }\n",
        "        }\n",
        "    }\n",
        "                                                                             // --------------\n",
        "    return max_product;                                                      // 4 + 3n + [2(n-1)n, 2.5 (n-1)n] upper bound\n",
        "}\n",
        "\n",
        "int main() {                                              //N inst exec by line executed\n",
        "    int n;                                                //1\n",
        "    std::cin >> n;                                        //1\n",
        "    std::vector<int> numbers(n);                          //n\n",
        "    for (int i = 0; i < n; ++i) {                         //1 + 2n\n",
        "        std::cin >> numbers[i];                           //n\n",
        "    }\n",
        "\n",
        "    std::cout << MaxPairwiseProduct(numbers) << \"\\n\";     //1 + 1  + 4 + 3n + [2(n-1)n, 2.5 (n-1)n]\n",
        "    return 0;                                             // --------------\n",
        "}                                                         // 9 + 7n + [2(n-1)n, 2.5 (n-1)n] upper bound"
      ]
    },
    {
      "cell_type": "code",
      "source": [
        "%%writefile max_pairwise_product_python.py\n",
        "def max_pairwise_product(numbers):\n",
        "    max_product = 0\n",
        "    n = len(numbers)\n",
        "\n",
        "    for first in range(n):\n",
        "        for second in range(first + 1, n):\n",
        "            max_product = max(max_product, numbers[first] * numbers[second])\n",
        "\n",
        "    return max_product\n",
        "\n",
        "if __name__ == \"__main__\":\n",
        "    n = int(input())\n",
        "    numbers = list(map(int, input().split()))\n",
        "\n",
        "    print(max_pairwise_product(numbers))"
      ],
      "metadata": {
        "colab": {
          "base_uri": "https://localhost:8080/"
        },
        "id": "TWQJexAYxdzx",
        "outputId": "c1dce31f-d56a-4dc0-e828-39907a9ffb88"
      },
      "execution_count": null,
      "outputs": [
        {
          "output_type": "stream",
          "name": "stdout",
          "text": [
            "Overwriting max_pairwise_product_python.py\n"
          ]
        }
      ]
    },
    {
      "cell_type": "code",
      "source": [
        "%%writefile max_pairwise_product_long_python.py\n",
        "def max_pairwise_product(numbers):\n",
        "    max_product = 0\n",
        "    aux_product = 0\n",
        "    n = len(numbers)\n",
        "\n",
        "    for first in range(n):\n",
        "        for second in range(first + 1, n):\n",
        "            aux_product = numbers[first] * numbers[second]\n",
        "            if max_product < aux_product:\n",
        "                max_product = aux_product\n",
        "\n",
        "    return max_product\n",
        "\n",
        "if __name__ == \"__main__\":\n",
        "    n = int(input())\n",
        "    numbers = list(map(int, input().split()))\n",
        "\n",
        "    print(max_pairwise_product(numbers))\n"
      ],
      "metadata": {
        "colab": {
          "base_uri": "https://localhost:8080/"
        },
        "id": "yQH0sFgXxeCn",
        "outputId": "8cade67a-b8c9-441f-c3ca-75eb94a8da7f"
      },
      "execution_count": null,
      "outputs": [
        {
          "output_type": "stream",
          "name": "stdout",
          "text": [
            "Overwriting max_pairwise_product_long_python.py\n"
          ]
        }
      ]
    },
    {
      "cell_type": "code",
      "source": [
        "!g++ max_pairwise_product_long.cpp -o max_pairwise_product_long\n",
        "!time ./max_pairwise_product_long < input3.txt"
      ],
      "metadata": {
        "colab": {
          "base_uri": "https://localhost:8080/"
        },
        "id": "3URfszg9yKGi",
        "outputId": "ec1105a1-3e4a-4f99-d558-8bec2ba27b43"
      },
      "execution_count": null,
      "outputs": [
        {
          "output_type": "stream",
          "name": "stdout",
          "text": [
            "40000000000\n",
            "\n",
            "real\t0m0.003s\n",
            "user\t0m0.001s\n",
            "sys\t0m0.002s\n"
          ]
        }
      ]
    },
    {
      "cell_type": "code",
      "execution_count": null,
      "metadata": {
        "id": "mxIVvm1RK8dB",
        "colab": {
          "base_uri": "https://localhost:8080/"
        },
        "outputId": "9088b2a8-48ec-4de0-d340-102f6bec5320"
      },
      "outputs": [
        {
          "output_type": "stream",
          "name": "stdout",
          "text": [
            "40000000000\n",
            "\n",
            "real\t0m0.047s\n",
            "user\t0m0.035s\n",
            "sys\t0m0.009s\n"
          ]
        }
      ],
      "source": [
        "!time python max_pairwise_product_long_python.py < input3.txt"
      ]
    },
    {
      "cell_type": "markdown",
      "metadata": {
        "id": "1Hsbd-uHOb_j"
      },
      "source": [
        "### Sort solution in C++ and Python\n",
        "\n",
        "$$ O(n \\lg n)$$\n",
        "\n",
        "**Which sorting algorithm is used in GCC?**\n",
        "https://stackoverflow.com/questions/7221257/which-sorting-algorithm-is-used-in-gcc\n",
        "\n",
        "* ...  the algorithm is called introsort, a combination between Insertionsort, Quicksort & Heapsort. ...\n",
        "\n",
        "**Introsort**\n",
        "https://en.wikipedia.org/wiki/Introsort\n",
        "\n",
        "Introsort or introspective sort is a hybrid sorting algorithm that provides both fast average performance and (asymptotically) optimal worst-case performance. It begins with quicksort, it switches to heapsort when the recursion depth exceeds a level based on (the logarithm of) the number of elements being sorted and it switches to insertion sort when the number of elements is below some threshold\n",
        "\n",
        "*   Class\tSorting algorithm\n",
        "*   Data structure\tArray\n",
        "*   Worst-case performance\t$O(n \\lg n)$\n",
        "*   Average performance\t$O(n \\lg n)$\n",
        "\n",
        "**Tinsort**\n",
        "https://en.wikipedia.org/wiki/Timsort\n",
        "\n",
        "Timsort is a hybrid, stable sorting algorithm, derived from merge sort and insertion sort, designed to perform well on many kinds of real-world data. It was implemented by Tim Peters in 2002 for use in the Python programming language.\n",
        "\n",
        "*   Class\tSorting algorithm\n",
        "*   Data structure\tArray\n",
        "*   Worst-case performance\t$O(n \\lg n)$\n",
        "*   Best-case performance $O(n)$\n",
        "*   Average performance\t$O(n \\lg n)$\n",
        "*   Worst-case space complexity $O(n)$"
      ]
    },
    {
      "cell_type": "markdown",
      "metadata": {
        "id": "WMUthAXjOb_k"
      },
      "source": [
        "Add in each line a coment with the number of intstrcution that are executed in that line"
      ]
    },
    {
      "cell_type": "code",
      "execution_count": null,
      "metadata": {
        "id": "2-sXOmqFOb_k",
        "colab": {
          "base_uri": "https://localhost:8080/"
        },
        "outputId": "d9786fe4-9aaa-4dd7-d96f-d3a096fea942"
      },
      "outputs": [
        {
          "output_type": "stream",
          "name": "stdout",
          "text": [
            "Writing sort_solution_nlogn.cpp\n"
          ]
        }
      ],
      "source": [
        "%%writefile sort_solution_nlogn.cpp\n",
        "#include <iostream>\n",
        "#include <vector>\n",
        "#include <algorithm>\n",
        "\n",
        "using namespace std;\n",
        "\n",
        "int main() {\n",
        "    // 1 instruction\n",
        "    int n;\n",
        "    // 1 instruction\n",
        "    cin >> n;\n",
        "    // n instructions\n",
        "    vector<int> numbers(n);\n",
        "\n",
        "    // 1 + 2n instructions\n",
        "    for (int i = 0; i < n; ++i) {\n",
        "        // 1 instruction\n",
        "        cin >> numbers[i];\n",
        "    }\n",
        "\n",
        "    // n*log(n) instructions\n",
        "    sort(numbers.begin(), numbers.end());\n",
        "    // 1 instruction\n",
        "    cout << \"Product: \" << numbers[n - 1] * numbers[n - 2] << \"\\n\";\n",
        "    // 1 instruction\n",
        "    return 0;\n",
        "}"
      ]
    },
    {
      "cell_type": "code",
      "source": [
        "%%writefile sort_solution_nlogn.py\n",
        "\n",
        "n = int(input())  # 1\n",
        "numbers = list(map(int, input().split()))  # n\n",
        "\n",
        "numbers.sort()  # n*log(n)\n",
        "product = numbers[-1] * numbers[-2]  # 1\n",
        "\n",
        "print(f\"Product: {product}\")  # 1"
      ],
      "metadata": {
        "colab": {
          "base_uri": "https://localhost:8080/"
        },
        "id": "siyxd1p442AV",
        "outputId": "cf91ba61-a7de-423e-f0d6-c0fae0a243be"
      },
      "execution_count": null,
      "outputs": [
        {
          "output_type": "stream",
          "name": "stdout",
          "text": [
            "Writing sort_solution_nlogn.py\n"
          ]
        }
      ]
    },
    {
      "cell_type": "markdown",
      "metadata": {
        "id": "v8pdV9ABOb_k"
      },
      "source": [
        "Test with inputs 1 and 2\n",
        "\n"
      ]
    },
    {
      "cell_type": "code",
      "execution_count": null,
      "metadata": {
        "id": "kdXAyLG4Ob_k",
        "colab": {
          "base_uri": "https://localhost:8080/"
        },
        "outputId": "613e93f0-2164-4c0b-bcd4-012a1d6dad9b"
      },
      "outputs": [
        {
          "output_type": "stream",
          "name": "stdout",
          "text": [
            "Product: 90\n",
            "Product: 90\n"
          ]
        }
      ],
      "source": [
        "!g++ sort_solution_nlogn.cpp -o sort_solution_nlogn\n",
        "!./sort_solution_nlogn < input1.txt\n",
        "!./sort_solution_nlogn < input2.txt"
      ]
    },
    {
      "cell_type": "code",
      "execution_count": null,
      "metadata": {
        "id": "ryHJ30WIOb_k",
        "colab": {
          "base_uri": "https://localhost:8080/"
        },
        "outputId": "b3cc1e20-0ae6-42c5-c819-b1e21488277b"
      },
      "outputs": [
        {
          "output_type": "stream",
          "name": "stdout",
          "text": [
            "Product: 90\n",
            "Product: 90\n"
          ]
        }
      ],
      "source": [
        "!python sort_solution_nlogn.py < input1.txt\n",
        "!python sort_solution_nlogn.py < input2.txt"
      ]
    },
    {
      "cell_type": "markdown",
      "metadata": {
        "id": "Sw-5X1q1Ob_k"
      },
      "source": [
        "Test and time it with input 3"
      ]
    },
    {
      "cell_type": "code",
      "source": [
        "!g++ sort_solution_nlogn.cpp -o sort_solution_nlogn\n",
        "!time ./sort_solution_nlogn < input3.txt"
      ],
      "metadata": {
        "colab": {
          "base_uri": "https://localhost:8080/"
        },
        "id": "ztEVuGxa5siS",
        "outputId": "0a278b08-bb8a-4b37-eb30-e60557180f6e"
      },
      "execution_count": null,
      "outputs": [
        {
          "output_type": "stream",
          "name": "stdout",
          "text": [
            "Product: 1345294336\n",
            "\n",
            "real\t0m0.003s\n",
            "user\t0m0.001s\n",
            "sys\t0m0.001s\n"
          ]
        }
      ]
    },
    {
      "cell_type": "code",
      "source": [
        "!time python sort_solution_nlogn.py < input3.txt"
      ],
      "metadata": {
        "colab": {
          "base_uri": "https://localhost:8080/"
        },
        "id": "kadDowlQ6DHj",
        "outputId": "fe6e7bfa-2edc-4aa6-a5f1-0e579b393f2c"
      },
      "execution_count": null,
      "outputs": [
        {
          "output_type": "stream",
          "name": "stdout",
          "text": [
            "Product: 40000000000\n",
            "\n",
            "real\t0m0.051s\n",
            "user\t0m0.035s\n",
            "sys\t0m0.013s\n"
          ]
        }
      ]
    },
    {
      "cell_type": "markdown",
      "metadata": {
        "id": "oJGdPl1HOb_k"
      },
      "source": [
        "20 stress tests"
      ]
    },
    {
      "cell_type": "code",
      "execution_count": null,
      "metadata": {
        "id": "pXHtO1dEOb_k",
        "colab": {
          "base_uri": "https://localhost:8080/"
        },
        "outputId": "7b4cdc11-f50f-4f1c-c8fd-5896cec37a48"
      },
      "outputs": [
        {
          "output_type": "stream",
          "name": "stdout",
          "text": [
            "Overwriting stress_test_x20.cpp\n"
          ]
        }
      ],
      "source": [
        "%%writefile stress_test_x20.cpp\n",
        "\n",
        "#include <iostream>\n",
        "#include <fstream>\n",
        "#include <cstdlib>\n",
        "#include <ctime>\n",
        "\n",
        "using namespace std;\n",
        "\n",
        "int main() {\n",
        "    srand(time(0)); // Inicializar la semilla del generador de números aleatorios\n",
        "\n",
        "    for (int i = 1; i <= 20; ++i) {\n",
        "        string fileName = \"sinput\" + to_string(i) + \".txt\";\n",
        "\n",
        "        ofstream file(fileName);\n",
        "        if (file.is_open()) {\n",
        "            int n = rand() % 38 + 3; // Generar un número aleatorio entre 3 y 40\n",
        "            file << n << \"\\n\";\n",
        "            for (int j = 0; j < n; ++j) {\n",
        "                file << rand() % 100 + 1 << \" \"; // Generar números aleatorios entre 1 y 100\n",
        "            }\n",
        "            file.close();\n",
        "        } else {\n",
        "            cout << \"No se pudo abrir el archivo \" << fileName << endl;\n",
        "        }\n",
        "    }\n",
        "\n",
        "    return 0;\n",
        "}"
      ]
    },
    {
      "cell_type": "code",
      "source": [
        "!g++ stress_test_x20.cpp -o stress_test_x20\n",
        "!./stress_test_x20"
      ],
      "metadata": {
        "id": "mfodKBKp69vt"
      },
      "execution_count": null,
      "outputs": []
    },
    {
      "cell_type": "code",
      "source": [
        "!./sort_solution_nlogn < sinput1.txt\n",
        "!./sort_solution_nlogn < sinput2.txt\n",
        "!./sort_solution_nlogn < sinput3.txt\n",
        "!./sort_solution_nlogn < sinput4.txt\n",
        "!./sort_solution_nlogn < sinput5.txt\n",
        "!./sort_solution_nlogn < sinput6.txt\n",
        "!./sort_solution_nlogn < sinput7.txt\n",
        "!./sort_solution_nlogn < sinput8.txt\n",
        "!./sort_solution_nlogn < sinput9.txt\n",
        "!./sort_solution_nlogn < sinput10.txt\n",
        "!./sort_solution_nlogn < sinput11.txt\n",
        "!./sort_solution_nlogn < sinput12.txt\n",
        "!./sort_solution_nlogn < sinput13.txt\n",
        "!./sort_solution_nlogn < sinput14.txt\n",
        "!./sort_solution_nlogn < sinput15.txt\n",
        "!./sort_solution_nlogn < sinput16.txt\n",
        "!./sort_solution_nlogn < sinput17.txt\n",
        "!./sort_solution_nlogn < sinput18.txt\n",
        "!./sort_solution_nlogn < sinput19.txt\n",
        "!./sort_solution_nlogn < sinput20.txt"
      ],
      "metadata": {
        "colab": {
          "base_uri": "https://localhost:8080/"
        },
        "id": "apU6cQQ5RgLx",
        "outputId": "ae4c748a-eb30-4de8-b16e-997102d044f9"
      },
      "execution_count": null,
      "outputs": [
        {
          "output_type": "stream",
          "name": "stdout",
          "text": [
            "Product: 9801\n",
            "Product: 9506\n",
            "Product: 9800\n",
            "Product: 9800\n",
            "Product: 4514\n",
            "Product: 9215\n",
            "Product: 5115\n",
            "Product: 8742\n",
            "Product: 10000\n",
            "Product: 9310\n",
            "Product: 8835\n",
            "Product: 8613\n",
            "Product: 2940\n",
            "Product: 8091\n",
            "Product: 8910\n",
            "Product: 9900\n",
            "Product: 9408\n",
            "Product: 3608\n",
            "Product: 9215\n",
            "Product: 8272\n"
          ]
        }
      ]
    },
    {
      "cell_type": "code",
      "source": [
        "!python sort_solution_nlogn.py < sinput1.txt\n",
        "!python sort_solution_nlogn.py < sinput2.txt\n",
        "!python sort_solution_nlogn.py < sinput3.txt\n",
        "!python sort_solution_nlogn.py < sinput4.txt\n",
        "!python sort_solution_nlogn.py < sinput5.txt\n",
        "!python sort_solution_nlogn.py < sinput6.txt\n",
        "!python sort_solution_nlogn.py < sinput7.txt\n",
        "!python sort_solution_nlogn.py < sinput8.txt\n",
        "!python sort_solution_nlogn.py < sinput9.txt\n",
        "!python sort_solution_nlogn.py < sinput10.txt\n",
        "!python sort_solution_nlogn.py < sinput11.txt\n",
        "!python sort_solution_nlogn.py < sinput12.txt\n",
        "!python sort_solution_nlogn.py < sinput13.txt\n",
        "!python sort_solution_nlogn.py < sinput14.txt\n",
        "!python sort_solution_nlogn.py < sinput15.txt\n",
        "!python sort_solution_nlogn.py < sinput16.txt\n",
        "!python sort_solution_nlogn.py < sinput17.txt\n",
        "!python sort_solution_nlogn.py < sinput18.txt\n",
        "!python sort_solution_nlogn.py < sinput19.txt\n",
        "!python sort_solution_nlogn.py < sinput20.txt"
      ],
      "metadata": {
        "colab": {
          "base_uri": "https://localhost:8080/"
        },
        "id": "WOyw1Yl5Se79",
        "outputId": "4c6d5190-daf2-4b8a-9efb-7825278f263c"
      },
      "execution_count": null,
      "outputs": [
        {
          "output_type": "stream",
          "name": "stdout",
          "text": [
            "Product: 9801\n",
            "Product: 9506\n",
            "Product: 9800\n",
            "Product: 9800\n",
            "Product: 4514\n",
            "Product: 9215\n",
            "Product: 5115\n",
            "Product: 8742\n",
            "Product: 10000\n",
            "Product: 9310\n",
            "Product: 8835\n",
            "Product: 8613\n",
            "Product: 2940\n",
            "Product: 8091\n",
            "Product: 8910\n",
            "Product: 9900\n",
            "Product: 9408\n",
            "Product: 3608\n",
            "Product: 9215\n",
            "Product: 8272\n"
          ]
        }
      ]
    },
    {
      "cell_type": "markdown",
      "metadata": {
        "id": "2beTmWFPOb_k"
      },
      "source": [
        "Count executed instructions in code and verify with inputs 1,2 and 3\n"
      ]
    },
    {
      "cell_type": "code",
      "execution_count": null,
      "metadata": {
        "id": "iuByv4x1Ob_k",
        "colab": {
          "base_uri": "https://localhost:8080/"
        },
        "outputId": "ec4cb86b-02b1-4ce8-f5e2-bc94f730ecdc"
      },
      "outputs": [
        {
          "output_type": "stream",
          "name": "stdout",
          "text": [
            "Overwriting sort_solution_nlogn.cpp\n"
          ]
        }
      ],
      "source": [
        "%%writefile sort_solution_nlogn.cpp\n",
        "#include <iostream>\n",
        "#include <vector>\n",
        "#include <algorithm>\n",
        "#include <cmath>\n",
        "\n",
        "using namespace std;\n",
        "\n",
        "int main() {\n",
        "    int instructions;\n",
        "    // 1 instruction\n",
        "    int n;\n",
        "    instructions++;\n",
        "    // 1 instruction\n",
        "    cin >> n;\n",
        "    instructions++;\n",
        "    // n instructions\n",
        "    vector<int> numbers(n);\n",
        "    instructions += n;\n",
        "\n",
        "    // 1 + 2n instructions\n",
        "    for (int i = 0; i < n; ++i) {\n",
        "        // 1 instruction\n",
        "        instructions++;\n",
        "        cin >> numbers[i];\n",
        "        instructions += 2;\n",
        "    }\n",
        "\n",
        "    // n*log(n) instructions\n",
        "    sort(numbers.begin(), numbers.end());\n",
        "    instructions += n * log2(n);\n",
        "    // 1 instruction\n",
        "    cout << \"Product: \" << numbers[n - 1] * numbers[n - 2] << \"\\n\";\n",
        "    instructions += 3;\n",
        "    // 1 instruction\n",
        "    cout << \"Total instructions executed: \" << instructions << \"\\n\";\n",
        "    return 0;\n",
        "}"
      ]
    },
    {
      "cell_type": "code",
      "source": [
        "!g++ sort_solution_nlogn.cpp -o sort_solution_nlogn"
      ],
      "metadata": {
        "id": "obqRbmuYWshy"
      },
      "execution_count": null,
      "outputs": []
    },
    {
      "cell_type": "code",
      "source": [
        "!./sort_solution_nlogn < input1.txt\n",
        "!./sort_solution_nlogn < input2.txt\n",
        "!./sort_solution_nlogn < input3.txt"
      ],
      "metadata": {
        "colab": {
          "base_uri": "https://localhost:8080/"
        },
        "id": "vCH14gR_W0n5",
        "outputId": "6c68eb13-dd76-478c-b4f0-8dbda2fa9b20"
      },
      "execution_count": null,
      "outputs": [
        {
          "output_type": "stream",
          "name": "stdout",
          "text": [
            "Product: 90\n",
            "Total instructions executed: 78\n",
            "Product: 90\n",
            "Total instructions executed: 78\n",
            "Product: 1345294336\n",
            "Total instructions executed: 44\n"
          ]
        }
      ]
    },
    {
      "cell_type": "code",
      "source": [
        "%%writefile sort_solution_nlogn.py\n",
        "import math as m\n",
        "\n",
        "instructions = 0\n",
        "n = int(input())  # 1\n",
        "instructions += 1\n",
        "numbers = list(map(int, input().split()))  # n\n",
        "instructions += 4 * n\n",
        "\n",
        "numbers.sort()  # n*log(n)\n",
        "instructions += m.log2(n)\n",
        "product = numbers[-1] * numbers[-2]  # 1\n",
        "instructions += 2\n",
        "\n",
        "print(f\"Product: {product}\")  # 1\n",
        "instructions += 1\n",
        "\n",
        "print(\"Total instructions executed:\", int(instructions))"
      ],
      "metadata": {
        "colab": {
          "base_uri": "https://localhost:8080/"
        },
        "id": "e6ZWYGzIXp0N",
        "outputId": "b6896e12-2768-4a12-f2bb-3cb5e9c32b87"
      },
      "execution_count": null,
      "outputs": [
        {
          "output_type": "stream",
          "name": "stdout",
          "text": [
            "Overwriting sort_solution_nlogn.py\n"
          ]
        }
      ]
    },
    {
      "cell_type": "code",
      "source": [
        "!python sort_solution_nlogn.py < input1.txt\n",
        "!python sort_solution_nlogn.py < input2.txt\n",
        "!python sort_solution_nlogn.py < input3.txt"
      ],
      "metadata": {
        "colab": {
          "base_uri": "https://localhost:8080/"
        },
        "id": "jbLpV-T7YH7t",
        "outputId": "72803d0b-549a-4456-d34e-38e87090006c"
      },
      "execution_count": null,
      "outputs": [
        {
          "output_type": "stream",
          "name": "stdout",
          "text": [
            "Product: 90\n",
            "Total instructions executed: 47\n",
            "Product: 90\n",
            "Total instructions executed: 47\n",
            "Product: 40000000000\n",
            "Total instructions executed: 30\n"
          ]
        }
      ]
    },
    {
      "cell_type": "markdown",
      "metadata": {
        "id": "x2CXhkwTOb_l"
      },
      "source": [
        "Calculate estimated time by instruction and number of instructions by second"
      ]
    },
    {
      "cell_type": "code",
      "execution_count": null,
      "metadata": {
        "id": "nTjxyTMtOb_l",
        "colab": {
          "base_uri": "https://localhost:8080/"
        },
        "outputId": "2bad62e8-7af8-44fd-d056-f9986952088b"
      },
      "outputs": [
        {
          "output_type": "stream",
          "name": "stdout",
          "text": [
            "Product: 90\n",
            "Total instructions executed: 78\n",
            "CPU times: user 6.44 ms, sys: 1.08 ms, total: 7.52 ms\n",
            "Wall time: 107 ms\n"
          ]
        }
      ],
      "source": [
        "%%time\n",
        "!./sort_solution_nlogn < input1.txt"
      ]
    },
    {
      "cell_type": "code",
      "source": [
        "# Time by instruction = time execution / total instructions\n",
        "instructionTime = 0.00644 / 78\n",
        "instructionsSec = 1 / instructionTime\n",
        "\n",
        "print(\"Time by instruction:\", instructionTime)\n",
        "print(\"Instructions by second:\", instructionsSec)"
      ],
      "metadata": {
        "colab": {
          "base_uri": "https://localhost:8080/"
        },
        "id": "XvQKNtYiaebG",
        "outputId": "17f61236-bad4-4bf8-e7e5-f0c5d53b1fd5"
      },
      "execution_count": null,
      "outputs": [
        {
          "output_type": "stream",
          "name": "stdout",
          "text": [
            "Time by instruction: 6.858974358974359e-05\n",
            "Instructions by second: 14579.43925233645\n"
          ]
        }
      ]
    },
    {
      "cell_type": "code",
      "source": [
        "%%time\n",
        "!python sort_solution_nlogn.py < input1.txt"
      ],
      "metadata": {
        "colab": {
          "base_uri": "https://localhost:8080/"
        },
        "id": "OVT47x_kbejC",
        "outputId": "9fbf62f6-86cb-4166-f9be-418c7c77aabf"
      },
      "execution_count": null,
      "outputs": [
        {
          "output_type": "stream",
          "name": "stdout",
          "text": [
            "Product: 90\n",
            "Total instructions executed: 47\n",
            "CPU times: user 6.33 ms, sys: 1.22 ms, total: 7.55 ms\n",
            "Wall time: 113 ms\n"
          ]
        }
      ]
    },
    {
      "cell_type": "code",
      "source": [
        "# Time by instruction = time execution / total instructions\n",
        "instructionTime = 0.00633 / 47\n",
        "instructionsSec = 1 / instructionTime\n",
        "\n",
        "print(\"Time by instruction:\", instructionTime)\n",
        "print(\"Instructions by second:\", instructionsSec)"
      ],
      "metadata": {
        "colab": {
          "base_uri": "https://localhost:8080/"
        },
        "id": "ax_vYfhOb7nI",
        "outputId": "652f76cc-2927-447a-df1f-251d86c8616c"
      },
      "execution_count": null,
      "outputs": [
        {
          "output_type": "stream",
          "name": "stdout",
          "text": [
            "Time by instruction: 0.0001346808510638298\n",
            "Instructions by second: 7424.960505529226\n"
          ]
        }
      ]
    },
    {
      "cell_type": "code",
      "execution_count": null,
      "metadata": {
        "colab": {
          "base_uri": "https://localhost:8080/"
        },
        "outputId": "ab004a3c-14e8-4c48-f321-f4f537836c44",
        "id": "iU9XZe0Cba5m"
      },
      "outputs": [
        {
          "output_type": "stream",
          "name": "stdout",
          "text": [
            "Product: 90\n",
            "Total instructions executed: 78\n",
            "CPU times: user 5.56 ms, sys: 0 ns, total: 5.56 ms\n",
            "Wall time: 106 ms\n"
          ]
        }
      ],
      "source": [
        "%%time\n",
        "!./sort_solution_nlogn < input2.txt"
      ]
    },
    {
      "cell_type": "code",
      "source": [
        "# Time by instruction = time execution / total instructions\n",
        "instructionTime = 0.00556 / 78\n",
        "instructionsSec = 1 / instructionTime\n",
        "\n",
        "print(\"Time by instruction:\", instructionTime)\n",
        "print(\"Instructions by second:\", instructionsSec)"
      ],
      "metadata": {
        "colab": {
          "base_uri": "https://localhost:8080/"
        },
        "outputId": "3844e097-b439-4fa0-b332-a8f4a79f87a7",
        "id": "pjtcvk6xba6A"
      },
      "execution_count": null,
      "outputs": [
        {
          "output_type": "stream",
          "name": "stdout",
          "text": [
            "Time by instruction: 7.128205128205128e-05\n",
            "Instructions by second: 14028.776978417267\n"
          ]
        }
      ]
    },
    {
      "cell_type": "code",
      "source": [
        "%%time\n",
        "!python sort_solution_nlogn.py < input2.txt"
      ],
      "metadata": {
        "colab": {
          "base_uri": "https://localhost:8080/"
        },
        "outputId": "b5696dce-a754-44e9-dfbe-e322569c4f92",
        "id": "6d9t4CZKcEvE"
      },
      "execution_count": null,
      "outputs": [
        {
          "output_type": "stream",
          "name": "stdout",
          "text": [
            "Product: 90\n",
            "Total instructions executed: 47\n",
            "CPU times: user 7.26 ms, sys: 0 ns, total: 7.26 ms\n",
            "Wall time: 105 ms\n"
          ]
        }
      ]
    },
    {
      "cell_type": "code",
      "source": [
        "# Time by instruction = time execution / total instructions\n",
        "instructionTime = 0.00726 / 47\n",
        "instructionsSec = 1 / instructionTime\n",
        "\n",
        "print(\"Time by instruction:\", instructionTime)\n",
        "print(\"Instructions by second:\", instructionsSec)"
      ],
      "metadata": {
        "colab": {
          "base_uri": "https://localhost:8080/"
        },
        "outputId": "678e8251-7217-4886-8499-730cd3fa22fb",
        "id": "n_akNxtHcEvG"
      },
      "execution_count": null,
      "outputs": [
        {
          "output_type": "stream",
          "name": "stdout",
          "text": [
            "Time by instruction: 0.00015446808510638299\n",
            "Instructions by second: 6473.829201101928\n"
          ]
        }
      ]
    },
    {
      "cell_type": "code",
      "execution_count": null,
      "metadata": {
        "colab": {
          "base_uri": "https://localhost:8080/"
        },
        "outputId": "e09daa25-0054-47d9-ba15-39575690c93d",
        "id": "0KPQpRY9cSsh"
      },
      "outputs": [
        {
          "output_type": "stream",
          "name": "stdout",
          "text": [
            "Product: 1345294336\n",
            "Total instructions executed: 44\n",
            "CPU times: user 5.02 ms, sys: 0 ns, total: 5.02 ms\n",
            "Wall time: 104 ms\n"
          ]
        }
      ],
      "source": [
        "%%time\n",
        "!./sort_solution_nlogn < input3.txt"
      ]
    },
    {
      "cell_type": "code",
      "source": [
        "# Time by instruction = time execution / total instructions\n",
        "instructionTime = 0.00502 / 44\n",
        "instructionsSec = 1 / instructionTime\n",
        "\n",
        "print(\"Time by instruction:\", instructionTime)\n",
        "print(\"Instructions by second:\", instructionsSec)"
      ],
      "metadata": {
        "colab": {
          "base_uri": "https://localhost:8080/"
        },
        "outputId": "5c8f10fa-a159-4924-a3f6-51ca42990a27",
        "id": "A3DbozKNcSst"
      },
      "execution_count": null,
      "outputs": [
        {
          "output_type": "stream",
          "name": "stdout",
          "text": [
            "Time by instruction: 0.00011409090909090909\n",
            "Instructions by second: 8764.940239043824\n"
          ]
        }
      ]
    },
    {
      "cell_type": "code",
      "source": [
        "%%time\n",
        "!python sort_solution_nlogn.py < input3.txt"
      ],
      "metadata": {
        "colab": {
          "base_uri": "https://localhost:8080/"
        },
        "outputId": "a05cad17-dca8-4624-b4f1-77cf1eb1e2fa",
        "id": "b6ujc78hcSst"
      },
      "execution_count": null,
      "outputs": [
        {
          "output_type": "stream",
          "name": "stdout",
          "text": [
            "Product: 40000000000\n",
            "Total instructions executed: 30\n",
            "CPU times: user 6.69 ms, sys: 0 ns, total: 6.69 ms\n",
            "Wall time: 107 ms\n"
          ]
        }
      ]
    },
    {
      "cell_type": "code",
      "source": [
        "# Time by instruction = time execution / total instructions\n",
        "instructionTime = 0.00669 / 30\n",
        "instructionsSec = 1 / instructionTime\n",
        "\n",
        "print(\"Time by instruction:\", instructionTime)\n",
        "print(\"Instructions by second:\", instructionsSec)"
      ],
      "metadata": {
        "colab": {
          "base_uri": "https://localhost:8080/"
        },
        "outputId": "9d099de7-bcde-4521-c0f8-7e188ffd3ee1",
        "id": "yZoJ-b4OcSst"
      },
      "execution_count": null,
      "outputs": [
        {
          "output_type": "stream",
          "name": "stdout",
          "text": [
            "Time by instruction: 0.000223\n",
            "Instructions by second: 4484.304932735426\n"
          ]
        }
      ]
    },
    {
      "cell_type": "markdown",
      "metadata": {
        "id": "VMKC5duEOQfk"
      },
      "source": [
        "### Efficient solution largest and second-largest in an list, array or vector in C++ and Python\n",
        " $$2.5 n = O(n)$$\n",
        "\n",
        "\n",
        "\n"
      ]
    },
    {
      "cell_type": "markdown",
      "metadata": {
        "id": "nLcKBwbU0QsE"
      },
      "source": [
        "Add in each line a coment with the number of intstrcution that are executed in that line"
      ]
    },
    {
      "cell_type": "code",
      "execution_count": null,
      "metadata": {
        "id": "knls5Fh3NSt_",
        "colab": {
          "base_uri": "https://localhost:8080/"
        },
        "outputId": "7e1f9158-b10e-4379-f774-cf8fe54bf68e"
      },
      "outputs": [
        {
          "output_type": "stream",
          "name": "stdout",
          "text": [
            "Overwriting sort_efficient_solution.cpp\n"
          ]
        }
      ],
      "source": [
        "%%writefile sort_efficient_solution.cpp\n",
        "\n",
        "#include <iostream>\n",
        "#include <vector>\n",
        "#include <climits>\n",
        "\n",
        "using namespace std;\n",
        "\n",
        "pair<int, int> largest_numbers(vector<int>& numbers) {\n",
        "    int largest = INT_MIN; // 1\n",
        "    int secondlargest = INT_MIN; // 1\n",
        "\n",
        "    for (int i = 0; i < numbers.size(); ++i) { // 1 + 2n\n",
        "        int act = numbers[i]; // n\n",
        "\n",
        "        if (act > largest){ // n\n",
        "            secondlargest = largest; // [0, n]\n",
        "            largest = act; // [0, n]\n",
        "\n",
        "        } else if (act > secondlargest) { // n\n",
        "            secondlargest = act; // [0, n]\n",
        "        }\n",
        "\n",
        "    }\n",
        "\n",
        "    return make_pair(largest, secondlargest);\n",
        "}\n",
        "\n",
        "int main() {\n",
        "    int n; // 1\n",
        "    cin >> n; // 1\n",
        "\n",
        "    vector<int> numbers(n); // n\n",
        "\n",
        "    for (int i = 0; i < n; ++i) { // 1 + 2n\n",
        "        cin >> numbers[i]; // n\n",
        "    }\n",
        "\n",
        "    pair<int, int> result = largest_numbers(numbers); // 1\n",
        "\n",
        "    cout <<  \"Product: \" << result.first * result.second << \"\\n\"; // 1\n",
        "    return 0; // 1\n",
        "}"
      ]
    },
    {
      "cell_type": "code",
      "source": [
        "!g++ sort_efficient_solution.cpp -o sort_efficient_solution"
      ],
      "metadata": {
        "id": "G2LU7jE_jzre"
      },
      "execution_count": null,
      "outputs": []
    },
    {
      "cell_type": "code",
      "source": [
        "%%writefile sort_efficient_solution_python.py\n",
        "\n",
        "def largest_numbers(numbers):\n",
        "    largest = float('-inf')  # 1\n",
        "    second_largest = float('-inf')  # 1\n",
        "\n",
        "    for num in numbers:  # 1 + 2n\n",
        "        if num > largest:  # n\n",
        "            second_largest = largest  # [0, n]\n",
        "            largest = num  # [0, n]\n",
        "        elif num > second_largest:  # n\n",
        "            second_largest = num  # [0, n]\n",
        "\n",
        "    return largest, second_largest\n",
        "\n",
        "def main():\n",
        "    n = int(input())  # 1\n",
        "    numbers = list(map(int, input().split()))  # n\n",
        "\n",
        "    result = largest_numbers(numbers)  # 1\n",
        "\n",
        "    print(\"Product:\", result[0] * result[1])  # 1\n",
        "\n",
        "if __name__ == \"__main__\":\n",
        "    main()"
      ],
      "metadata": {
        "colab": {
          "base_uri": "https://localhost:8080/"
        },
        "id": "i1u4GKb2mECl",
        "outputId": "999f07ae-de29-4ad7-d44a-4b04bdf5da51"
      },
      "execution_count": null,
      "outputs": [
        {
          "output_type": "stream",
          "name": "stdout",
          "text": [
            "Writing sort_efficient_solution_python.py\n"
          ]
        }
      ]
    },
    {
      "cell_type": "markdown",
      "metadata": {
        "id": "-JCijbWxNSii"
      },
      "source": [
        "Test with inputs 1 and 2\n",
        "\n"
      ]
    },
    {
      "cell_type": "code",
      "execution_count": null,
      "metadata": {
        "id": "TrTGAfqlNVXT",
        "colab": {
          "base_uri": "https://localhost:8080/"
        },
        "outputId": "44964e0c-106b-4cf8-a3ef-16a2c522420f"
      },
      "outputs": [
        {
          "output_type": "stream",
          "name": "stdout",
          "text": [
            "Product: 90\n",
            "Product: 90\n"
          ]
        }
      ],
      "source": [
        "!./sort_efficient_solution < input1.txt\n",
        "!./sort_efficient_solution < input2.txt"
      ]
    },
    {
      "cell_type": "code",
      "source": [
        "! python sort_efficient_solution_python.py < input1.txt\n",
        "! python sort_efficient_solution_python.py < input2.txt"
      ],
      "metadata": {
        "colab": {
          "base_uri": "https://localhost:8080/"
        },
        "id": "fgxaEWdDmW7n",
        "outputId": "28083978-41d7-4d44-cdd0-78128f459253"
      },
      "execution_count": null,
      "outputs": [
        {
          "output_type": "stream",
          "name": "stdout",
          "text": [
            "Product: 90\n",
            "Product: 90\n"
          ]
        }
      ]
    },
    {
      "cell_type": "markdown",
      "metadata": {
        "id": "PRX51wADNR8b"
      },
      "source": [
        "Test and time it with input 3"
      ]
    },
    {
      "cell_type": "code",
      "source": [
        "!g++ sort_efficient_solution.cpp -o sort_efficient_solution\n",
        "!time ./sort_efficient_solution < input3.txt"
      ],
      "metadata": {
        "colab": {
          "base_uri": "https://localhost:8080/"
        },
        "outputId": "b8e11934-7c1c-4496-d271-c40fc1ebfc6f",
        "id": "q4nBi5nFmsRy"
      },
      "execution_count": null,
      "outputs": [
        {
          "output_type": "stream",
          "name": "stdout",
          "text": [
            "Product: 1345294336\n",
            "\n",
            "real\t0m0.003s\n",
            "user\t0m0.001s\n",
            "sys\t0m0.001s\n"
          ]
        }
      ]
    },
    {
      "cell_type": "code",
      "source": [
        "!time python sort_efficient_solution_python.py < input3.txt"
      ],
      "metadata": {
        "colab": {
          "base_uri": "https://localhost:8080/"
        },
        "outputId": "e3c2cf41-1885-4f4d-f128-13ea3927a536",
        "id": "rsw6BXZXmsSI"
      },
      "execution_count": null,
      "outputs": [
        {
          "output_type": "stream",
          "name": "stdout",
          "text": [
            "Product: 40000000000\n",
            "\n",
            "real\t0m0.056s\n",
            "user\t0m0.039s\n",
            "sys\t0m0.011s\n"
          ]
        }
      ]
    },
    {
      "cell_type": "markdown",
      "metadata": {
        "id": "rpdfs0_TNZJf"
      },
      "source": [
        "20 stress tests"
      ]
    },
    {
      "cell_type": "code",
      "execution_count": null,
      "metadata": {
        "colab": {
          "base_uri": "https://localhost:8080/"
        },
        "outputId": "fdad219d-4dc2-4eae-ff6d-f6fcf62ef0f7",
        "id": "9aGO8KGoqFH_"
      },
      "outputs": [
        {
          "output_type": "stream",
          "name": "stdout",
          "text": [
            "Overwriting stress_test_x20.cpp\n"
          ]
        }
      ],
      "source": [
        "%%writefile stress_test_x20.cpp\n",
        "\n",
        "#include <iostream>\n",
        "#include <fstream>\n",
        "#include <cstdlib>\n",
        "#include <ctime>\n",
        "\n",
        "using namespace std;\n",
        "\n",
        "int main() {\n",
        "    srand(time(0)); // Inicializar la semilla del generador de números aleatorios\n",
        "\n",
        "    for (int i = 1; i <= 20; ++i) {\n",
        "        string fileName = \"sinput\" + to_string(i) + \".txt\";\n",
        "\n",
        "        ofstream file(fileName);\n",
        "        if (file.is_open()) {\n",
        "            int n = rand() % 38 + 3; // Generar un número aleatorio entre 3 y 40\n",
        "            file << n << \"\\n\";\n",
        "            for (int j = 0; j < n; ++j) {\n",
        "                file << rand() % 100 + 1 << \" \"; // Generar números aleatorios entre 1 y 100\n",
        "            }\n",
        "            file.close();\n",
        "        } else {\n",
        "            cout << \"No se pudo abrir el archivo \" << fileName << endl;\n",
        "        }\n",
        "    }\n",
        "\n",
        "    return 0;\n",
        "}"
      ]
    },
    {
      "cell_type": "code",
      "source": [
        "!g++ stress_test_x20.cpp -o stress_test_x20\n",
        "!./stress_test_x20"
      ],
      "metadata": {
        "id": "rgEZCNRmqFIC"
      },
      "execution_count": null,
      "outputs": []
    },
    {
      "cell_type": "code",
      "source": [
        "!./sort_efficient_solution < sinput1.txt\n",
        "!./sort_efficient_solution < sinput2.txt\n",
        "!./sort_efficient_solution < sinput3.txt\n",
        "!./sort_efficient_solution < sinput4.txt\n",
        "!./sort_efficient_solution < sinput5.txt\n",
        "!./sort_efficient_solution < sinput6.txt\n",
        "!./sort_efficient_solution < sinput7.txt\n",
        "!./sort_efficient_solution < sinput8.txt\n",
        "!./sort_efficient_solution < sinput9.txt\n",
        "!./sort_efficient_solution < sinput10.txt\n",
        "!./sort_efficient_solution < sinput11.txt\n",
        "!./sort_efficient_solution < sinput12.txt\n",
        "!./sort_efficient_solution < sinput13.txt\n",
        "!./sort_efficient_solution < sinput14.txt\n",
        "!./sort_efficient_solution < sinput15.txt\n",
        "!./sort_efficient_solution < sinput16.txt\n",
        "!./sort_efficient_solution < sinput17.txt\n",
        "!./sort_efficient_solution < sinput18.txt\n",
        "!./sort_efficient_solution < sinput19.txt\n",
        "!./sort_efficient_solution < sinput20.txt"
      ],
      "metadata": {
        "colab": {
          "base_uri": "https://localhost:8080/"
        },
        "outputId": "61d4b0a1-53e0-48ba-d04f-339b91bf5aed",
        "id": "MjqzmTU6qFID"
      },
      "execution_count": null,
      "outputs": [
        {
          "output_type": "stream",
          "name": "stdout",
          "text": [
            "Product: 6468\n",
            "Product: 9216\n",
            "Product: 8190\n",
            "Product: 9405\n",
            "Product: 9700\n",
            "Product: 3325\n",
            "Product: 8439\n",
            "Product: 9024\n",
            "Product: 8645\n",
            "Product: 8100\n",
            "Product: 8178\n",
            "Product: 8544\n",
            "Product: 5254\n",
            "Product: 7990\n",
            "Product: 9801\n",
            "Product: 8742\n",
            "Product: 9900\n",
            "Product: 8554\n",
            "Product: 6992\n",
            "Product: 10000\n"
          ]
        }
      ]
    },
    {
      "cell_type": "code",
      "source": [
        "!python sort_efficient_solution_python.py < sinput1.txt\n",
        "!python sort_efficient_solution_python.py < sinput2.txt\n",
        "!python sort_efficient_solution_python.py < sinput3.txt\n",
        "!python sort_efficient_solution_python.py < sinput4.txt\n",
        "!python sort_efficient_solution_python.py < sinput5.txt\n",
        "!python sort_efficient_solution_python.py < sinput6.txt\n",
        "!python sort_efficient_solution_python.py < sinput7.txt\n",
        "!python sort_efficient_solution_python.py < sinput8.txt\n",
        "!python sort_efficient_solution_python.py < sinput9.txt\n",
        "!python sort_efficient_solution_python.py < sinput10.txt\n",
        "!python sort_efficient_solution_python.py < sinput11.txt\n",
        "!python sort_efficient_solution_python.py < sinput12.txt\n",
        "!python sort_efficient_solution_python.py < sinput13.txt\n",
        "!python sort_efficient_solution_python.py < sinput14.txt\n",
        "!python sort_efficient_solution_python.py < sinput15.txt\n",
        "!python sort_efficient_solution_python.py < sinput16.txt\n",
        "!python sort_efficient_solution_python.py < sinput17.txt\n",
        "!python sort_efficient_solution_python.py < sinput18.txt\n",
        "!python sort_efficient_solution_python.py < sinput19.txt\n",
        "!python sort_efficient_solution_python.py < sinput20.txt"
      ],
      "metadata": {
        "colab": {
          "base_uri": "https://localhost:8080/"
        },
        "outputId": "74438636-60b6-45e4-abb8-3b36bf4948f5",
        "id": "OQjzDICmqFID"
      },
      "execution_count": null,
      "outputs": [
        {
          "output_type": "stream",
          "name": "stdout",
          "text": [
            "Product: 6468\n",
            "Product: 9216\n",
            "Product: 8190\n",
            "Product: 9405\n",
            "Product: 9700\n",
            "Product: 3325\n",
            "Product: 8439\n",
            "Product: 9024\n",
            "Product: 8645\n",
            "Product: 8100\n",
            "Product: 8178\n",
            "Product: 8544\n",
            "Product: 5254\n",
            "Product: 7990\n",
            "Product: 9801\n",
            "Product: 8742\n",
            "Product: 9900\n",
            "Product: 8554\n",
            "Product: 6992\n",
            "Product: 10000\n"
          ]
        }
      ]
    },
    {
      "cell_type": "markdown",
      "metadata": {
        "id": "L8U4151JNbxk"
      },
      "source": [
        "Count executed instructions in code and verify with inputs 1,2 and 3\n"
      ]
    },
    {
      "cell_type": "code",
      "execution_count": null,
      "metadata": {
        "id": "dh85RM8vNhFz",
        "colab": {
          "base_uri": "https://localhost:8080/"
        },
        "outputId": "651ecd2b-fad3-4b96-e23c-faea3e4b2493"
      },
      "outputs": [
        {
          "output_type": "stream",
          "name": "stdout",
          "text": [
            "Overwriting sort_efficient_solution.cpp\n"
          ]
        }
      ],
      "source": [
        "%%writefile sort_efficient_solution.cpp\n",
        "\n",
        "#include <iostream>\n",
        "#include <vector>\n",
        "#include <climits>\n",
        "\n",
        "using namespace std;\n",
        "int instructions;\n",
        "\n",
        "pair<int, int> largest_numbers(vector<int>& numbers) {\n",
        "    int largest = INT_MIN; // 1\n",
        "    instructions++;\n",
        "    int secondlargest = INT_MIN; // 1\n",
        "    instructions++;\n",
        "\n",
        "    for (int i = 0; i < numbers.size(); ++i) { // 1 + 2n\n",
        "        int act = numbers[i]; // n\n",
        "        instructions += 2;\n",
        "\n",
        "        if (act > largest){ // n\n",
        "            secondlargest = largest; // [0, n]\n",
        "            largest = act; // [0, n]\n",
        "            instructions += 2;\n",
        "\n",
        "        } else if (act > secondlargest) { // n\n",
        "            secondlargest = act; // [0, n]\n",
        "            instructions ++;\n",
        "        }\n",
        "\n",
        "    }\n",
        "\n",
        "    return make_pair(largest, secondlargest);\n",
        "}\n",
        "\n",
        "int main() {\n",
        "    int n; // 1\n",
        "    instructions++;\n",
        "    cin >> n; // 1\n",
        "    instructions++;\n",
        "\n",
        "    vector<int> numbers(n); // n\n",
        "    instructions += n;\n",
        "\n",
        "    for (int i = 0; i < n; ++i) { // 1 + 2n\n",
        "        cin >> numbers[i]; // n\n",
        "        instructions++;\n",
        "    }\n",
        "\n",
        "    pair<int, int> result = largest_numbers(numbers); // 1\n",
        "    instructions++;\n",
        "\n",
        "    cout <<  \"Product: \" << result.first * result.second << \"\\n\"; // 1\n",
        "    cout << \"Total instructions executed: \" << instructions << \"\\n\";\n",
        "    return 0; // 1\n",
        "}"
      ]
    },
    {
      "cell_type": "code",
      "source": [
        "!g++ sort_efficient_solution.cpp -o sort_efficient_solution"
      ],
      "metadata": {
        "id": "YSTa3rc5sE0F"
      },
      "execution_count": null,
      "outputs": []
    },
    {
      "cell_type": "code",
      "source": [
        "!./sort_efficient_solution < input1.txt\n",
        "!./sort_efficient_solution < input2.txt\n",
        "!./sort_efficient_solution < input3.txt"
      ],
      "metadata": {
        "colab": {
          "base_uri": "https://localhost:8080/"
        },
        "id": "UlEC2-mGt0kt",
        "outputId": "47077958-19bb-4755-8ec9-eceace642049"
      },
      "execution_count": null,
      "outputs": [
        {
          "output_type": "stream",
          "name": "stdout",
          "text": [
            "Product: 90\n",
            "Total instructions executed: 65\n",
            "Product: 90\n",
            "Total instructions executed: 48\n",
            "Product: 1345294336\n",
            "Total instructions executed: 37\n"
          ]
        }
      ]
    },
    {
      "cell_type": "code",
      "source": [
        "%%writefile sort_efficient_solution_python.py\n",
        "\n",
        "def largest_numbers(numbers):\n",
        "    instructions = 0\n",
        "    largest = float('-inf')  # 1\n",
        "    instructions += 1\n",
        "    second_largest = float('-inf')  # 1\n",
        "    instructions += 1\n",
        "\n",
        "    for num in numbers:  # 1 + 2n\n",
        "        if num > largest:  # n\n",
        "            second_largest = largest  # [0, n]\n",
        "            largest = num  # [0, n]\n",
        "            instructions += 2\n",
        "        elif num > second_largest:  # n\n",
        "            second_largest = num  # [0, n]\n",
        "            instructions += 1\n",
        "\n",
        "    return largest, second_largest, instructions\n",
        "\n",
        "def main():\n",
        "    instructions = 0\n",
        "\n",
        "    n = int(input())  # 1\n",
        "    instructions += 2\n",
        "    numbers = list(map(int, input().split()))  # n\n",
        "    instructions += 4*n\n",
        "\n",
        "    result = largest_numbers(numbers)  # 1\n",
        "    instructions += result[2] + 1\n",
        "\n",
        "    print(\"Product:\", result[0] * result[1])  # 1\n",
        "    print(\"Total instructions executed:\", instructions)\n",
        "\n",
        "if __name__ == \"__main__\":\n",
        "    main()"
      ],
      "metadata": {
        "colab": {
          "base_uri": "https://localhost:8080/"
        },
        "id": "toh0gaUVuIf-",
        "outputId": "25cbe096-d7de-4697-adc8-2b70bc65cdb2"
      },
      "execution_count": null,
      "outputs": [
        {
          "output_type": "stream",
          "name": "stdout",
          "text": [
            "Overwriting sort_efficient_solution_python.py\n"
          ]
        }
      ]
    },
    {
      "cell_type": "code",
      "source": [
        "!python sort_efficient_solution_python.py < input1.txt\n",
        "!python sort_efficient_solution_python.py < input2.txt\n",
        "!python sort_efficient_solution_python.py < input3.txt"
      ],
      "metadata": {
        "colab": {
          "base_uri": "https://localhost:8080/"
        },
        "id": "fcKAcE63uRyD",
        "outputId": "96e3bf62-eb24-46ce-fd94-40b7cdf68174"
      },
      "execution_count": null,
      "outputs": [
        {
          "output_type": "stream",
          "name": "stdout",
          "text": [
            "Product: 90\n",
            "Total instructions executed: 65\n",
            "Product: 90\n",
            "Total instructions executed: 48\n",
            "Product: 40000000000\n",
            "Total instructions executed: 37\n"
          ]
        }
      ]
    },
    {
      "cell_type": "markdown",
      "metadata": {
        "id": "K6ybgCmpNygr"
      },
      "source": [
        "Calculate estimated time by instruction and number of instructions by second"
      ]
    },
    {
      "cell_type": "code",
      "execution_count": null,
      "metadata": {
        "colab": {
          "base_uri": "https://localhost:8080/"
        },
        "outputId": "44a6f052-9242-425a-965f-199a02d7aacc",
        "id": "hUp8WT49xP0f"
      },
      "outputs": [
        {
          "output_type": "stream",
          "name": "stdout",
          "text": [
            "Product: 90\n",
            "Total instructions executed: 65\n",
            "CPU times: user 3.96 ms, sys: 1.2 ms, total: 5.17 ms\n",
            "Wall time: 105 ms\n"
          ]
        }
      ],
      "source": [
        "%%time\n",
        "!./sort_efficient_solution < input1.txt"
      ]
    },
    {
      "cell_type": "code",
      "source": [
        "# Time by instruction = time execution / total instructions\n",
        "instructionTime = 0.00396 / 65\n",
        "instructionsSec = 1 / instructionTime\n",
        "\n",
        "print(\"Time by instruction:\", instructionTime)\n",
        "print(\"Instructions by second:\", instructionsSec)"
      ],
      "metadata": {
        "colab": {
          "base_uri": "https://localhost:8080/"
        },
        "outputId": "8526d085-a16a-4e59-b1f6-b7f77364cee3",
        "id": "_R1AJh0hxP0x"
      },
      "execution_count": null,
      "outputs": [
        {
          "output_type": "stream",
          "name": "stdout",
          "text": [
            "Time by instruction: 6.092307692307692e-05\n",
            "Instructions by second: 16414.141414141413\n"
          ]
        }
      ]
    },
    {
      "cell_type": "code",
      "source": [
        "%%time\n",
        "!python sort_efficient_solution_python.py < input1.txt"
      ],
      "metadata": {
        "colab": {
          "base_uri": "https://localhost:8080/"
        },
        "outputId": "de7c924a-e579-412f-e0eb-a973b510a1e8",
        "id": "Dd_ExpPHxP0y"
      },
      "execution_count": null,
      "outputs": [
        {
          "output_type": "stream",
          "name": "stdout",
          "text": [
            "Product: 90\n",
            "Total instructions executed: 65\n",
            "CPU times: user 4.79 ms, sys: 917 µs, total: 5.71 ms\n",
            "Wall time: 106 ms\n"
          ]
        }
      ]
    },
    {
      "cell_type": "code",
      "source": [
        "# Time by instruction = time execution / total instructions\n",
        "instructionTime = 0.00479 / 65\n",
        "instructionsSec = 1 / instructionTime\n",
        "\n",
        "print(\"Time by instruction:\", instructionTime)\n",
        "print(\"Instructions by second:\", instructionsSec)"
      ],
      "metadata": {
        "colab": {
          "base_uri": "https://localhost:8080/"
        },
        "outputId": "0530281f-0b69-48c8-9b94-97fdec842d82",
        "id": "bWELHap7xP0z"
      },
      "execution_count": null,
      "outputs": [
        {
          "output_type": "stream",
          "name": "stdout",
          "text": [
            "Time by instruction: 7.36923076923077e-05\n",
            "Instructions by second: 13569.937369519832\n"
          ]
        }
      ]
    },
    {
      "cell_type": "code",
      "execution_count": null,
      "metadata": {
        "colab": {
          "base_uri": "https://localhost:8080/"
        },
        "outputId": "0169bda2-16f3-417c-d85a-b5c8f2174d62",
        "id": "BpoxBoSjxP0z"
      },
      "outputs": [
        {
          "output_type": "stream",
          "name": "stdout",
          "text": [
            "Product: 90\n",
            "Total instructions executed: 48\n",
            "CPU times: user 5.13 ms, sys: 1.18 ms, total: 6.31 ms\n",
            "Wall time: 106 ms\n"
          ]
        }
      ],
      "source": [
        "%%time\n",
        "!./sort_efficient_solution < input2.txt"
      ]
    },
    {
      "cell_type": "code",
      "source": [
        "# Time by instruction = time execution / total instructions\n",
        "instructionTime = 0.00513 / 48\n",
        "instructionsSec = 1 / instructionTime\n",
        "\n",
        "print(\"Time by instruction:\", instructionTime)\n",
        "print(\"Instructions by second:\", instructionsSec)"
      ],
      "metadata": {
        "colab": {
          "base_uri": "https://localhost:8080/"
        },
        "outputId": "a73946d7-b18c-43f8-d68f-0e2f0c6f9673",
        "id": "CfJMXps-xP00"
      },
      "execution_count": null,
      "outputs": [
        {
          "output_type": "stream",
          "name": "stdout",
          "text": [
            "Time by instruction: 0.000106875\n",
            "Instructions by second: 9356.72514619883\n"
          ]
        }
      ]
    },
    {
      "cell_type": "code",
      "source": [
        "%%time\n",
        "!python sort_efficient_solution_python.py < input2.txt"
      ],
      "metadata": {
        "colab": {
          "base_uri": "https://localhost:8080/"
        },
        "outputId": "27f7ac4a-05a1-453e-e9c0-5f3dc5cd5add",
        "id": "25VTRj0kxP00"
      },
      "execution_count": null,
      "outputs": [
        {
          "output_type": "stream",
          "name": "stdout",
          "text": [
            "Product: 90\n",
            "Total instructions executed: 48\n",
            "CPU times: user 5.49 ms, sys: 0 ns, total: 5.49 ms\n",
            "Wall time: 106 ms\n"
          ]
        }
      ]
    },
    {
      "cell_type": "code",
      "source": [
        "# Time by instruction = time execution / total instructions\n",
        "instructionTime = 0.00549 / 48\n",
        "instructionsSec = 1 / instructionTime\n",
        "\n",
        "print(\"Time by instruction:\", instructionTime)\n",
        "print(\"Instructions by second:\", instructionsSec)"
      ],
      "metadata": {
        "colab": {
          "base_uri": "https://localhost:8080/"
        },
        "outputId": "ac1075a1-2c7e-4e46-f8ec-feb0d04be7ff",
        "id": "B9LrFWEYxP00"
      },
      "execution_count": null,
      "outputs": [
        {
          "output_type": "stream",
          "name": "stdout",
          "text": [
            "Time by instruction: 0.000114375\n",
            "Instructions by second: 8743.169398907105\n"
          ]
        }
      ]
    },
    {
      "cell_type": "code",
      "execution_count": null,
      "metadata": {
        "colab": {
          "base_uri": "https://localhost:8080/"
        },
        "outputId": "e648bb8a-15b4-4a09-aac7-2f80d12f8496",
        "id": "Tw8kVjRJxP01"
      },
      "outputs": [
        {
          "output_type": "stream",
          "name": "stdout",
          "text": [
            "Product: 1345294336\n",
            "Total instructions executed: 37\n",
            "CPU times: user 5.7 ms, sys: 831 µs, total: 6.53 ms\n",
            "Wall time: 106 ms\n"
          ]
        }
      ],
      "source": [
        "%%time\n",
        "!./sort_efficient_solution < input3.txt"
      ]
    },
    {
      "cell_type": "code",
      "source": [
        "# Time by instruction = time execution / total instructions\n",
        "instructionTime = 0.0057 / 37\n",
        "instructionsSec = 1 / instructionTime\n",
        "\n",
        "print(\"Time by instruction:\", instructionTime)\n",
        "print(\"Instructions by second:\", instructionsSec)"
      ],
      "metadata": {
        "colab": {
          "base_uri": "https://localhost:8080/"
        },
        "outputId": "d273fa5a-4f64-44a5-9356-ae0c8596158c",
        "id": "2MjtIwo1xP01"
      },
      "execution_count": null,
      "outputs": [
        {
          "output_type": "stream",
          "name": "stdout",
          "text": [
            "Time by instruction: 0.00015405405405405405\n",
            "Instructions by second: 6491.228070175439\n"
          ]
        }
      ]
    },
    {
      "cell_type": "code",
      "source": [
        "%%time\n",
        "!python sort_efficient_solution_python.py < input3.txt"
      ],
      "metadata": {
        "colab": {
          "base_uri": "https://localhost:8080/"
        },
        "outputId": "63d13e03-0d53-4ab8-c42c-fdca16a63188",
        "id": "SzNcIFVwxP01"
      },
      "execution_count": null,
      "outputs": [
        {
          "output_type": "stream",
          "name": "stdout",
          "text": [
            "Product: 40000000000\n",
            "Total instructions executed: 37\n",
            "CPU times: user 5.84 ms, sys: 30 µs, total: 5.87 ms\n",
            "Wall time: 106 ms\n"
          ]
        }
      ]
    },
    {
      "cell_type": "code",
      "source": [
        "# Time by instruction = time execution / total instructions\n",
        "instructionTime = 0.00584 / 37\n",
        "instructionsSec = 1 / instructionTime\n",
        "\n",
        "print(\"Time by instruction:\", instructionTime)\n",
        "print(\"Instructions by second:\", instructionsSec)"
      ],
      "metadata": {
        "colab": {
          "base_uri": "https://localhost:8080/"
        },
        "outputId": "2efc13f1-adc4-4e95-8a9f-1c4bd28e89b7",
        "id": "4W_G4LLkxP01"
      },
      "execution_count": null,
      "outputs": [
        {
          "output_type": "stream",
          "name": "stdout",
          "text": [
            "Time by instruction: 0.00015783783783783782\n",
            "Instructions by second: 6335.616438356165\n"
          ]
        }
      ]
    },
    {
      "cell_type": "markdown",
      "metadata": {
        "id": "sUpIWcykOGpT"
      },
      "source": [
        "### Super efficient solution\n",
        "\n",
        "Whitout storing the list in memory, only stpring the largest and second largest and whitout calling a function, add in each line a coment with the number of instructions that are executed in that line\n",
        "\n",
        "in C++ and Python\n",
        " $$2 n = O(n)$$"
      ]
    },
    {
      "cell_type": "code",
      "execution_count": null,
      "metadata": {
        "id": "hBLt_xBQLy8E",
        "colab": {
          "base_uri": "https://localhost:8080/"
        },
        "outputId": "b0b4d062-a065-44d6-8ae1-ead24a75b674"
      },
      "outputs": [
        {
          "output_type": "stream",
          "name": "stdout",
          "text": [
            "Overwriting super_efficient_solution.cpp\n"
          ]
        }
      ],
      "source": [
        "%%writefile super_efficient_solution.cpp\n",
        "#include <iostream>\n",
        "#include <vector>\n",
        "#include <algorithm>\n",
        "\n",
        "using namespace std;\n",
        "\n",
        "int main() {\n",
        "    long long totalInstr = 0LL;\n",
        "\n",
        "    int n;\n",
        "    cin >> n;\n",
        "    totalInstr += 3;\n",
        "\n",
        "    long long largest = 0LL;\n",
        "    long long secondLargest = 0LL;\n",
        "\n",
        "    for (int i = 0; i < n; i++) {\n",
        "        int num;\n",
        "        cin >> num;\n",
        "        totalInstr += 2;\n",
        "\n",
        "        if (num >= largest) {\n",
        "            secondLargest = largest;\n",
        "            largest = num;\n",
        "            totalInstr += 4;\n",
        "        } else if (num > secondLargest) {\n",
        "            secondLargest = num;\n",
        "            totalInstr += 2;\n",
        "        }\n",
        "    }\n",
        "\n",
        "    long long result = largest * secondLargest;\n",
        "    totalInstr++;\n",
        "\n",
        "    cout << \"Total Instructions: \" << totalInstr << endl;\n",
        "    cout << \"Result: \" << result << endl;\n",
        "\n",
        "    return 0;\n",
        "}"
      ]
    },
    {
      "cell_type": "code",
      "source": [
        "!g++ ./super_efficient_solution.cpp -o ./super_efficient_solution"
      ],
      "metadata": {
        "id": "Ie1sTvyQcL7Z"
      },
      "execution_count": null,
      "outputs": []
    },
    {
      "cell_type": "markdown",
      "metadata": {
        "id": "683gc3roHqzb"
      },
      "source": [
        "Test with inputs 1 and 2\n",
        "\n",
        "\n"
      ]
    },
    {
      "cell_type": "code",
      "execution_count": null,
      "metadata": {
        "id": "b7d4LA8OIc2_",
        "colab": {
          "base_uri": "https://localhost:8080/"
        },
        "outputId": "f0bdc724-0e82-4b8b-ccfc-04470a470c51"
      },
      "outputs": [
        {
          "output_type": "stream",
          "name": "stdout",
          "text": [
            "Total Instructions: 28\n",
            "Result: 64\n",
            "Total Instructions: 4\n",
            "Result: 0\n"
          ]
        }
      ],
      "source": [
        "!./super_efficient_solution < input1.txt\n",
        "!./super_efficient_solution < input2.txt"
      ]
    },
    {
      "cell_type": "markdown",
      "metadata": {
        "id": "36Ugn1odIeJz"
      },
      "source": [
        "Test and time it with input 3"
      ]
    },
    {
      "cell_type": "code",
      "execution_count": null,
      "metadata": {
        "id": "jDyMbCnxHqSN",
        "colab": {
          "base_uri": "https://localhost:8080/"
        },
        "outputId": "2e04533d-7f08-4d98-f212-5bc7876f1e3f"
      },
      "outputs": [
        {
          "output_type": "stream",
          "name": "stdout",
          "text": [
            "Total Instructions: 34\n",
            "Result: 40000000000\n",
            "CPU times: user 5.69 ms, sys: 0 ns, total: 5.69 ms\n",
            "Wall time: 105 ms\n"
          ]
        }
      ],
      "source": [
        "%%time\n",
        "!./super_efficient_solution < input3.txt"
      ]
    },
    {
      "cell_type": "markdown",
      "metadata": {
        "id": "bhqiKQG6fjKM"
      },
      "source": [
        "20 stress tests"
      ]
    },
    {
      "cell_type": "code",
      "execution_count": null,
      "metadata": {
        "id": "2KsiXKhALzwm",
        "colab": {
          "base_uri": "https://localhost:8080/"
        },
        "outputId": "daa0ec76-0451-4636-a689-ddbeeeefc2df"
      },
      "outputs": [
        {
          "output_type": "stream",
          "name": "stdout",
          "text": [
            "Overwriting super_stress_test_x20.cpp\n"
          ]
        }
      ],
      "source": [
        "%%writefile super_stress_test_x20.cpp\n",
        "\n",
        "#include <iostream>\n",
        "#include <fstream>\n",
        "#include <cstdlib>\n",
        "#include <ctime>\n",
        "\n",
        "using namespace std;\n",
        "\n",
        "int main() {\n",
        "    srand(time(0)); // Inicializar la semilla del generador de números aleatorios\n",
        "\n",
        "    for (int i = 1; i <= 20; ++i) {\n",
        "        string fileName = \"sinput\" + to_string(i) + \".txt\";\n",
        "\n",
        "        ofstream file(fileName);\n",
        "        if (file.is_open()) {\n",
        "            int n = rand() % 38 + 3; // Generar un número aleatorio entre 3 y 40\n",
        "            file << n << \" \" << n << \"\\n\"; // Escribir dos números aleatorios en la primera línea\n",
        "            for (int j = 0; j < n; ++j) {\n",
        "                file << rand() % 100 + 1 << \" \"; // Generar números aleatorios entre 1 y 100\n",
        "            }\n",
        "            file.close();\n",
        "        } else {\n",
        "            cout << \"No se pudo abrir el archivo \" << fileName << endl;\n",
        "        }\n",
        "    }\n",
        "\n",
        "    return 0;\n",
        "}\n"
      ]
    },
    {
      "cell_type": "code",
      "source": [
        "!g++ super_stress_test_x20.cpp -o super_stress_test_x20\n",
        "!./super_stress_test_x20"
      ],
      "metadata": {
        "id": "duUM32L7iwQ3"
      },
      "execution_count": null,
      "outputs": []
    },
    {
      "cell_type": "code",
      "source": [
        "!./super_efficient_solution < sinput1.txt\n",
        "!./super_efficient_solution < sinput2.txt\n",
        "!./super_efficient_solution < sinput3.txt\n",
        "!./super_efficient_solution < sinput4.txt\n",
        "!./super_efficient_solution < sinput5.txt\n",
        "!./super_efficient_solution < sinput6.txt\n",
        "!./super_efficient_solution < sinput7.txt\n",
        "!./super_efficient_solution < sinput8.txt\n",
        "!./super_efficient_solution < sinput9.txt\n",
        "!./super_efficient_solution < sinput10.txt\n",
        "!./super_efficient_solution < sinput11.txt\n",
        "!./super_efficient_solution < sinput12.txt\n",
        "!./super_efficient_solution < sinput13.txt\n",
        "!./super_efficient_solution < sinput14.txt\n",
        "!./super_efficient_solution < sinput15.txt\n",
        "!./super_efficient_solution < sinput16.txt\n",
        "!./super_efficient_solution < sinput17.txt\n",
        "!./super_efficient_solution < sinput18.txt\n",
        "!./super_efficient_solution < sinput19.txt\n",
        "!./super_efficient_solution < sinput20.txt"
      ],
      "metadata": {
        "colab": {
          "base_uri": "https://localhost:8080/"
        },
        "id": "7Znk76skv4hj",
        "outputId": "4d904a24-8c16-418a-bdae-78941b31f5a2"
      },
      "execution_count": null,
      "outputs": [
        {
          "output_type": "stream",
          "name": "stdout",
          "text": [
            "Total Instructions: 58\n",
            "Result: 9108\n",
            "Total Instructions: 90\n",
            "Result: 9600\n",
            "Total Instructions: 44\n",
            "Result: 4345\n",
            "Total Instructions: 30\n",
            "Result: 3520\n",
            "Total Instructions: 92\n",
            "Result: 9405\n",
            "Total Instructions: 70\n",
            "Result: 6536\n",
            "Total Instructions: 76\n",
            "Result: 9312\n",
            "Total Instructions: 48\n",
            "Result: 9207\n",
            "Total Instructions: 102\n",
            "Result: 9800\n",
            "Total Instructions: 66\n",
            "Result: 9009\n",
            "Total Instructions: 86\n",
            "Result: 8372\n",
            "Total Instructions: 112\n",
            "Result: 8836\n",
            "Total Instructions: 92\n",
            "Result: 8008\n",
            "Total Instructions: 48\n",
            "Result: 5313\n",
            "Total Instructions: 104\n",
            "Result: 9800\n",
            "Total Instructions: 54\n",
            "Result: 6474\n",
            "Total Instructions: 94\n",
            "Result: 9306\n",
            "Total Instructions: 86\n",
            "Result: 9108\n",
            "Total Instructions: 52\n",
            "Result: 8648\n",
            "Total Instructions: 46\n",
            "Result: 8084\n"
          ]
        }
      ]
    },
    {
      "cell_type": "markdown",
      "metadata": {
        "id": "fEXj8GHJH5p1"
      },
      "source": [
        "Count executed instructions in code and verify with inputs 1,2 and 3"
      ]
    },
    {
      "cell_type": "code",
      "execution_count": null,
      "metadata": {
        "id": "LF1DHjKXIAsF",
        "colab": {
          "base_uri": "https://localhost:8080/"
        },
        "outputId": "ebb3d97f-c316-46b0-93bd-e6741e82ccad"
      },
      "outputs": [
        {
          "output_type": "stream",
          "name": "stdout",
          "text": [
            "Total Instructions: 28\n",
            "Result: 64\n",
            "Total Instructions: 4\n",
            "Result: 0\n",
            "Total Instructions: 34\n",
            "Result: 40000000000\n"
          ]
        }
      ],
      "source": [
        "!./super_efficient_solution < input1.txt\n",
        "!./super_efficient_solution < input2.txt\n",
        "!./super_efficient_solution < input3.txt"
      ]
    },
    {
      "cell_type": "markdown",
      "metadata": {
        "id": "yae7sSm2IG9U"
      },
      "source": [
        "Calculate estimated time by instruction and number of instructions by second"
      ]
    },
    {
      "cell_type": "code",
      "execution_count": null,
      "metadata": {
        "id": "suouY7BYL2dz",
        "colab": {
          "base_uri": "https://localhost:8080/"
        },
        "outputId": "e4ce8f1f-192a-434a-d031-684c7521b258"
      },
      "outputs": [
        {
          "output_type": "stream",
          "name": "stdout",
          "text": [
            "Total Instructions: 28\n",
            "Result: 64\n",
            "CPU times: user 3.22 ms, sys: 1.93 ms, total: 5.14 ms\n",
            "Wall time: 105 ms\n"
          ]
        }
      ],
      "source": [
        "%%time\n",
        "!./super_efficient_solution < input1.txt"
      ]
    },
    {
      "cell_type": "code",
      "source": [
        "# Time by instruction = time execution / total instructions\n",
        "instructionTime = 0.00322 / 65\n",
        "instructionsSec = 1 / instructionTime\n",
        "\n",
        "print(\"Time by instruction:\", instructionTime)\n",
        "print(\"Instructions by second:\", instructionsSec)"
      ],
      "metadata": {
        "colab": {
          "base_uri": "https://localhost:8080/"
        },
        "id": "ECOACBnKkA3G",
        "outputId": "bcd91c47-e52d-425b-9c44-97c72fe660f7"
      },
      "execution_count": null,
      "outputs": [
        {
          "output_type": "stream",
          "name": "stdout",
          "text": [
            "Time by instruction: 4.953846153846154e-05\n",
            "Instructions by second: 20186.335403726705\n"
          ]
        }
      ]
    },
    {
      "cell_type": "code",
      "source": [
        "%%time\n",
        "!./super_efficient_solution < input2.txt"
      ],
      "metadata": {
        "colab": {
          "base_uri": "https://localhost:8080/"
        },
        "id": "K-RVO3zUkBKa",
        "outputId": "542c379c-e9da-421e-f128-76b7c0f00fc4"
      },
      "execution_count": null,
      "outputs": [
        {
          "output_type": "stream",
          "name": "stdout",
          "text": [
            "Total Instructions: 4\n",
            "Result: 0\n",
            "CPU times: user 5.85 ms, sys: 0 ns, total: 5.85 ms\n",
            "Wall time: 105 ms\n"
          ]
        }
      ]
    },
    {
      "cell_type": "code",
      "source": [
        "# Time by instruction = time execution / total instructions\n",
        "instructionTime = 0.00585 / 65\n",
        "instructionsSec = 1 / instructionTime\n",
        "\n",
        "print(\"Time by instruction:\", instructionTime)\n",
        "print(\"Instructions by second:\", instructionsSec)"
      ],
      "metadata": {
        "colab": {
          "base_uri": "https://localhost:8080/"
        },
        "id": "dZLrYQcBkBbZ",
        "outputId": "e5caabb8-b276-4324-b608-03326289d0af"
      },
      "execution_count": null,
      "outputs": [
        {
          "output_type": "stream",
          "name": "stdout",
          "text": [
            "Time by instruction: 9e-05\n",
            "Instructions by second: 11111.111111111111\n"
          ]
        }
      ]
    },
    {
      "cell_type": "code",
      "source": [
        "%%time\n",
        "!./super_efficient_solution < input3.txt"
      ],
      "metadata": {
        "colab": {
          "base_uri": "https://localhost:8080/"
        },
        "id": "pwiQ7dbGkBsz",
        "outputId": "00cf792b-0848-4899-bdc2-a09067e46b99"
      },
      "execution_count": null,
      "outputs": [
        {
          "output_type": "stream",
          "name": "stdout",
          "text": [
            "Total Instructions: 34\n",
            "Result: 40000000000\n",
            "CPU times: user 4.8 ms, sys: 1.02 ms, total: 5.82 ms\n",
            "Wall time: 105 ms\n"
          ]
        }
      ]
    },
    {
      "cell_type": "code",
      "source": [
        "# Time by instruction = time execution / total instructions\n",
        "instructionTime = 0.00480 / 65\n",
        "instructionsSec = 1 / instructionTime\n",
        "\n",
        "print(\"Time by instruction:\", instructionTime)\n",
        "print(\"Instructions by second:\", instructionsSec)"
      ],
      "metadata": {
        "colab": {
          "base_uri": "https://localhost:8080/"
        },
        "id": "p6q6YcL4klrP",
        "outputId": "ee17d070-b2f4-41b7-91a9-656ae93708fb"
      },
      "execution_count": null,
      "outputs": [
        {
          "output_type": "stream",
          "name": "stdout",
          "text": [
            "Time by instruction: 7.384615384615384e-05\n",
            "Instructions by second: 13541.666666666666\n"
          ]
        }
      ]
    },
    {
      "cell_type": "markdown",
      "metadata": {
        "id": "sy33CNNfPxcE"
      },
      "source": [
        "### Super efficient solution in Python\n",
        "\n",
        "Whitout storing the list in memory and whitout calling a function, add in each line a coment with the number of intstrcution that are executed in that line"
      ]
    },
    {
      "cell_type": "code",
      "execution_count": null,
      "metadata": {
        "id": "_mOjJwKrPxcJ",
        "colab": {
          "base_uri": "https://localhost:8080/"
        },
        "outputId": "515b3a59-379c-4a0e-9923-a0d15c541c3e"
      },
      "outputs": [
        {
          "output_type": "stream",
          "name": "stdout",
          "text": [
            "Overwriting super_efficient_solution_python.py\n"
          ]
        }
      ],
      "source": [
        "%%writefile super_efficient_solution_python.py\n",
        "totalInstr = 0\n",
        "\n",
        "n, m = map(int, input().split())  # Lee dos números de la primera línea\n",
        "totalInstr += 3\n",
        "\n",
        "largest = 0\n",
        "secondLargest = 0\n",
        "\n",
        "for i in range(n):\n",
        "    num = i\n",
        "    totalInstr += 2\n",
        "\n",
        "    if num >= largest:\n",
        "        secondLargest = largest\n",
        "        largest = num\n",
        "        totalInstr += 4\n",
        "    elif num > secondLargest:\n",
        "        secondLargest = num\n",
        "        totalInstr += 2\n",
        "\n",
        "result = largest * secondLargest\n",
        "totalInstr += 1\n",
        "\n",
        "print(\"Total Instructions:\", totalInstr)\n",
        "print(\"Result:\", result)"
      ]
    },
    {
      "cell_type": "markdown",
      "metadata": {
        "id": "K08Eow0hPxcJ"
      },
      "source": [
        "Test with inputs 1 and 2\n",
        "\n",
        "\n"
      ]
    },
    {
      "cell_type": "code",
      "execution_count": null,
      "metadata": {
        "id": "1_mUee2cPxcJ",
        "colab": {
          "base_uri": "https://localhost:8080/"
        },
        "outputId": "e8366019-4f5d-4120-d099-83fd2ce9a62b"
      },
      "outputs": [
        {
          "output_type": "stream",
          "name": "stdout",
          "text": [
            "Total Instructions: 28\n",
            "Result: 6\n",
            "Total Instructions: 4\n",
            "Result: 0\n"
          ]
        }
      ],
      "source": [
        "!python super_efficient_solution_python.py < input1.txt\n",
        "!python super_efficient_solution_python.py < input2.txt"
      ]
    },
    {
      "cell_type": "markdown",
      "metadata": {
        "id": "CE5DB3CmPxcJ"
      },
      "source": [
        "Test and time it with input 3"
      ]
    },
    {
      "cell_type": "code",
      "execution_count": null,
      "metadata": {
        "id": "lyLhFOoePxcJ",
        "colab": {
          "base_uri": "https://localhost:8080/"
        },
        "outputId": "48a54158-a352-43a8-8aed-189bdca48d10"
      },
      "outputs": [
        {
          "output_type": "stream",
          "name": "stdout",
          "text": [
            "/bin/bash: line 1: ./super_efficient_solution_python.py: Permission denied\n",
            "CPU times: user 6.38 ms, sys: 1.21 ms, total: 7.59 ms\n",
            "Wall time: 112 ms\n"
          ]
        }
      ],
      "source": [
        "%%time\n",
        "!./super_efficient_solution_python.py < input3.txt"
      ]
    },
    {
      "cell_type": "markdown",
      "metadata": {
        "id": "HZEI236lPxcK"
      },
      "source": [
        "20 stress tests"
      ]
    },
    {
      "cell_type": "code",
      "execution_count": null,
      "metadata": {
        "id": "_LoV-p4zPxcK",
        "colab": {
          "base_uri": "https://localhost:8080/"
        },
        "outputId": "3af1609c-3a9a-48be-c3d3-413f99535b19"
      },
      "outputs": [
        {
          "output_type": "stream",
          "name": "stdout",
          "text": [
            "Overwriting super_stress_test_x20_python.py\n"
          ]
        }
      ],
      "source": [
        "%%writefile super_stress_test_x20_python.py\n",
        "import random\n",
        "\n",
        "for i in range(1, 21):\n",
        "    fileName = f\"sinput{i}.txt\"\n",
        "\n",
        "    with open(fileName, \"w\") as file:\n",
        "        n = random.randint(3, 40)  # Generar un número aleatorio entre 3 y 40\n",
        "        file.write(f\"{n} {n}\\n\")  # Escribir dos números aleatorios en la primera línea\n",
        "        for j in range(n):\n",
        "            number = random.randint(1, 100)  # Generar números aleatorios entre 1 y 100\n",
        "            file.write(f\"{number} \")\n",
        "\n",
        "print(\"Archivos de entrada generados.\")"
      ]
    },
    {
      "cell_type": "code",
      "source": [
        "!python super_stress_test_x20_python.py"
      ],
      "metadata": {
        "colab": {
          "base_uri": "https://localhost:8080/"
        },
        "id": "_s4K_Dpku1pD",
        "outputId": "9a564573-be26-484a-8cb0-6ce0bf09c093"
      },
      "execution_count": null,
      "outputs": [
        {
          "output_type": "stream",
          "name": "stdout",
          "text": [
            "Archivos de entrada generados.\n"
          ]
        }
      ]
    },
    {
      "cell_type": "code",
      "source": [
        "!python super_efficient_solution_python.py < sinput1.txt\n",
        "!python super_efficient_solution_python.py < sinput2.txt\n",
        "!python super_efficient_solution_python.py < sinput3.txt\n",
        "!python super_efficient_solution_python.py < sinput4.txt\n",
        "!python super_efficient_solution_python.py < sinput5.txt\n",
        "!python super_efficient_solution_python.py < sinput6.txt\n",
        "!python super_efficient_solution_python.py < sinput7.txt\n",
        "!python super_efficient_solution_python.py < sinput8.txt\n",
        "!python super_efficient_solution_python.py < sinput9.txt\n",
        "!python super_efficient_solution_python.py < sinput10.txt\n",
        "!python super_efficient_solution_python.py < sinput11.txt\n",
        "!python super_efficient_solution_python.py < sinput12.txt\n",
        "!python super_efficient_solution_python.py < sinput13.txt\n",
        "!python super_efficient_solution_python.py < sinput14.txt\n",
        "!python super_efficient_solution_python.py < sinput15.txt\n",
        "!python super_efficient_solution_python.py < sinput16.txt\n",
        "!python super_efficient_solution_python.py < sinput17.txt\n",
        "!python super_efficient_solution_python.py < sinput18.txt\n",
        "!python super_efficient_solution_python.py < sinput19.txt\n",
        "!python super_efficient_solution_python.py < sinput20.txt"
      ],
      "metadata": {
        "colab": {
          "base_uri": "https://localhost:8080/"
        },
        "id": "2vFNITy_tGWL",
        "outputId": "6016d83d-887d-4b82-c209-1017946ab83d"
      },
      "execution_count": null,
      "outputs": [
        {
          "output_type": "stream",
          "name": "stdout",
          "text": [
            "Total Instructions: 130\n",
            "Result: 380\n",
            "Total Instructions: 154\n",
            "Result: 552\n",
            "Total Instructions: 100\n",
            "Result: 210\n",
            "Total Instructions: 58\n",
            "Result: 56\n",
            "Total Instructions: 58\n",
            "Result: 56\n",
            "Total Instructions: 118\n",
            "Result: 306\n",
            "Total Instructions: 136\n",
            "Result: 420\n",
            "Total Instructions: 142\n",
            "Result: 462\n",
            "^C\n",
            "Total Instructions: 22\n",
            "Result: 2\n",
            "Total Instructions: 106\n",
            "Result: 240\n",
            "Total Instructions: 166\n",
            "Result: 650\n",
            "Total Instructions: 166\n",
            "Result: 650\n",
            "Total Instructions: 100\n",
            "Result: 210\n",
            "Total Instructions: 64\n",
            "Result: 72\n",
            "Total Instructions: 190\n",
            "Result: 870\n",
            "Total Instructions: 28\n",
            "Result: 6\n",
            "Total Instructions: 106\n",
            "Result: 240\n",
            "Total Instructions: 220\n",
            "Result: 1190\n",
            "Total Instructions: 160\n",
            "Result: 600\n"
          ]
        }
      ]
    },
    {
      "cell_type": "markdown",
      "metadata": {
        "id": "IRVdP3iuPxcK"
      },
      "source": [
        "Count executed instructions in code and verify with inputs 1,2 and 3"
      ]
    },
    {
      "cell_type": "code",
      "execution_count": null,
      "metadata": {
        "id": "RghJOg78PxcK",
        "colab": {
          "base_uri": "https://localhost:8080/"
        },
        "outputId": "c83c4581-a5f5-42e6-fe6e-d7e910757638"
      },
      "outputs": [
        {
          "output_type": "stream",
          "name": "stdout",
          "text": [
            "Total Instructions: 28\n",
            "Result: 6\n",
            "Total Instructions: 4\n",
            "Result: 0\n",
            "Traceback (most recent call last):\n",
            "  File \"/content/super_efficient_solution_python.py\", line 3, in <module>\n",
            "    n, m = map(int, input().split())  # Lee dos números de la primera línea\n",
            "ValueError: not enough values to unpack (expected 2, got 1)\n"
          ]
        }
      ],
      "source": [
        "!python super_efficient_solution_python.py < input1.txt\n",
        "!python super_efficient_solution_python.py < input2.txt\n",
        "!python super_efficient_solution_python.py < input3.txt"
      ]
    },
    {
      "cell_type": "markdown",
      "metadata": {
        "id": "R6qeUjPaPxcK"
      },
      "source": [
        "Calculate estimated time by instruction and number of instructions by second"
      ]
    },
    {
      "cell_type": "code",
      "source": [
        "%%time\n",
        "!python super_efficient_solution_python.py < input1.txt"
      ],
      "metadata": {
        "colab": {
          "base_uri": "https://localhost:8080/"
        },
        "id": "iegDeVCSwXl5",
        "outputId": "2c8a7334-3fea-4493-ffd9-0cce9f512f83"
      },
      "execution_count": null,
      "outputs": [
        {
          "output_type": "stream",
          "name": "stdout",
          "text": [
            "Total Instructions: 28\n",
            "Result: 6\n",
            "CPU times: user 5.91 ms, sys: 1.02 ms, total: 6.93 ms\n",
            "Wall time: 107 ms\n"
          ]
        }
      ]
    },
    {
      "cell_type": "code",
      "execution_count": null,
      "metadata": {
        "id": "iLdXYvn3PxcK",
        "colab": {
          "base_uri": "https://localhost:8080/"
        },
        "outputId": "e8cf0fce-7e16-40bc-86da-dd8fcaa456df"
      },
      "outputs": [
        {
          "output_type": "stream",
          "name": "stdout",
          "text": [
            "Time by instruction: 7.984615384615386e-05\n",
            "Instructions by second: 12524.084778420038\n"
          ]
        }
      ],
      "source": [
        "# Time by instruction = time execution / total instructions\n",
        "instructionTime = 0.00519 / 65\n",
        "instructionsSec = 1 / instructionTime\n",
        "\n",
        "print(\"Time by instruction:\", instructionTime)\n",
        "print(\"Instructions by second:\", instructionsSec)"
      ]
    },
    {
      "cell_type": "code",
      "source": [
        "%%time\n",
        "!python super_efficient_solution_python.py < input2.txt"
      ],
      "metadata": {
        "colab": {
          "base_uri": "https://localhost:8080/"
        },
        "id": "y0MT4uDEwbR2",
        "outputId": "3909a6fd-e587-4806-d255-1cb5158d3c29"
      },
      "execution_count": null,
      "outputs": [
        {
          "output_type": "stream",
          "name": "stdout",
          "text": [
            "Total Instructions: 4\n",
            "Result: 0\n",
            "CPU times: user 5.57 ms, sys: 976 µs, total: 6.54 ms\n",
            "Wall time: 105 ms\n"
          ]
        }
      ]
    },
    {
      "cell_type": "code",
      "source": [
        "# Time by instruction = time execution / total instructions\n",
        "instructionTime = 0.00600 / 65\n",
        "instructionsSec = 1 / instructionTime\n",
        "\n",
        "print(\"Time by instruction:\", instructionTime)\n",
        "print(\"Instructions by second:\", instructionsSec)"
      ],
      "metadata": {
        "colab": {
          "base_uri": "https://localhost:8080/"
        },
        "id": "eHtAGe4Fwbgx",
        "outputId": "f952b287-7ee6-4be1-e569-ff2a4f5360bb"
      },
      "execution_count": null,
      "outputs": [
        {
          "output_type": "stream",
          "name": "stdout",
          "text": [
            "Time by instruction: 9.230769230769232e-05\n",
            "Instructions by second: 10833.333333333332\n"
          ]
        }
      ]
    },
    {
      "cell_type": "code",
      "source": [
        "%%time\n",
        "!python super_efficient_solution_python.py < input3.txt"
      ],
      "metadata": {
        "colab": {
          "base_uri": "https://localhost:8080/"
        },
        "id": "BYtDEpVfwb0N",
        "outputId": "27e8c5f9-f761-4303-a058-e2749cb2699d"
      },
      "execution_count": null,
      "outputs": [
        {
          "output_type": "stream",
          "name": "stdout",
          "text": [
            "Traceback (most recent call last):\n",
            "  File \"/content/super_efficient_solution_python.py\", line 3, in <module>\n",
            "    n, m = map(int, input().split())  # Lee dos números de la primera línea\n",
            "ValueError: not enough values to unpack (expected 2, got 1)\n",
            "CPU times: user 7.79 ms, sys: 1.11 ms, total: 8.91 ms\n",
            "Wall time: 109 ms\n"
          ]
        }
      ]
    },
    {
      "cell_type": "code",
      "source": [
        "# Time by instruction = time execution / total instructions\n",
        "instructionTime = 0.00604 / 65\n",
        "instructionsSec = 1 / instructionTime\n",
        "\n",
        "print(\"Time by instruction:\", instructionTime)\n",
        "print(\"Instructions by second:\", instructionsSec)"
      ],
      "metadata": {
        "colab": {
          "base_uri": "https://localhost:8080/"
        },
        "id": "ySXGGDkSwcRA",
        "outputId": "c200e67d-4a01-4a1c-ad61-515fc1b673b5"
      },
      "execution_count": null,
      "outputs": [
        {
          "output_type": "stream",
          "name": "stdout",
          "text": [
            "Time by instruction: 9.292307692307692e-05\n",
            "Instructions by second: 10761.58940397351\n"
          ]
        }
      ]
    }
  ],
  "metadata": {
    "colab": {
      "provenance": []
    },
    "kernelspec": {
      "display_name": "Python 3",
      "name": "python3"
    },
    "language_info": {
      "name": "python"
    }
  },
  "nbformat": 4,
  "nbformat_minor": 0
}