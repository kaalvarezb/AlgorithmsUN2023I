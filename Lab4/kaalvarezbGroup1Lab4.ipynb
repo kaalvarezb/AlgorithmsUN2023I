{
  "cells": [
    {
      "cell_type": "code",
      "execution_count": null,
      "metadata": {
        "id": "im-VVd1__7VU",
        "colab": {
          "base_uri": "https://localhost:8080/"
        },
        "outputId": "d5bd8b8f-5d40-4ef5-d3e0-8ff12e120cc2"
      },
      "outputs": [
        {
          "output_type": "stream",
          "name": "stdout",
          "text": [
            "processor\t: 0\n",
            "vendor_id\t: GenuineIntel\n",
            "cpu family\t: 6\n",
            "model\t\t: 79\n",
            "model name\t: Intel(R) Xeon(R) CPU @ 2.20GHz\n",
            "stepping\t: 0\n",
            "microcode\t: 0xffffffff\n",
            "cpu MHz\t\t: 2200.238\n",
            "cache size\t: 56320 KB\n",
            "physical id\t: 0\n",
            "siblings\t: 2\n",
            "core id\t\t: 0\n",
            "cpu cores\t: 1\n",
            "apicid\t\t: 0\n",
            "initial apicid\t: 0\n",
            "fpu\t\t: yes\n",
            "fpu_exception\t: yes\n",
            "cpuid level\t: 13\n",
            "wp\t\t: yes\n",
            "flags\t\t: fpu vme de pse tsc msr pae mce cx8 apic sep mtrr pge mca cmov pat pse36 clflush mmx fxsr sse sse2 ss ht syscall nx pdpe1gb rdtscp lm constant_tsc rep_good nopl xtopology nonstop_tsc cpuid tsc_known_freq pni pclmulqdq ssse3 fma cx16 pcid sse4_1 sse4_2 x2apic movbe popcnt aes xsave avx f16c rdrand hypervisor lahf_lm abm 3dnowprefetch invpcid_single ssbd ibrs ibpb stibp fsgsbase tsc_adjust bmi1 hle avx2 smep bmi2 erms invpcid rtm rdseed adx smap xsaveopt arat md_clear arch_capabilities\n",
            "bugs\t\t: cpu_meltdown spectre_v1 spectre_v2 spec_store_bypass l1tf mds swapgs taa mmio_stale_data retbleed\n",
            "bogomips\t: 4400.47\n",
            "clflush size\t: 64\n",
            "cache_alignment\t: 64\n",
            "address sizes\t: 46 bits physical, 48 bits virtual\n",
            "power management:\n",
            "\n",
            "processor\t: 1\n",
            "vendor_id\t: GenuineIntel\n",
            "cpu family\t: 6\n",
            "model\t\t: 79\n",
            "model name\t: Intel(R) Xeon(R) CPU @ 2.20GHz\n",
            "stepping\t: 0\n",
            "microcode\t: 0xffffffff\n",
            "cpu MHz\t\t: 2200.238\n",
            "cache size\t: 56320 KB\n",
            "physical id\t: 0\n",
            "siblings\t: 2\n",
            "core id\t\t: 0\n",
            "cpu cores\t: 1\n",
            "apicid\t\t: 1\n",
            "initial apicid\t: 1\n",
            "fpu\t\t: yes\n",
            "fpu_exception\t: yes\n",
            "cpuid level\t: 13\n",
            "wp\t\t: yes\n",
            "flags\t\t: fpu vme de pse tsc msr pae mce cx8 apic sep mtrr pge mca cmov pat pse36 clflush mmx fxsr sse sse2 ss ht syscall nx pdpe1gb rdtscp lm constant_tsc rep_good nopl xtopology nonstop_tsc cpuid tsc_known_freq pni pclmulqdq ssse3 fma cx16 pcid sse4_1 sse4_2 x2apic movbe popcnt aes xsave avx f16c rdrand hypervisor lahf_lm abm 3dnowprefetch invpcid_single ssbd ibrs ibpb stibp fsgsbase tsc_adjust bmi1 hle avx2 smep bmi2 erms invpcid rtm rdseed adx smap xsaveopt arat md_clear arch_capabilities\n",
            "bugs\t\t: cpu_meltdown spectre_v1 spectre_v2 spec_store_bypass l1tf mds swapgs taa mmio_stale_data retbleed\n",
            "bogomips\t: 4400.47\n",
            "clflush size\t: 64\n",
            "cache_alignment\t: 64\n",
            "address sizes\t: 46 bits physical, 48 bits virtual\n",
            "power management:\n",
            "\n"
          ]
        }
      ],
      "source": []
    },
    {
      "cell_type": "markdown",
      "metadata": {
        "id": "N1ok_-56OjB1"
      },
      "source": [
        "# I Solving the Sum of Two Digits Programming Challenge"
      ]
    },
    {
      "cell_type": "markdown",
      "metadata": {
        "id": "MMY7kmDSO0KM"
      },
      "source": [
        "## C++"
      ]
    },
    {
      "cell_type": "code",
      "execution_count": null,
      "metadata": {
        "colab": {
          "base_uri": "https://localhost:8080/"
        },
        "id": "2pGGf9BkPNIk",
        "outputId": "f20d68e9-639b-4f2a-8d12-9e4f6591aa37"
      },
      "outputs": [
        {
          "output_type": "stream",
          "name": "stdout",
          "text": [
            "Overwriting APlusB.cpp\n"
          ]
        }
      ],
      "source": [
        "%%writefile APlusB.cpp\n",
        "#include <iostream>\n",
        "\n",
        "int sum_of_two_digits(int first_digit, int second_digit) {\n",
        "    return first_digit + second_digit;\n",
        "}\n",
        "\n",
        "int main() {\n",
        "    int a = 0;\n",
        "    int b = 0;\n",
        "    std::cin >> a;\n",
        "    std::cin >> b;\n",
        "    std::cout << sum_of_two_digits(a, b);\n",
        "    return 0;\n",
        "}"
      ]
    },
    {
      "cell_type": "code",
      "execution_count": null,
      "metadata": {
        "colab": {
          "base_uri": "https://localhost:8080/"
        },
        "id": "0G3ZKOYAPXSU",
        "outputId": "0f2f034d-8c2e-4807-b76b-d3ce1bc1d5e2"
      },
      "outputs": [
        {
          "output_type": "stream",
          "name": "stdout",
          "text": [
            "5 7\n",
            "12"
          ]
        }
      ],
      "source": [
        "!g++ APlusB.cpp -o APlusB -std=c++11\n",
        "!./APlusB"
      ]
    },
    {
      "cell_type": "markdown",
      "metadata": {
        "id": "iNkG2HqfTl9c"
      },
      "source": [
        "### Test input output files"
      ]
    },
    {
      "cell_type": "code",
      "execution_count": null,
      "metadata": {
        "colab": {
          "base_uri": "https://localhost:8080/"
        },
        "id": "aTzU2efzMxly",
        "outputId": "717504dd-ac96-4dd8-9e34-70006825e21f"
      },
      "outputs": [
        {
          "output_type": "stream",
          "name": "stdout",
          "text": [
            "Writing input1.txt\n"
          ]
        }
      ],
      "source": [
        "%%writefile input1.txt\n",
        "4 8"
      ]
    },
    {
      "cell_type": "code",
      "execution_count": null,
      "metadata": {
        "colab": {
          "base_uri": "https://localhost:8080/"
        },
        "id": "zBJ0Gc0NQRet",
        "outputId": "6cf46acb-071b-4c5d-8977-6153cfe16710"
      },
      "outputs": [
        {
          "output_type": "stream",
          "name": "stdout",
          "text": [
            "Writing output1.txt\n"
          ]
        }
      ],
      "source": [
        "%%writefile output1.txt\n",
        "12"
      ]
    },
    {
      "cell_type": "code",
      "execution_count": null,
      "metadata": {
        "colab": {
          "base_uri": "https://localhost:8080/"
        },
        "id": "IjEcIx63PJAN",
        "outputId": "d226045c-d00f-4412-eab7-d8cdaa1bb676"
      },
      "outputs": [
        {
          "output_type": "stream",
          "name": "stdout",
          "text": [
            "Writing input2.txt\n"
          ]
        }
      ],
      "source": [
        "%%writefile input2.txt\n",
        "0 9"
      ]
    },
    {
      "cell_type": "code",
      "execution_count": null,
      "metadata": {
        "colab": {
          "base_uri": "https://localhost:8080/"
        },
        "id": "Up9gOrxURTmd",
        "outputId": "32fd4cb1-33ee-4258-fe5e-e0c1e3083c8c"
      },
      "outputs": [
        {
          "output_type": "stream",
          "name": "stdout",
          "text": [
            "Writing output2.txt\n"
          ]
        }
      ],
      "source": [
        "%%writefile output2.txt\n",
        "9"
      ]
    },
    {
      "cell_type": "code",
      "execution_count": null,
      "metadata": {
        "colab": {
          "base_uri": "https://localhost:8080/"
        },
        "id": "PST6G-s-Pwgc",
        "outputId": "3302fc1f-03b7-4052-ddd7-0ae04e218e8f"
      },
      "outputs": [
        {
          "output_type": "stream",
          "name": "stdout",
          "text": [
            "/bin/bash: line 1: ./APlusB: No such file or directory\n"
          ]
        }
      ],
      "source": [
        "!./APlusB < input1.txt"
      ]
    },
    {
      "cell_type": "code",
      "execution_count": null,
      "metadata": {
        "colab": {
          "base_uri": "https://localhost:8080/"
        },
        "id": "cKxZOjSlRfIN",
        "outputId": "e840d5d5-90f4-4ee9-c3c9-9062488e0d83"
      },
      "outputs": [
        {
          "output_type": "stream",
          "name": "stdout",
          "text": [
            "/bin/bash: line 1: ./APlusB: No such file or directory\n"
          ]
        }
      ],
      "source": [
        "!./APlusB < input2.txt"
      ]
    },
    {
      "cell_type": "markdown",
      "metadata": {
        "id": "Qw2TQWCCUwqk"
      },
      "source": [
        "### Comparing files with grep\n",
        "\n",
        "https://askubuntu.com/questions/546796/comparing-two-text-files"
      ]
    },
    {
      "cell_type": "code",
      "execution_count": null,
      "metadata": {
        "id": "WVIaAmMKU4QM"
      },
      "outputs": [],
      "source": [
        "!grep -xvFf output1.txt output1.txt"
      ]
    },
    {
      "cell_type": "code",
      "execution_count": null,
      "metadata": {
        "id": "MQU8gPPjQuYO",
        "colab": {
          "base_uri": "https://localhost:8080/"
        },
        "outputId": "8798c838-8dc1-4af4-fad2-ef54b8cc46bd"
      },
      "outputs": [
        {
          "output_type": "stream",
          "name": "stdout",
          "text": [
            "9\n"
          ]
        }
      ],
      "source": [
        "!grep -xvFf output1.txt output2.txt"
      ]
    },
    {
      "cell_type": "code",
      "execution_count": null,
      "metadata": {
        "colab": {
          "base_uri": "https://localhost:8080/"
        },
        "id": "jYL9OuYBTD_l",
        "outputId": "2e43c11d-0f28-4ac3-e911-d07efb51c113"
      },
      "outputs": [
        {
          "output_type": "stream",
          "name": "stdout",
          "text": [
            "12\n"
          ]
        }
      ],
      "source": [
        "!grep -xvFf output2.txt output1.txt"
      ]
    },
    {
      "cell_type": "code",
      "execution_count": null,
      "metadata": {
        "id": "Jlja0Xm4TX9M"
      },
      "outputs": [],
      "source": [
        "!./APlusB < input1.txt> ctest1.txt\n",
        "!grep -xvFf output1.txt ctest1.txt"
      ]
    },
    {
      "cell_type": "code",
      "execution_count": null,
      "metadata": {
        "id": "g9OIUZA_QLCQ"
      },
      "outputs": [],
      "source": [
        "!./APlusB < input2.txt > ctest2.txt\n",
        "!grep -xvFf output2.txt ctest2.txt"
      ]
    },
    {
      "cell_type": "markdown",
      "metadata": {
        "id": "3BgOaDjUVJk6"
      },
      "source": [
        "## Python"
      ]
    },
    {
      "cell_type": "code",
      "execution_count": null,
      "metadata": {
        "colab": {
          "base_uri": "https://localhost:8080/"
        },
        "id": "DBvl-T0CTN_8",
        "outputId": "fcdf26ec-e0f3-4d5e-92b6-640c943a8870"
      },
      "outputs": [
        {
          "output_type": "stream",
          "name": "stdout",
          "text": [
            "Overwriting sum.py\n"
          ]
        }
      ],
      "source": [
        "%%writefile sum.py\n",
        "# python3\n",
        "\n",
        "def sum_of_two_digits(first_digit, second_digit):\n",
        "    return first_digit + second_digit\n",
        "\n",
        "if __name__ == '__main__':\n",
        "    a, b = map(int, input().split())\n",
        "    print(sum_of_two_digits(a, b))"
      ]
    },
    {
      "cell_type": "code",
      "execution_count": null,
      "metadata": {
        "colab": {
          "base_uri": "https://localhost:8080/"
        },
        "id": "QKoKM11_WGyF",
        "outputId": "1a112194-a0d9-480b-f5f0-cf4a4890e11a"
      },
      "outputs": [
        {
          "output_type": "stream",
          "name": "stdout",
          "text": [
            "4 7\n",
            "11\n"
          ]
        }
      ],
      "source": [
        "!python sum.py"
      ]
    },
    {
      "cell_type": "code",
      "execution_count": null,
      "metadata": {
        "id": "cocFbPRTWrqt"
      },
      "outputs": [],
      "source": [
        "!python sum.py  < input1.txt> ptest1.txt\n",
        "!grep -xvFf output1.txt ptest1.txt"
      ]
    },
    {
      "cell_type": "code",
      "execution_count": null,
      "metadata": {
        "id": "MorKTa-XXASN"
      },
      "outputs": [],
      "source": [
        "!python sum.py  < input2.txt> ptest2.txt\n",
        "!grep -xvFf output2.txt ptest2.txt"
      ]
    },
    {
      "cell_type": "markdown",
      "metadata": {
        "id": "uvP-mOubW_5F"
      },
      "source": [
        "# II Solving The Maximum Pairwise Product Programming Challenge in C++"
      ]
    },
    {
      "cell_type": "markdown",
      "metadata": {
        "id": "C12yoFR6Xonl"
      },
      "source": [
        "## C++\n",
        "\n",
        "$$ T(n) < 6 n^2 = O(n^2)$$"
      ]
    },
    {
      "cell_type": "code",
      "source": [
        "%%writefile max_pairwise_product_full.cpp\n",
        "#include <iostream>\n",
        "#include <vector>\n",
        "#include <algorithm>\n",
        "\n",
        "int MaxPairwiseProduct(const std::vector<int>& numbers) {\n",
        "    int max_product = 0;\n",
        "    int aux_product = 0;\n",
        "    int n = numbers.size();\n",
        "\n",
        "    for (int first = 0; first < n; ++first) {\n",
        "        for (int second = 0; second < n; ++second) {\n",
        "          if ( first != second ){\n",
        "                aux_product = numbers[first] * numbers[second];\n",
        "                if (aux_product > max_product)  max_product = aux_product;\n",
        "          }\n",
        "        }\n",
        "    }\n",
        "\n",
        "    return max_product;\n",
        "}\n",
        "\n",
        "int main() {\n",
        "    int n;\n",
        "    std::cin >> n;\n",
        "    std::vector<int> numbers(n);\n",
        "    for (int i = 0; i < n; ++i) {\n",
        "        std::cin >> numbers[i];\n",
        "    }\n",
        "\n",
        "    std::cout << MaxPairwiseProduct(numbers) << \"\\n\";\n",
        "    return 0;\n",
        "}"
      ],
      "metadata": {
        "colab": {
          "base_uri": "https://localhost:8080/"
        },
        "id": "3LpfoGv2Ae81",
        "outputId": "42d5c924-ad97-40cb-f2ea-ea22133e3c0e"
      },
      "execution_count": null,
      "outputs": [
        {
          "output_type": "stream",
          "name": "stdout",
          "text": [
            "Writing max_pairwise_product_full.cpp\n"
          ]
        }
      ]
    },
    {
      "cell_type": "markdown",
      "metadata": {
        "id": "m75IQQPbEHBS"
      },
      "source": [
        "#### Time Complexity\n",
        "$$\\left. \\begin{array}{llc}\n",
        " \\text{INSTRUCTION} & \\text{TYPE}& \\text{# EXECUTIONS}\\\\\n",
        "\\text{first != second} &  \\text{comparisons} &n^2 \\\\\n",
        "\\text{numbers[first] * numbers[second]}& \\ \\text{ products}  &n^2 - n \\\\\n",
        "\\text{max_product = aux_product} &  \\text{assigments} & [1, \\frac{n^2 - n}{2})  \n",
        "\\end{array}\\right\\}  =  O(n^2)$$"
      ]
    },
    {
      "cell_type": "code",
      "source": [
        "!g++ max_pairwise_product_full.cpp -o max_pairwise_product_full\n",
        "!./max_pairwise_product_full"
      ],
      "metadata": {
        "id": "PCVo1h6nCF9k",
        "colab": {
          "base_uri": "https://localhost:8080/"
        },
        "outputId": "228e46e2-a189-4c21-95a0-7f137fdeecf5"
      },
      "execution_count": null,
      "outputs": [
        {
          "output_type": "stream",
          "name": "stdout",
          "text": [
            "^C\n"
          ]
        }
      ]
    },
    {
      "cell_type": "markdown",
      "metadata": {
        "id": "e7KhxHGNS3i0"
      },
      "source": [
        "### Test 1: Small numbers"
      ]
    },
    {
      "cell_type": "code",
      "source": [
        "%%writefile input0.txt\n",
        "10\n",
        "0 0 0 0 0 0 0 0 0 0"
      ],
      "metadata": {
        "colab": {
          "base_uri": "https://localhost:8080/"
        },
        "id": "17npyXt7lYzA",
        "outputId": "afd74bf3-6417-4dd8-bd07-c0e14fc0c0d2"
      },
      "execution_count": null,
      "outputs": [
        {
          "output_type": "stream",
          "name": "stdout",
          "text": [
            "Writing input0.txt\n"
          ]
        }
      ]
    },
    {
      "cell_type": "code",
      "source": [
        "%%writefile output0.txt\n",
        "0"
      ],
      "metadata": {
        "colab": {
          "base_uri": "https://localhost:8080/"
        },
        "id": "NooGEkJylezm",
        "outputId": "ef603527-3ccc-4799-cf22-049da60acb00"
      },
      "execution_count": null,
      "outputs": [
        {
          "output_type": "stream",
          "name": "stdout",
          "text": [
            "Writing output0.txt\n"
          ]
        }
      ]
    },
    {
      "cell_type": "code",
      "source": [
        "!./max_pairwise_product_full< input0.txt > ctest0.txt\n",
        "!grep -xvFf output0.txt ctest0.txt"
      ],
      "metadata": {
        "id": "R0yFaAOrlqrE"
      },
      "execution_count": null,
      "outputs": []
    },
    {
      "cell_type": "code",
      "execution_count": null,
      "metadata": {
        "colab": {
          "base_uri": "https://localhost:8080/"
        },
        "id": "e1mmTzBgShT-",
        "outputId": "f1a7e49c-e3bc-4346-ffd3-6508395870e4"
      },
      "outputs": [
        {
          "output_type": "stream",
          "name": "stdout",
          "text": [
            "Overwriting input1.txt\n"
          ]
        }
      ],
      "source": [
        "%%writefile input1.txt\n",
        "10\n",
        "1 2 3 4 5 6 7 8 9 10"
      ]
    },
    {
      "cell_type": "code",
      "execution_count": null,
      "metadata": {
        "colab": {
          "base_uri": "https://localhost:8080/"
        },
        "id": "vy_uI0x7TCId",
        "outputId": "001c5db4-ba68-4141-f486-0e75fd4213a4"
      },
      "outputs": [
        {
          "output_type": "stream",
          "name": "stdout",
          "text": [
            "/bin/bash: line 1: ./max_pairwise_product: No such file or directory\n"
          ]
        }
      ],
      "source": [
        "!./max_pairwise_product < input1.txt"
      ]
    },
    {
      "cell_type": "code",
      "execution_count": null,
      "metadata": {
        "colab": {
          "base_uri": "https://localhost:8080/"
        },
        "id": "xaj6f9bxC6D6",
        "outputId": "b33760ca-fe6d-48da-a40c-7841e4dd9c1f"
      },
      "outputs": [
        {
          "output_type": "stream",
          "name": "stdout",
          "text": [
            "Overwriting output1.txt\n"
          ]
        }
      ],
      "source": [
        "%%writefile output1.txt\n",
        "90"
      ]
    },
    {
      "cell_type": "code",
      "execution_count": null,
      "metadata": {
        "id": "fYCjAdA_C-wy"
      },
      "outputs": [],
      "source": [
        "!./max_pairwise_product_full< input1.txt > ctest1.txt\n",
        "!grep -xvFf output1.txt ctest1.txt"
      ]
    },
    {
      "cell_type": "code",
      "source": [
        "%%writefile input2.txt\n",
        "10\n",
        "10 9 8 7 6 5 4 3 2 1"
      ],
      "metadata": {
        "colab": {
          "base_uri": "https://localhost:8080/"
        },
        "id": "ZPe40LY14_6f",
        "outputId": "9bf2a89f-c6d2-4d6a-b903-f5756214d44c"
      },
      "execution_count": null,
      "outputs": [
        {
          "output_type": "stream",
          "name": "stdout",
          "text": [
            "Overwriting input2.txt\n"
          ]
        }
      ]
    },
    {
      "cell_type": "code",
      "source": [
        "%%writefile output2.txt\n",
        "90"
      ],
      "metadata": {
        "colab": {
          "base_uri": "https://localhost:8080/"
        },
        "id": "xiHmF7HA5Faa",
        "outputId": "83e9a252-1578-40f6-8e34-a680ed526d52"
      },
      "execution_count": null,
      "outputs": [
        {
          "output_type": "stream",
          "name": "stdout",
          "text": [
            "Overwriting output2.txt\n"
          ]
        }
      ]
    },
    {
      "cell_type": "code",
      "source": [
        "!./max_pairwise_product_full< input2.txt > ctest2.txt\n",
        "!grep -xvFf output2.txt ctest2.txt"
      ],
      "metadata": {
        "id": "jjwc9kwb5t_k"
      },
      "execution_count": null,
      "outputs": []
    },
    {
      "cell_type": "markdown",
      "metadata": {
        "id": "IeZ3kTjpYmR9"
      },
      "source": [
        "### Test 2: largest input numbers 200000 200000 to check possible intger overflow"
      ]
    },
    {
      "cell_type": "code",
      "execution_count": null,
      "metadata": {
        "colab": {
          "base_uri": "https://localhost:8080/"
        },
        "id": "LQNlZqaqYt7U",
        "outputId": "1da78bdd-0c51-43e1-d780-d6d4dd262510"
      },
      "outputs": [
        {
          "output_type": "stream",
          "name": "stdout",
          "text": [
            "Writing input3.txt\n"
          ]
        }
      ],
      "source": [
        "%%writefile input3.txt\n",
        "6\n",
        "1 3 200000 9 200000 23"
      ]
    },
    {
      "cell_type": "code",
      "execution_count": null,
      "metadata": {
        "colab": {
          "base_uri": "https://localhost:8080/"
        },
        "id": "GjQq7QOUCw-9",
        "outputId": "2e29f2ba-62bc-4386-a84f-5cf2a0070c2c"
      },
      "outputs": [
        {
          "output_type": "execute_result",
          "data": {
            "text/plain": [
              "40000000000"
            ]
          },
          "metadata": {},
          "execution_count": 15
        }
      ],
      "source": [
        "200000*200000"
      ]
    },
    {
      "cell_type": "code",
      "execution_count": null,
      "metadata": {
        "colab": {
          "base_uri": "https://localhost:8080/"
        },
        "id": "EuS6n3jtDK5C",
        "outputId": "58695d48-0437-40f1-bfea-4a013fa8cb08"
      },
      "outputs": [
        {
          "output_type": "stream",
          "name": "stdout",
          "text": [
            "Writing output3.txt\n"
          ]
        }
      ],
      "source": [
        "%%writefile output3.txt\n",
        "40000000000"
      ]
    },
    {
      "cell_type": "code",
      "execution_count": null,
      "metadata": {
        "colab": {
          "base_uri": "https://localhost:8080/"
        },
        "id": "2Wad2VZUZDxR",
        "outputId": "ebdee06d-db43-436b-c999-e315b1b3263d"
      },
      "outputs": [
        {
          "output_type": "stream",
          "name": "stdout",
          "text": [
            "1345294336\n"
          ]
        }
      ],
      "source": [
        "!./max_pairwise_product_full < input3.txt"
      ]
    },
    {
      "cell_type": "code",
      "execution_count": null,
      "metadata": {
        "colab": {
          "base_uri": "https://localhost:8080/"
        },
        "id": "pEvp1ieyDJGq",
        "outputId": "65a365da-d889-4809-e679-b299985ff7dd"
      },
      "outputs": [
        {
          "output_type": "stream",
          "name": "stdout",
          "text": [
            "1345294336\n"
          ]
        }
      ],
      "source": [
        "!./max_pairwise_product_full < input3.txt > ctest3.txt\n",
        "!grep -xvFf output3.txt ctest3.txt"
      ]
    },
    {
      "cell_type": "code",
      "source": [
        " %%writefile run_all_test.sh\n",
        "#!/bin/bash\n",
        "g++ max_pairwise_product_full.cpp -o max_pairwise_product_full\n",
        "for i in {0..3}\n",
        "do\n",
        "    ./max_pairwise_product_full < input$i.txt > ctest$i.txt\n",
        "    grep -xvFf output$i.txt ctest$i.txt\n",
        "done"
      ],
      "metadata": {
        "colab": {
          "base_uri": "https://localhost:8080/"
        },
        "id": "SrtJrKqM-God",
        "outputId": "fcf97f6b-1fbc-4b08-c45e-c647db8a192c"
      },
      "execution_count": null,
      "outputs": [
        {
          "output_type": "stream",
          "name": "stdout",
          "text": [
            "Writing run_all_test.sh\n"
          ]
        }
      ]
    },
    {
      "cell_type": "code",
      "source": [
        "!chmod u+x run_all_test.sh\n",
        "!./run_all_test.sh"
      ],
      "metadata": {
        "colab": {
          "base_uri": "https://localhost:8080/"
        },
        "id": "wGWMHtzS-QnA",
        "outputId": "cc5b1b42-c7ae-44d0-9008-89b419c4dcbf"
      },
      "execution_count": null,
      "outputs": [
        {
          "output_type": "stream",
          "name": "stdout",
          "text": [
            "1345294336\n"
          ]
        }
      ]
    },
    {
      "cell_type": "markdown",
      "metadata": {
        "id": "H2SC0Qt5HCzz"
      },
      "source": [
        "### Changing the variables to long long"
      ]
    },
    {
      "cell_type": "code",
      "execution_count": null,
      "metadata": {
        "colab": {
          "base_uri": "https://localhost:8080/"
        },
        "id": "MPcmsxiQZSfE",
        "outputId": "fea2e58f-c6b3-450f-aa5f-59266713c042"
      },
      "outputs": [
        {
          "output_type": "stream",
          "name": "stdout",
          "text": [
            "Writing max_pairwise_product_long_full.cpp\n"
          ]
        }
      ],
      "source": [
        "%%writefile max_pairwise_product_long_full.cpp\n",
        "#include <iostream>\n",
        "#include <vector>\n",
        "#include <algorithm>\n",
        "\n",
        "long long MaxPairwiseProduct(const std::vector<int>& numbers) {\n",
        "    long long max_product = 0LL;\n",
        "\t  long long aux_product = 0LL;\n",
        "    int n = numbers.size();\n",
        "\n",
        "    for (int first = 0; first < n; ++first) {\n",
        "        for (int second = 0; second < n; ++second) {\n",
        "          if ( first != second){\n",
        "                aux_product = (long long) numbers[first] * numbers[second];\n",
        "                if (aux_product > max_product)  max_product = aux_product;\n",
        "          }\n",
        "        }\n",
        "    }\n",
        "\n",
        "\n",
        "    return max_product;\n",
        "}\n",
        "\n",
        "int main() {\n",
        "    int n;\n",
        "    std::cin >> n;\n",
        "    std::vector<int> numbers(n);\n",
        "    for (int i = 0; i < n; ++i) {\n",
        "        std::cin >> numbers[i];\n",
        "    }\n",
        "\n",
        "    std::cout << MaxPairwiseProduct(numbers) << \"\\n\";\n",
        "    return 0;\n",
        "}\n"
      ]
    },
    {
      "cell_type": "code",
      "source": [
        "!g++ max_pairwise_product_long_full.cpp -o max_pairwise_product_long_full"
      ],
      "metadata": {
        "id": "W3xQpFXL6wjO"
      },
      "execution_count": null,
      "outputs": []
    },
    {
      "cell_type": "code",
      "source": [
        "!./max_pairwise_product_long_full < input3.txt"
      ],
      "metadata": {
        "colab": {
          "base_uri": "https://localhost:8080/"
        },
        "id": "H5dvN9M3R9sV",
        "outputId": "fa6eb4ca-13ef-4e7b-ec8d-4dec20d7ce7e"
      },
      "execution_count": null,
      "outputs": [
        {
          "output_type": "stream",
          "name": "stdout",
          "text": [
            "40000000000\n"
          ]
        }
      ]
    },
    {
      "cell_type": "markdown",
      "source": [
        "### Runing multuple test with a bash shell"
      ],
      "metadata": {
        "id": "gx-sEYdfQ8f8"
      }
    },
    {
      "cell_type": "code",
      "source": [
        " %%writefile run_all_test.sh\n",
        "#!/bin/bash\n",
        "g++ max_pairwise_product_long_full.cpp -o max_pairwise_product_long_full\n",
        "for i in {1..3}\n",
        "do\n",
        "    ./max_pairwise_product_long_full < input$i.txt > ctest$i.txt\n",
        "    grep -xvFf output$i.txt ctest$i.txt\n",
        "done"
      ],
      "metadata": {
        "colab": {
          "base_uri": "https://localhost:8080/"
        },
        "id": "O9qsq2nn7elw",
        "outputId": "b542f42b-a170-4aff-c772-47285ebc9419"
      },
      "execution_count": null,
      "outputs": [
        {
          "output_type": "stream",
          "name": "stdout",
          "text": [
            "Writing run_all_test.sh\n"
          ]
        }
      ]
    },
    {
      "cell_type": "code",
      "source": [
        "!chmod u+x run_all_test.sh\n",
        "!./run_all_test.sh"
      ],
      "metadata": {
        "id": "0g5kKVph7xIA"
      },
      "execution_count": null,
      "outputs": []
    },
    {
      "cell_type": "markdown",
      "metadata": {
        "id": "XPVHkHxH6_7s"
      },
      "source": [
        "### Test 3  stress tests, 6 testing cases files input4.txt/output4.txt .. input10.txt/output10.txt\n",
        "\n",
        "---\n",
        "\n"
      ]
    },
    {
      "cell_type": "code",
      "execution_count": null,
      "metadata": {
        "id": "PwqpBmYr69fu",
        "colab": {
          "base_uri": "https://localhost:8080/"
        },
        "outputId": "1c1266cc-6410-433f-b6e3-557326f293b0"
      },
      "outputs": [
        {
          "output_type": "stream",
          "name": "stdout",
          "text": [
            "Writing input4.txt\n"
          ]
        }
      ],
      "source": [
        "%%writefile input4.txt\n",
        "7\n",
        "10 48 59 62 20 36 78"
      ]
    },
    {
      "cell_type": "code",
      "source": [
        "!./max_pairwise_product_long_full < input4.txt"
      ],
      "metadata": {
        "colab": {
          "base_uri": "https://localhost:8080/"
        },
        "id": "--sQtZ12_WWy",
        "outputId": "d9c5b7b6-2358-4018-be23-c82b6fc68cc0"
      },
      "execution_count": null,
      "outputs": [
        {
          "output_type": "stream",
          "name": "stdout",
          "text": [
            "4836\n"
          ]
        }
      ]
    },
    {
      "cell_type": "code",
      "execution_count": null,
      "metadata": {
        "id": "Im6qtAln_P4L"
      },
      "outputs": [],
      "source": [
        "!./max_pairwise_product_long_full < input4.txt > output4.txt"
      ]
    },
    {
      "cell_type": "code",
      "execution_count": null,
      "metadata": {
        "colab": {
          "base_uri": "https://localhost:8080/"
        },
        "outputId": "42aed1ac-1581-4399-885d-527d107016ba",
        "id": "5Y5vwEvMqoDD"
      },
      "outputs": [
        {
          "output_type": "stream",
          "name": "stdout",
          "text": [
            "Writing input5.txt\n"
          ]
        }
      ],
      "source": [
        "%%writefile input5.txt\n",
        "10\n",
        "100 1 3 15 80 14 23 105 78 47"
      ]
    },
    {
      "cell_type": "code",
      "source": [
        "!./max_pairwise_product_long_full < input5.txt"
      ],
      "metadata": {
        "colab": {
          "base_uri": "https://localhost:8080/"
        },
        "outputId": "41fb9086-9cca-4e2c-c674-4ec95abd4444",
        "id": "3bk6G7MeqoDE"
      },
      "execution_count": null,
      "outputs": [
        {
          "output_type": "stream",
          "name": "stdout",
          "text": [
            "10500\n"
          ]
        }
      ]
    },
    {
      "cell_type": "code",
      "execution_count": null,
      "metadata": {
        "id": "-ZORyjDoqoDF"
      },
      "outputs": [],
      "source": [
        "!./max_pairwise_product_long_full < input5.txt > output5.txt"
      ]
    },
    {
      "cell_type": "code",
      "execution_count": null,
      "metadata": {
        "colab": {
          "base_uri": "https://localhost:8080/"
        },
        "outputId": "b2120bd9-cf73-497c-d502-96df4821fc59",
        "id": "iQO4aZnjqqyt"
      },
      "outputs": [
        {
          "output_type": "stream",
          "name": "stdout",
          "text": [
            "Writing input6.txt\n"
          ]
        }
      ],
      "source": [
        "%%writefile input6.txt\n",
        "5\n",
        "1025 4856 4540 4563 7582"
      ]
    },
    {
      "cell_type": "code",
      "source": [
        "!./max_pairwise_product_long_full < input6.txt"
      ],
      "metadata": {
        "colab": {
          "base_uri": "https://localhost:8080/"
        },
        "outputId": "4390d288-3e17-446e-f1fe-0b716484586d",
        "id": "2C2bMsk_qqy4"
      },
      "execution_count": null,
      "outputs": [
        {
          "output_type": "stream",
          "name": "stdout",
          "text": [
            "36818192\n"
          ]
        }
      ]
    },
    {
      "cell_type": "code",
      "execution_count": null,
      "metadata": {
        "id": "cvJtjDcUqqy5"
      },
      "outputs": [],
      "source": [
        "!./max_pairwise_product_long_full < input6.txt > output6.txt"
      ]
    },
    {
      "cell_type": "code",
      "execution_count": null,
      "metadata": {
        "colab": {
          "base_uri": "https://localhost:8080/"
        },
        "outputId": "54eb475b-7bbd-443c-f98c-e6ad43614588",
        "id": "W6lWdVzHqrTd"
      },
      "outputs": [
        {
          "output_type": "stream",
          "name": "stdout",
          "text": [
            "Writing input7.txt\n"
          ]
        }
      ],
      "source": [
        "%%writefile input7.txt\n",
        "15\n",
        "856 1 785 65 96 35 11 45 458 956 702 18 63 58 77"
      ]
    },
    {
      "cell_type": "code",
      "source": [
        "!./max_pairwise_product_long_full < input7.txt"
      ],
      "metadata": {
        "colab": {
          "base_uri": "https://localhost:8080/"
        },
        "outputId": "ec83e79a-fa9f-49e2-89bf-33c691f73068",
        "id": "K9x1_2_6qrTe"
      },
      "execution_count": null,
      "outputs": [
        {
          "output_type": "stream",
          "name": "stdout",
          "text": [
            "818336\n"
          ]
        }
      ]
    },
    {
      "cell_type": "code",
      "execution_count": null,
      "metadata": {
        "id": "6UM8FBUoqrTe"
      },
      "outputs": [],
      "source": [
        "!./max_pairwise_product_long_full < input7.txt > output7.txt"
      ]
    },
    {
      "cell_type": "code",
      "execution_count": null,
      "metadata": {
        "colab": {
          "base_uri": "https://localhost:8080/"
        },
        "outputId": "817071dc-f6a2-43b2-eab1-c5de28b477d6",
        "id": "zocx8YZ5qvPK"
      },
      "outputs": [
        {
          "output_type": "stream",
          "name": "stdout",
          "text": [
            "Writing input8.txt\n"
          ]
        }
      ],
      "source": [
        "%%writefile input8.txt\n",
        "20\n",
        "0 896 362 452 12 36 543 786 5555 444 22 1 778 8885 2 4254 21 606 60 3"
      ]
    },
    {
      "cell_type": "code",
      "source": [
        "!./max_pairwise_product_long_full < input8.txt"
      ],
      "metadata": {
        "colab": {
          "base_uri": "https://localhost:8080/"
        },
        "outputId": "3dbec458-8d00-40b7-c588-6cb619639c36",
        "id": "8uerke1qqvP4"
      },
      "execution_count": null,
      "outputs": [
        {
          "output_type": "stream",
          "name": "stdout",
          "text": [
            "49356175\n"
          ]
        }
      ]
    },
    {
      "cell_type": "code",
      "execution_count": null,
      "metadata": {
        "id": "kd14XcPFqvP6"
      },
      "outputs": [],
      "source": [
        "!./max_pairwise_product_long_full < input8.txt > output8.txt"
      ]
    },
    {
      "cell_type": "code",
      "execution_count": null,
      "metadata": {
        "colab": {
          "base_uri": "https://localhost:8080/"
        },
        "outputId": "ec1e4ef6-759d-488b-f8de-3ae6395c1858",
        "id": "nduYPMkFqv9y"
      },
      "outputs": [
        {
          "output_type": "stream",
          "name": "stdout",
          "text": [
            "Writing input9.txt\n"
          ]
        }
      ],
      "source": [
        "%%writefile input9.txt\n",
        "2\n",
        "4785962 8964521"
      ]
    },
    {
      "cell_type": "code",
      "source": [
        "!./max_pairwise_product_long_full < input9.txt"
      ],
      "metadata": {
        "colab": {
          "base_uri": "https://localhost:8080/"
        },
        "outputId": "98524775-7da2-48c7-d14a-5a3817d92130",
        "id": "_j4geqqBqv9z"
      },
      "execution_count": null,
      "outputs": [
        {
          "output_type": "stream",
          "name": "stdout",
          "text": [
            "42903856854202\n"
          ]
        }
      ]
    },
    {
      "cell_type": "code",
      "execution_count": null,
      "metadata": {
        "id": "6S4Giludqv90"
      },
      "outputs": [],
      "source": [
        "!./max_pairwise_product_long_full < input9.txt > output9.txt"
      ]
    },
    {
      "cell_type": "code",
      "execution_count": null,
      "metadata": {
        "colab": {
          "base_uri": "https://localhost:8080/"
        },
        "outputId": "93f2b5cf-a228-432b-f65e-be1f86f317ef",
        "id": "ZVUPthhnqwkG"
      },
      "outputs": [
        {
          "output_type": "stream",
          "name": "stdout",
          "text": [
            "Writing input10.txt\n"
          ]
        }
      ],
      "source": [
        "%%writefile input10.txt\n",
        "8\n",
        "78572 410275 1 75757 3663 4254543 4125 653"
      ]
    },
    {
      "cell_type": "code",
      "source": [
        "!./max_pairwise_product_long_full < input10.txt"
      ],
      "metadata": {
        "colab": {
          "base_uri": "https://localhost:8080/"
        },
        "outputId": "4ffd222e-5678-4131-87f6-f84235bf8512",
        "id": "Th_Kgc0FqwkG"
      },
      "execution_count": null,
      "outputs": [
        {
          "output_type": "stream",
          "name": "stdout",
          "text": [
            "1745532629325\n"
          ]
        }
      ]
    },
    {
      "cell_type": "code",
      "execution_count": null,
      "metadata": {
        "id": "XJArffb3qwkH"
      },
      "outputs": [],
      "source": [
        "!./max_pairwise_product_long_full < input10.txt > output10.txt"
      ]
    },
    {
      "cell_type": "markdown",
      "metadata": {
        "id": "9z9yr5QkeyJF"
      },
      "source": [
        "### Test 4  time test  measure the execution time running with the the largest worst cases input11.txt  (200000 increasing numbers) and input12.txt (199998 increasing numbers and  200000, 200000 at the end)"
      ]
    },
    {
      "cell_type": "code",
      "source": [
        "# input11.txt 200000 increasing numbers:  1 2 .. 200000\n",
        "\n",
        "%%writefile WriteTest.cpp\n",
        "\n",
        "#include <iostream>\n",
        "#include <fstream>\n",
        "#include <cstdlib>\n",
        "\n",
        "using namespace std;\n",
        "\n",
        "int main() {\n",
        "  // Create and open a text file\n",
        "  ofstream MyFile(\"input11.txt\");\n",
        "\n",
        " MyFile << 200000 <<\"\\n\";  // n\n",
        " for (int i=1; i <200001; i++){\n",
        "     MyFile << i <<\" \";\n",
        " }\n",
        "\n",
        "  // Close the file\n",
        "  MyFile.close();\n",
        "}"
      ],
      "metadata": {
        "colab": {
          "base_uri": "https://localhost:8080/"
        },
        "id": "UmB1ipWM_nSk",
        "outputId": "8733bc8a-b474-4f7c-d063-6808cabb3142"
      },
      "execution_count": null,
      "outputs": [
        {
          "output_type": "stream",
          "name": "stdout",
          "text": [
            "Overwriting WriteTest.cpp\n"
          ]
        }
      ]
    },
    {
      "cell_type": "code",
      "execution_count": null,
      "metadata": {
        "id": "EH25TkOkZfD9"
      },
      "outputs": [],
      "source": [
        "!g++ WriteTest.cpp -o WriteTest\n",
        "!./WriteTest"
      ]
    },
    {
      "cell_type": "code",
      "source": [
        "199999 * 200000"
      ],
      "metadata": {
        "colab": {
          "base_uri": "https://localhost:8080/"
        },
        "id": "j0mokSOnCCtZ",
        "outputId": "6541e230-f4e1-4ca7-dbf6-8ff22d911c26"
      },
      "execution_count": null,
      "outputs": [
        {
          "output_type": "execute_result",
          "data": {
            "text/plain": [
              "39999800000"
            ]
          },
          "metadata": {},
          "execution_count": 49
        }
      ]
    },
    {
      "cell_type": "code",
      "source": [
        "%%writefile output11.txt\n",
        "39999800000"
      ],
      "metadata": {
        "id": "VoDhDV73B5Mo",
        "colab": {
          "base_uri": "https://localhost:8080/"
        },
        "outputId": "1bf3a379-53c9-4ff6-cd1c-6c675dec8767"
      },
      "execution_count": null,
      "outputs": [
        {
          "output_type": "stream",
          "name": "stdout",
          "text": [
            "Overwriting output11.txt\n"
          ]
        }
      ]
    },
    {
      "cell_type": "code",
      "execution_count": null,
      "metadata": {
        "colab": {
          "base_uri": "https://localhost:8080/"
        },
        "id": "oLiMjbAIfPlX",
        "outputId": "c674d4f8-1004-43bb-bce8-f52c9c3f26dc"
      },
      "outputs": [
        {
          "output_type": "stream",
          "name": "stdout",
          "text": [
            "Overwriting WriteTest.cpp\n"
          ]
        }
      ],
      "source": [
        "# input12.txt 200000 decreasing numbers and 200000, 199999 ...  2 1\n",
        "\n",
        "%%writefile WriteTest.cpp\n",
        "\n",
        "#include <iostream>\n",
        "#include <fstream>\n",
        "#include <cstdlib>\n",
        "\n",
        "using namespace std;\n",
        "\n",
        "int main() {\n",
        "  // Create and open a text file\n",
        "  ofstream MyFile(\"input12.txt\");\n",
        "\n",
        " MyFile << 200000 <<\"\\n\";  // n\n",
        " for (int i=1; i <200001; i++){\n",
        "     MyFile << 200001-i <<\" \";\n",
        " }\n",
        "\n",
        "  // Close the file\n",
        "  MyFile.close();\n",
        "}"
      ]
    },
    {
      "cell_type": "code",
      "source": [
        "!g++ WriteTest.cpp -o WriteTest\n",
        "!./WriteTest"
      ],
      "metadata": {
        "id": "oULNBr_zAd9c"
      },
      "execution_count": null,
      "outputs": []
    },
    {
      "cell_type": "code",
      "source": [
        "%%writefile output12.txt\n",
        "39999800000"
      ],
      "metadata": {
        "colab": {
          "base_uri": "https://localhost:8080/"
        },
        "id": "PQLyocaFB-y4",
        "outputId": "272ba080-ef9c-460f-bcb6-637bdfe49fd3"
      },
      "execution_count": null,
      "outputs": [
        {
          "output_type": "stream",
          "name": "stdout",
          "text": [
            "Overwriting output12.txt\n"
          ]
        }
      ]
    },
    {
      "cell_type": "markdown",
      "metadata": {
        "id": "JB6f03qO-lj9"
      },
      "source": [
        "### Measure time\n",
        "\n",
        "https://askubuntu.com/questions/53444/how-can-i-measure-the-execution-time-of-a-terminal-process"
      ]
    },
    {
      "cell_type": "code",
      "execution_count": null,
      "metadata": {
        "colab": {
          "base_uri": "https://localhost:8080/"
        },
        "id": "6p2QLEr576zk",
        "outputId": "dae068ea-51d1-4864-87fa-9427209293f0"
      },
      "outputs": [
        {
          "output_type": "stream",
          "name": "stdout",
          "text": [
            "2147483646\n",
            "\n",
            "real\t5m9.068s\n",
            "user\t5m5.073s\n",
            "sys\t0m0.108s\n"
          ]
        }
      ],
      "source": [
        "!g++ max_pairwise_product_long_full.cpp -o max_pairwise_product_long_full\n",
        "!time ./max_pairwise_product_long_full< input11.txt"
      ]
    },
    {
      "cell_type": "code",
      "source": [
        "!g++ max_pairwise_product_long_full.cpp -o max_pairwise_product_long_full\n",
        "!time ./max_pairwise_product_long_full< input12.txt"
      ],
      "metadata": {
        "colab": {
          "base_uri": "https://localhost:8080/"
        },
        "id": "cnjCyeUdAnZj",
        "outputId": "c61f8b5d-94d1-4b3a-fa94-d38e17b8c4f0"
      },
      "execution_count": null,
      "outputs": [
        {
          "output_type": "stream",
          "name": "stdout",
          "text": [
            "^C\n"
          ]
        }
      ]
    },
    {
      "cell_type": "markdown",
      "metadata": {
        "id": "FXClpBsUJuXC"
      },
      "source": [
        "### Calculate the number or and upper bound to the number of instructions executed by the algorithm as a function of n, add in each line a comment with the number of instructions that are executed in that line."
      ]
    },
    {
      "cell_type": "code",
      "execution_count": null,
      "metadata": {
        "colab": {
          "base_uri": "https://localhost:8080/"
        },
        "id": "uG6Mv-Pwlkii",
        "outputId": "96478037-6ce4-4b58-e7fa-65c4f7b2405f"
      },
      "outputs": [
        {
          "output_type": "stream",
          "name": "stdout",
          "text": [
            "Writing max_pairwise_product_long_full.cpp\n"
          ]
        }
      ],
      "source": [
        "%%writefile max_pairwise_product_long_full.cpp\n",
        "#include <iostream>\n",
        "#include <vector>\n",
        "#include <algorithm>\n",
        "\n",
        "long long MaxPairwiseProduct(const std::vector<int>& numbers) {              //INSTRUCTIONS executed by line\n",
        "    long long max_product = 0LL;                                             //1\n",
        "\t  long long aux_product = 0LL;                                             //1\n",
        "    int n = numbers.size();                                                  //1\n",
        "\n",
        "    for (int first = 0; first < n; ++first) {                                //2+2n\n",
        "        for (int second = 0; second < n; ++second) {                         //2n + 2n**2\n",
        "          if ( first != second ){                                            //n**2\n",
        "                aux_product = numbers[first] * numbers[second];              //n**2 -n\n",
        "                if (aux_product > max_product)                               //n**2 -n\n",
        "                    max_product = aux_product;                               //[0, n**2/2 - n/2] upper bound\n",
        "          }\n",
        "        }\n",
        "    }\n",
        "\n",
        "                                                                             // --------------\n",
        "    return max_product;                                                      // 5 + 2*n + [5*n**2, 11*n**2/2  - n/2]  upper bound\n",
        "}\n",
        "\n",
        "int main() {                                              //INSTRUCTIONS executed by line\n",
        "    int n;                                                //1\n",
        "    std::cin >> n;                                        //1\n",
        "    std::vector<int> numbers(n);                          //n\n",
        "    for (int i = 0; i < n; ++i) {                         //2 + 2n\n",
        "        std::cin >> numbers[i];                           //n\n",
        "    }\n",
        "\n",
        "    std::cout << MaxPairwiseProduct(numbers) << \"\\n\";     //1 + 1  + 5 + 2*n + [5*n**2, 11*n**2/2  - n/2]\n",
        "\n",
        "    return 0;                                             // --------------\n",
        "}                                                         //  11 + 6*n + [5*n**2, 11*n**2/2  - n/2]  upper bound\n"
      ]
    },
    {
      "cell_type": "markdown",
      "metadata": {
        "id": "0vTsUg8OwcHs"
      },
      "source": [
        "### Count executed intructions in code"
      ]
    },
    {
      "cell_type": "code",
      "execution_count": null,
      "metadata": {
        "colab": {
          "base_uri": "https://localhost:8080/"
        },
        "id": "CuRKkqQc137V",
        "outputId": "6813694e-a393-4c13-f66d-cdba2553fc4e"
      },
      "outputs": [
        {
          "output_type": "stream",
          "name": "stdout",
          "text": [
            "Writing max_pairwise_product_long_full_execints.cpp\n"
          ]
        }
      ],
      "source": [
        "%%writefile max_pairwise_product_long_full_execints.cpp\n",
        "#include <iostream>\n",
        "#include <vector>\n",
        "#include <algorithm>\n",
        "\n",
        "long long MaxPairwiseProduct(const std::vector<int>& numbers, long long &execints) {      //INSTRUCTIONS executed by line\n",
        "\n",
        "    long long max_product = 0LL;                                                          //1\n",
        "    execints++;\n",
        "\n",
        "\t  long long aux_product = 0LL;                                                          //1\n",
        "    execints++;\n",
        "\n",
        "    int n = numbers.size();                                                               //1\n",
        "    execints++;\n",
        "\n",
        "    execints++;\n",
        "    for (int first = 0; first < n; ++first) {                                             //2+2n\n",
        "        execints += 2;\n",
        "\n",
        "        execints++;\n",
        "        for (int second = 0; second < n; ++second) {                                       //2n + 2n**2\n",
        "          execints += 2;\n",
        "\n",
        "          execints++;\n",
        "          if ( first != second ){                                                         //n**2\n",
        "                aux_product = numbers[first] * numbers[second];                           //n**2 -n\n",
        "                execints++;\n",
        "\n",
        "                execints++;\n",
        "                if (aux_product > max_product){                                           //n**2 -n\n",
        "                    max_product = aux_product;                                            //[0,n**2/2 - n/2)  upper bound\n",
        "                    execints++;\n",
        "\n",
        "                }\n",
        "        }\n",
        "\n",
        "      }\n",
        "      execints++;\n",
        "    }\n",
        "    execints++;\n",
        "                                                                                        // --------------\n",
        "    return max_product;                                                                 // 5 + 2*n + [5*n**2, 11*n**2/2  - n/2] upper bound\n",
        "}\n",
        "\n",
        "int main() {                                                 //INSTRUCTIONS executed by line\n",
        "\n",
        "    long long execints =0LL;\n",
        "\n",
        "    int n;                                                   //1\n",
        "    execints++;\n",
        "\n",
        "    std::cin >> n;                                           //1\n",
        "    execints++;\n",
        "\n",
        "    std::vector<int> numbers(n);                             //n\n",
        "    execints += n;\n",
        "\n",
        "    execints++;\n",
        "    for (int i = 0; i < n; ++i) {                            //2 + 2n\n",
        "        execints += 2;\n",
        "\n",
        "        std::cin >> numbers[i];\n",
        "        execints++;                                          //n\n",
        "\n",
        "    }\n",
        "\n",
        "\n",
        "    //std::cout << MaxPairwiseProduct(numbers) << \"\\n\";      //1 + 1  + 5 + 2*n + [5*n**2, 11*n**2/2  - n/2] upper bound\n",
        "\n",
        "    execints++;\n",
        "    int M = MaxPairwiseProduct(numbers,execints);\n",
        "\n",
        "    execints++;\n",
        "    std::cout <<  execints << \"\\n\";\n",
        "    return 0;                                                // --------------\n",
        "}                                                            // 11 + 6*n + [5*n**2, 11*n**2/2  - n/2]"
      ]
    },
    {
      "cell_type": "markdown",
      "source": [
        "The number of instructions executed by the algooirithm with a list of size $n$ is  \n",
        "\n",
        "$$T (n) = 11 + 6n + \\left[5n^2, 11\\frac{n^2}{2}  - \\frac{n}{2}\\right)  >  6n^2 = O(n^2)$$\n",
        "\n",
        "It depends on the size of the lists and  the order of the list.\n",
        "\n",
        "For the input0.txt\n",
        "```\n",
        "10\n",
        "0 0 0 0 0 0 0 0 0 0\n",
        "```\n",
        "$$T = 11 + 6(10) + 5(10)^2   = 561 $$\n",
        "\n",
        "$$T(10) \\in [571, 621)  $$\n"
      ],
      "metadata": {
        "id": "cUjHtvtdDsmr"
      }
    },
    {
      "cell_type": "code",
      "source": [
        "!g++ max_pairwise_product_long_full_execints.cpp -o max_pairwise_product_long_full_execints\n",
        "!./max_pairwise_product_long_full_execints < input0.txt"
      ],
      "metadata": {
        "colab": {
          "base_uri": "https://localhost:8080/"
        },
        "id": "Om9Fevb0miAT",
        "outputId": "d475c9be-c293-45c3-e028-aed9f359c4f3"
      },
      "execution_count": null,
      "outputs": [
        {
          "output_type": "stream",
          "name": "stdout",
          "text": [
            "570\n"
          ]
        }
      ]
    },
    {
      "cell_type": "markdown",
      "source": [
        "For the input1.txt\n",
        "```\n",
        "10\n",
        "1 2 3 4 5 6 7 8 9 10\n",
        "```\n",
        "$$T = 11 + 6(10) + 5(10)^2 +  9 + 5 + 4 + 3 + 2 + 2 + 2 + 2 + 1 + 0  = 601 $$\n",
        "\n",
        "$$T(10) \\in [572, 622)  $$\n"
      ],
      "metadata": {
        "id": "FwJzZ6VzmArY"
      }
    },
    {
      "cell_type": "code",
      "source": [
        "#The number of times that  max_product = aux_product; in the worst case is less than (n**2 -n)/2 -  upper bound\n",
        "\n",
        "#     1  2  3  4  5  6  7  8  9  10\n",
        "#  1  x  2  3  4  5  6  7  8  9  10         9\n",
        "#  2  2  x  6  8  10 12 14 16 18 20         5 14\n",
        "#  3  3  6  x  12 15 18 21 24 27 30         4 18\n",
        "#  4  4  8  12 x  20 24 28 32 36 40         3 21\n",
        "#  5  5  10 15 20 x  30 35 40 45 50         2 23\n",
        "#  6  6  12 18 24 30 x  42 48 54 60         2 25\n",
        "#  7  7  14 21 28 35 42 x  56 63 70         2 27\n",
        "#  8  8  18 27 36 45 54 63 72 x  90         1 30\n",
        "#  10 10 20 30 40 50 60 70 60 90 x          0"
      ],
      "metadata": {
        "id": "K59xQMWiBNFj"
      },
      "execution_count": null,
      "outputs": []
    },
    {
      "cell_type": "code",
      "source": [
        "11 + 6*(10) + 5*(10)*(10) +  9 + 5 + 4 + 3 + 2 + 2 + 2 + 2 + 1 + 0"
      ],
      "metadata": {
        "colab": {
          "base_uri": "https://localhost:8080/"
        },
        "id": "E3O8dzFfEgir",
        "outputId": "3db11f90-5018-4a5e-b169-302001894d4d"
      },
      "execution_count": null,
      "outputs": [
        {
          "output_type": "execute_result",
          "data": {
            "text/plain": [
              "601"
            ]
          },
          "metadata": {},
          "execution_count": 60
        }
      ]
    },
    {
      "cell_type": "code",
      "source": [
        "n = 10\n",
        "print( \"[\", 11 + 6*n + 5*n**2,  \",\", 11 + 6*n  + 5.5*n**2, \")\")"
      ],
      "metadata": {
        "colab": {
          "base_uri": "https://localhost:8080/"
        },
        "id": "TCpdl5u_Gq1a",
        "outputId": "aea6c68b-57aa-4bde-cc43-7b0fce0c4dbf"
      },
      "execution_count": null,
      "outputs": [
        {
          "output_type": "stream",
          "name": "stdout",
          "text": [
            "[ 571 , 621.0 )\n"
          ]
        }
      ]
    },
    {
      "cell_type": "code",
      "execution_count": null,
      "metadata": {
        "colab": {
          "base_uri": "https://localhost:8080/"
        },
        "id": "Kuvm1C05ly2a",
        "outputId": "96e545d5-2e91-4c98-e628-7fd622ad6cdd"
      },
      "outputs": [
        {
          "output_type": "stream",
          "name": "stdout",
          "text": [
            "600\n"
          ]
        }
      ],
      "source": [
        "!g++ max_pairwise_product_long_full_execints.cpp -o max_pairwise_product_long_full_execints\n",
        "!./max_pairwise_product_long_full_execints < input1.txt"
      ]
    },
    {
      "cell_type": "markdown",
      "source": [
        "\n",
        "For the input2.txt\n",
        "```\n",
        "10\n",
        "10 9 8 7 6 5 4 3 2 1\n",
        "```\n",
        "$$T = 11 + 6*(10) + 5*(10)**2 +  1  = 571 $$"
      ],
      "metadata": {
        "id": "Yr_Lb7CaHfxB"
      }
    },
    {
      "cell_type": "code",
      "source": [
        "11 + 6*(10) + 5*(10)**2 +  1"
      ],
      "metadata": {
        "colab": {
          "base_uri": "https://localhost:8080/"
        },
        "id": "HOdqlwJiZUIp",
        "outputId": "c5810ae5-424a-482f-8ecc-b7c06ef57c62"
      },
      "execution_count": null,
      "outputs": [
        {
          "output_type": "execute_result",
          "data": {
            "text/plain": [
              "572"
            ]
          },
          "metadata": {},
          "execution_count": 63
        }
      ]
    },
    {
      "cell_type": "code",
      "source": [
        "!g++ max_pairwise_product_long_full_execints.cpp -o max_pairwise_product_long_full_execints\n",
        "!./max_pairwise_product_long_full_execints < input2.txt"
      ],
      "metadata": {
        "id": "_znzLectjFSe",
        "colab": {
          "base_uri": "https://localhost:8080/"
        },
        "outputId": "012a17c6-6d7b-4de8-fd77-fbadcc284cdd"
      },
      "execution_count": null,
      "outputs": [
        {
          "output_type": "stream",
          "name": "stdout",
          "text": [
            "571\n"
          ]
        }
      ]
    },
    {
      "cell_type": "markdown",
      "metadata": {
        "id": "NXW7QkoBL6xH"
      },
      "source": [
        "Calculate estimated time by instruction and number of instructions by second"
      ]
    },
    {
      "cell_type": "markdown",
      "source": [
        "For the input11.txt\n",
        "```\n",
        "200000\n",
        "1 2 ..  199999 2000\n",
        "```\n",
        "$$T = 11 + 6*(200000) + 5.5*(200000)**2  = 200001200012  $$"
      ],
      "metadata": {
        "id": "dlyRjaohz-YH"
      }
    },
    {
      "cell_type": "code",
      "source": [
        "!g++ max_pairwise_product_long_full_execints.cpp -o max_pairwise_product_long_full_execints\n",
        "!./max_pairwise_product_long_full_execints < input11.txt"
      ],
      "metadata": {
        "colab": {
          "base_uri": "https://localhost:8080/"
        },
        "id": "BMH8mF3EKn2w",
        "outputId": "3bc14557-1438-4dc4-dc5c-437bdb795c08"
      },
      "execution_count": null,
      "outputs": [
        {
          "output_type": "stream",
          "name": "stdout",
          "text": [
            "200003177091\n"
          ]
        }
      ]
    },
    {
      "cell_type": "code",
      "execution_count": null,
      "metadata": {
        "colab": {
          "base_uri": "https://localhost:8080/"
        },
        "id": "pKqB3i7dIxnc",
        "outputId": "0233fc66-35c6-4064-cf5a-14a14882d83c"
      },
      "outputs": [
        {
          "output_type": "execute_result",
          "data": {
            "text/plain": [
              "1.4749765693187072e-09"
            ]
          },
          "metadata": {},
          "execution_count": 66
        }
      ],
      "source": [
        "# Estimated time by instruction\n",
        "\n",
        "295/200003177092\n"
      ]
    },
    {
      "cell_type": "code",
      "execution_count": null,
      "metadata": {
        "colab": {
          "base_uri": "https://localhost:8080/"
        },
        "id": "18N1ouqeMhE1",
        "outputId": "3b340e06-e523-42ab-be75-c4b601baa3ac"
      },
      "outputs": [
        {
          "output_type": "execute_result",
          "data": {
            "text/plain": [
              "677976871.4983051"
            ]
          },
          "metadata": {},
          "execution_count": 67
        }
      ],
      "source": [
        "# Estimated number of instructions by second\n",
        "\n",
        "200003177092/295"
      ]
    },
    {
      "cell_type": "markdown",
      "source": [
        "### Estimate and verify the maximun n that can be solved in 1 second\n",
        "\n",
        "$$(5.5n^2 + 5.5n + 11) \\times 1.47*10^{-9} s = 1 s$$\n",
        "\n",
        "$$ n \\approx 11000$$\n"
      ],
      "metadata": {
        "id": "KyuxejFkL5X_"
      }
    },
    {
      "cell_type": "code",
      "source": [
        "# Verify input13.txt\n",
        "%%writefile WriteTest.cpp\n",
        "\n",
        "#include <iostream>\n",
        "#include <fstream>\n",
        "#include <cstdlib>\n",
        "\n",
        "using namespace std;\n",
        "\n",
        "int main() {\n",
        "  // Create and open a text file\n",
        "  ofstream MyFile(\"input13.txt\");\n",
        "\n",
        " MyFile << 11000 <<\"\\n\";  // n\n",
        " for (int i=1; i <11001; i++){\n",
        "     MyFile << i <<\" \";\n",
        " }\n",
        "\n",
        "  // Close the file\n",
        "  MyFile.close();\n",
        "}"
      ],
      "metadata": {
        "colab": {
          "base_uri": "https://localhost:8080/"
        },
        "id": "WXu5jp-DLTOI",
        "outputId": "3520c941-e481-4b85-9efb-f47653c558bc"
      },
      "execution_count": null,
      "outputs": [
        {
          "output_type": "stream",
          "name": "stdout",
          "text": [
            "Overwriting WriteTest.cpp\n"
          ]
        }
      ]
    },
    {
      "cell_type": "code",
      "source": [
        "!g++ WriteTest.cpp -o WriteTest\n",
        "!./WriteTest"
      ],
      "metadata": {
        "id": "AQ8N52pUMCeT"
      },
      "execution_count": null,
      "outputs": []
    },
    {
      "cell_type": "code",
      "source": [
        "10999 * 11000"
      ],
      "metadata": {
        "colab": {
          "base_uri": "https://localhost:8080/"
        },
        "id": "2iIOdbTrEtBx",
        "outputId": "4dbf8d51-6dc0-4ee0-d8ad-566f47ca0cd5"
      },
      "execution_count": null,
      "outputs": [
        {
          "output_type": "execute_result",
          "data": {
            "text/plain": [
              "120989000"
            ]
          },
          "metadata": {},
          "execution_count": 71
        }
      ]
    },
    {
      "cell_type": "code",
      "source": [
        "!g++ max_pairwise_product_long_full.cpp -o max_pairwise_product_long_full\n",
        "!time ./max_pairwise_product_long_full< input13.txt"
      ],
      "metadata": {
        "colab": {
          "base_uri": "https://localhost:8080/"
        },
        "id": "ussuAokfM2du",
        "outputId": "c05fb059-f9c4-4778-f4c0-488026ffa71b"
      },
      "execution_count": null,
      "outputs": [
        {
          "output_type": "stream",
          "name": "stdout",
          "text": [
            "120989000\n",
            "\n",
            "real\t0m0.869s\n",
            "user\t0m0.859s\n",
            "sys\t0m0.003s\n"
          ]
        }
      ]
    },
    {
      "cell_type": "markdown",
      "metadata": {
        "id": "Tm_AVmt-QQH4"
      },
      "source": [
        "## Python"
      ]
    },
    {
      "cell_type": "code",
      "execution_count": null,
      "metadata": {
        "id": "gRCCcd7IQTKZ",
        "colab": {
          "base_uri": "https://localhost:8080/"
        },
        "outputId": "f1c231a4-4425-49f7-cbfd-8c55d27fc42a"
      },
      "outputs": [
        {
          "output_type": "stream",
          "name": "stdout",
          "text": [
            "Writing max_pairwise_product_python.py\n"
          ]
        }
      ],
      "source": [
        "%%writefile max_pairwise_product_python.py\n",
        "\n",
        "def max_pairwise_product_python(numbers):\n",
        "    max_product = 0\n",
        "    n = len(numbers)\n",
        "\n",
        "    for first in range(n):\n",
        "        for second in range(n):\n",
        "            if first != second:\n",
        "                aux_product = numbers[first] * numbers[second]\n",
        "                if aux_product > max_product:\n",
        "                    max_product = aux_product\n",
        "\n",
        "    return max_product\n",
        "\n",
        "if __name__ == \"__main__\":\n",
        "    n = int(input())\n",
        "    numbers = list(map(int, input().split()))\n",
        "\n",
        "    result = max_pairwise_product_python(numbers)\n",
        "    print(result)"
      ]
    },
    {
      "cell_type": "code",
      "execution_count": null,
      "metadata": {
        "id": "kAEAoNZEQTCw",
        "colab": {
          "base_uri": "https://localhost:8080/"
        },
        "outputId": "44a00daf-6069-4387-f3d8-d6e58ae1894c"
      },
      "outputs": [
        {
          "output_type": "stream",
          "name": "stdout",
          "text": [
            "Writing WriteTest_with_python.py\n"
          ]
        }
      ],
      "source": [
        "# verify input14.txt\n",
        "%%writefile WriteTest_with_python.py\n",
        "\n",
        "with open(\"input14.txt\", \"w\") as file:\n",
        "    n = 11000\n",
        "    file.write(str(n) + \"\\n\")\n",
        "    for i in range(1, n + 1):\n",
        "        file.write(str(i) + \" \")"
      ]
    },
    {
      "cell_type": "code",
      "execution_count": null,
      "metadata": {
        "id": "hjw7TJrDL0d-"
      },
      "outputs": [],
      "source": [
        "!python WriteTest_with_python.py"
      ]
    },
    {
      "cell_type": "code",
      "source": [
        "!time python max_pairwise_product_python.py < input14.txt"
      ],
      "metadata": {
        "colab": {
          "base_uri": "https://localhost:8080/"
        },
        "id": "QRuTjM7WE5P7",
        "outputId": "1056e447-0841-4975-8303-1b2faa717992"
      },
      "execution_count": null,
      "outputs": [
        {
          "output_type": "stream",
          "name": "stdout",
          "text": [
            "120989000\n",
            "\n",
            "real\t0m16.694s\n",
            "user\t0m16.450s\n",
            "sys\t0m0.013s\n"
          ]
        }
      ]
    },
    {
      "cell_type": "markdown",
      "source": [
        "# For the follwing solutions required  the same tests and analysis performed for the first solution"
      ],
      "metadata": {
        "id": "fEZR-3V4ZjCv"
      }
    },
    {
      "cell_type": "markdown",
      "metadata": {
        "id": "MKQKSC-vKePK"
      },
      "source": [
        "## Solutions in C++ and Python that uses\n",
        "$$\\frac{n^2 - n}{2} = O(n^2)\\ \\ \\text{products}$$"
      ]
    },
    {
      "cell_type": "code",
      "execution_count": null,
      "metadata": {
        "id": "jkkHHoxSK65p",
        "colab": {
          "base_uri": "https://localhost:8080/"
        },
        "outputId": "435c8596-bbe7-4b61-e853-6a4cfafea49b"
      },
      "outputs": [
        {
          "output_type": "stream",
          "name": "stdout",
          "text": [
            "Overwriting max_pairwise_product.cpp\n"
          ]
        }
      ],
      "source": [
        "%%writefile max_pairwise_product.cpp\n",
        "#include <iostream>\n",
        "#include <vector>\n",
        "#include <algorithm>\n",
        "\n",
        "int MaxPairwiseProduct(const std::vector<int>& numbers) {\n",
        "    int max_product = 0;\n",
        "    int n = numbers.size();\n",
        "\n",
        "    for (int first = 0; first < n; ++first) {\n",
        "        for (int second = first + 1; second < n; ++second) {\n",
        "            max_product = std::max(max_product,\n",
        "                numbers[first] * numbers[second]);\n",
        "        }\n",
        "    }\n",
        "\n",
        "    return max_product;\n",
        "}\n",
        "\n",
        "int main() {\n",
        "    int n;\n",
        "    std::cin >> n;\n",
        "    std::vector<int> numbers(n);\n",
        "    for (int i = 0; i < n; ++i) {\n",
        "        std::cin >> numbers[i];\n",
        "    }\n",
        "\n",
        "    std::cout << MaxPairwiseProduct(numbers) << \"\\n\";\n",
        "    return 0;\n",
        "}"
      ]
    },
    {
      "cell_type": "code",
      "execution_count": null,
      "metadata": {
        "id": "sU8-Ote7K8vz",
        "colab": {
          "base_uri": "https://localhost:8080/"
        },
        "outputId": "a36299d2-911b-446e-e093-2ac2b3a29e89"
      },
      "outputs": [
        {
          "output_type": "stream",
          "name": "stdout",
          "text": [
            "Overwriting max_pairwise_product_long.cpp\n"
          ]
        }
      ],
      "source": [
        "%%writefile max_pairwise_product_long.cpp\n",
        "#include <iostream>\n",
        "#include <vector>\n",
        "#include <algorithm>\n",
        "\n",
        "long long MaxPairwiseProduct(const std::vector<int>& numbers) {              //INSTRUCTIONS executed by line\n",
        "    long long max_product = 0LL;                                             //1\n",
        "\t  long long aux_product = 0LL;                                             //1\n",
        "    int n = numbers.size();                                                  //1\n",
        "\n",
        "    for (int first = 0; first < n; ++first) {                                //2+2n\n",
        "        for (int second = first + 1; second < n; ++second) {                 //2n + (n-1)n\n",
        "\t\t\t       aux_product =  (long long) numbers[first] * numbers[second];    //(n-1)n/2\n",
        "            if (max_product < aux_product)  {                                //(n-1)n/2\n",
        "\t\t\t\t        max_product = aux_product;                                   //[1,(n-1)n/2)  upper bound\n",
        "             }\n",
        "        }\n",
        "    }\n",
        "                                                                             // --------------\n",
        "    return max_product;                                                      // 5 + 4n + [2(n-1)n+1, 2.5 (n-1)n) upper bound\n",
        "}\n",
        "\n",
        "int main() {                                              //INSTRUCTIONS executed by line\n",
        "    int n;                                                //1\n",
        "    std::cin >> n;                                        //1\n",
        "    std::vector<int> numbers(n);                          //n\n",
        "    for (int i = 0; i < n; ++i) {                         //2 + 2n\n",
        "        std::cin >> numbers[i];                           //n\n",
        "    }\n",
        "\n",
        "    std::cout << MaxPairwiseProduct(numbers) << \"\\n\";     //1 + 1  + 5 + 4n + [2(n-1)n+1, 2.5 (n-1)n) upper bound\n",
        "    return 0;                                             // --------------\n",
        "}                                                         // 11 + 7n + [2(n-1)n+1, 2.5 (n-1)n) upper bound\n"
      ]
    },
    {
      "cell_type": "code",
      "execution_count": null,
      "metadata": {
        "id": "5QWT3fneK8nw",
        "colab": {
          "base_uri": "https://localhost:8080/"
        },
        "outputId": "36dc4a30-560f-48f0-e3f5-ff2f23258766"
      },
      "outputs": [
        {
          "output_type": "stream",
          "name": "stdout",
          "text": [
            "Overwriting max_pairwise_product_python.py\n"
          ]
        }
      ],
      "source": [
        "%%writefile max_pairwise_product_python.py\n",
        "def max_pairwise_product(numbers):\n",
        "    max_product = 0\n",
        "    n = len(numbers)\n",
        "\n",
        "    for first in range(n):\n",
        "        for second in range(first + 1, n):\n",
        "            max_product = max(max_product, numbers[first] * numbers[second])\n",
        "\n",
        "    return max_product\n",
        "\n",
        "if __name__ == \"__main__\":\n",
        "    n = int(input())\n",
        "    numbers = list(map(int, input().split()))\n",
        "\n",
        "    print(max_pairwise_product(numbers))"
      ]
    },
    {
      "cell_type": "code",
      "execution_count": null,
      "metadata": {
        "id": "mxIVvm1RK8dB",
        "colab": {
          "base_uri": "https://localhost:8080/"
        },
        "outputId": "3943cf94-cf8c-48a0-d0ce-088d6706cf19"
      },
      "outputs": [
        {
          "output_type": "stream",
          "name": "stdout",
          "text": [
            "Overwriting max_pairwise_product_long_python.py\n"
          ]
        }
      ],
      "source": [
        "%%writefile max_pairwise_product_long_python.py\n",
        "def max_pairwise_product(numbers):\n",
        "    max_product = 0\n",
        "    aux_product = 0\n",
        "    n = len(numbers)\n",
        "\n",
        "    for first in range(n):\n",
        "        for second in range(first + 1, n):\n",
        "            aux_product = numbers[first] * numbers[second]\n",
        "            if max_product < aux_product:\n",
        "                max_product = aux_product\n",
        "\n",
        "    return max_product\n",
        "\n",
        "if __name__ == \"__main__\":\n",
        "    n = int(input())\n",
        "    numbers = list(map(int, input().split()))\n",
        "\n",
        "    print(max_pairwise_product(numbers))"
      ]
    },
    {
      "cell_type": "markdown",
      "source": [
        "### Estimate and verify the maximun n that can be solved in 1 second\n",
        "\n"
      ],
      "metadata": {
        "id": "zxCvxiB-XQJh"
      }
    },
    {
      "cell_type": "code",
      "source": [
        "%%writefile WriteTest.cpp\n",
        "\n",
        "#include <iostream>\n",
        "#include <fstream>\n",
        "#include <cstdlib>\n",
        "\n",
        "using namespace std;\n",
        "\n",
        "int main() {\n",
        "  // Create and open a text file\n",
        "  ofstream MyFile(\"input13.txt\");\n",
        "\n",
        " MyFile << 11000 <<\"\\n\";  // n\n",
        " for (int i=1; i <11001; i++){\n",
        "     MyFile << i <<\" \";\n",
        " }\n",
        "\n",
        "  // Close the file\n",
        "  MyFile.close();\n",
        "}"
      ],
      "metadata": {
        "colab": {
          "base_uri": "https://localhost:8080/"
        },
        "id": "oR4XZto1VqgZ",
        "outputId": "1f038c0a-da2c-4741-b96d-01010f386f21"
      },
      "execution_count": null,
      "outputs": [
        {
          "output_type": "stream",
          "name": "stdout",
          "text": [
            "Overwriting WriteTest.cpp\n"
          ]
        }
      ]
    },
    {
      "cell_type": "code",
      "source": [
        "!g++ WriteTest.cpp -o WriteTest\n",
        "!./WriteTest"
      ],
      "metadata": {
        "id": "dlBwEKr9Vqx9"
      },
      "execution_count": null,
      "outputs": []
    },
    {
      "cell_type": "code",
      "source": [
        "!g++ max_pairwise_product_long_full.cpp -o max_pairwise_product_long_full\n",
        "!time ./max_pairwise_product_long_full< input13.txt"
      ],
      "metadata": {
        "colab": {
          "base_uri": "https://localhost:8080/"
        },
        "id": "aLknD2LIVy8q",
        "outputId": "c5d7901a-73ae-4893-8a6a-7a8d395bf680"
      },
      "execution_count": null,
      "outputs": [
        {
          "output_type": "stream",
          "name": "stdout",
          "text": [
            "120989000\n",
            "\n",
            "real\t0m0.865s\n",
            "user\t0m0.851s\n",
            "sys\t0m0.002s\n"
          ]
        }
      ]
    },
    {
      "cell_type": "code",
      "source": [
        "%%writefile WriteTest_with_python.py\n",
        "\n",
        "with open(\"input9.txt\", \"w\") as file:\n",
        "    n = 11000\n",
        "    file.write(str(n) + \"\\n\")\n",
        "    for i in range(1, n + 1):\n",
        "        file.write(str(i) + \" \")"
      ],
      "metadata": {
        "id": "Su8drkhrZwcp",
        "colab": {
          "base_uri": "https://localhost:8080/"
        },
        "outputId": "6e8b3b1b-1619-4b31-aaa7-50d9869bdbbf"
      },
      "execution_count": null,
      "outputs": [
        {
          "output_type": "stream",
          "name": "stdout",
          "text": [
            "Overwriting WriteTest_with_python.py\n"
          ]
        }
      ]
    },
    {
      "cell_type": "code",
      "source": [
        "!python WriteTest_with_python.py"
      ],
      "metadata": {
        "id": "pvsotBkuUPTf"
      },
      "execution_count": null,
      "outputs": []
    },
    {
      "cell_type": "code",
      "source": [
        "!time python max_pairwise_product_python.py < input9.txt"
      ],
      "metadata": {
        "colab": {
          "base_uri": "https://localhost:8080/"
        },
        "id": "9yzUKj5ZUVA8",
        "outputId": "58dbabe3-2d2b-4967-d3cc-9f386c79f0e4"
      },
      "execution_count": null,
      "outputs": [
        {
          "output_type": "stream",
          "name": "stdout",
          "text": [
            "42903856854202\n",
            "\n",
            "real\t0m0.049s\n",
            "user\t0m0.038s\n",
            "sys\t0m0.009s\n"
          ]
        }
      ]
    },
    {
      "cell_type": "markdown",
      "metadata": {
        "id": "1Hsbd-uHOb_j"
      },
      "source": [
        "# Sort solution in C++ and Python\n",
        "\n",
        "$$ O(n \\lg n)$$\n",
        "\n",
        "**Which sorting algorithm is used in GCC?**\n",
        "https://stackoverflow.com/questions/7221257/which-sorting-algorithm-is-used-in-gcc\n",
        "\n",
        "* ...  the algorithm is called introsort, a combination between Insertionsort, Quicksort & Heapsort. ...\n",
        "\n",
        "**Introsort**\n",
        "https://en.wikipedia.org/wiki/Introsort\n",
        "\n",
        "Introsort or introspective sort is a hybrid sorting algorithm that provides both fast average performance and (asymptotically) optimal worst-case performance. It begins with quicksort, it switches to heapsort when the recursion depth exceeds a level based on (the logarithm of) the number of elements being sorted and it switches to insertion sort when the number of elements is below some threshold\n",
        "\n",
        "*   Class\tSorting algorithm\n",
        "*   Data structure\tArray\n",
        "*   Worst-case performance\t$O(n \\lg n)$\n",
        "*   Average performance\t$O(n \\lg n)$\n",
        "\n",
        "**Tinsort**\n",
        "https://en.wikipedia.org/wiki/Timsort\n",
        "\n",
        "Timsort is a hybrid, stable sorting algorithm, derived from merge sort and insertion sort, designed to perform well on many kinds of real-world data. It was implemented by Tim Peters in 2002 for use in the Python programming language.\n",
        "\n",
        "*   Class\tSorting algorithm\n",
        "*   Data structure\tArray\n",
        "*   Worst-case performance\t$O(n \\lg n)$\n",
        "*   Best-case performance $O(n)$\n",
        "*   Average performance\t$O(n \\lg n)$\n",
        "*   Worst-case space complexity $O(n)$"
      ]
    },
    {
      "cell_type": "markdown",
      "metadata": {
        "id": "WMUthAXjOb_k"
      },
      "source": []
    },
    {
      "cell_type": "code",
      "source": [
        "%%writefile sort_solution_nlogn.cpp\n",
        "#include <iostream>\n",
        "#include <vector>\n",
        "#include <algorithm>\n",
        "\n",
        "using namespace std;\n",
        "\n",
        "int main() {\n",
        "    // 1 instruction\n",
        "    int n;\n",
        "    // 1 instruction\n",
        "    cin >> n;\n",
        "    // n instructions\n",
        "    vector<int> numbers(n);\n",
        "\n",
        "    // 1 + 2n instructions\n",
        "    for (int i = 0; i < n; ++i) {\n",
        "        // 1 instruction\n",
        "        cin >> numbers[i];\n",
        "    }\n",
        "\n",
        "    // n*log(n) instructions\n",
        "    sort(numbers.begin(), numbers.end());\n",
        "    // 1 instruction\n",
        "    cout << \"Product: \" << numbers[n - 1] * numbers[n - 2] << \"\\n\";\n",
        "    // 1 instruction\n",
        "    return 0;\n",
        "}"
      ],
      "metadata": {
        "id": "jnIRWyUEDu_C",
        "colab": {
          "base_uri": "https://localhost:8080/"
        },
        "outputId": "f67ea0fc-4eb4-455d-992f-31f2a32ba631"
      },
      "execution_count": null,
      "outputs": [
        {
          "output_type": "stream",
          "name": "stdout",
          "text": [
            "Writing sort_solution_nlogn.cpp\n"
          ]
        }
      ]
    },
    {
      "cell_type": "code",
      "source": [
        "%%writefile sort_solution_nlogn.py\n",
        "\n",
        "n = int(input())  # 1\n",
        "numbers = list(map(int, input().split()))  # n\n",
        "\n",
        "numbers.sort()  # n*log(n)\n",
        "product = numbers[-1] * numbers[-2]  # 1\n",
        "\n",
        "print(f\"Product: {product}\")  # 1"
      ],
      "metadata": {
        "colab": {
          "base_uri": "https://localhost:8080/"
        },
        "id": "zXGTBSCNY1Bp",
        "outputId": "5b3fc013-4991-4f9e-c981-01b56ce594c6"
      },
      "execution_count": null,
      "outputs": [
        {
          "output_type": "stream",
          "name": "stdout",
          "text": [
            "Writing sort_solution_nlogn.py\n"
          ]
        }
      ]
    },
    {
      "cell_type": "markdown",
      "metadata": {
        "id": "v8pdV9ABOb_k"
      },
      "source": [
        "Test with inputs 1 and 2\n",
        "\n"
      ]
    },
    {
      "cell_type": "code",
      "execution_count": null,
      "metadata": {
        "id": "kdXAyLG4Ob_k",
        "colab": {
          "base_uri": "https://localhost:8080/"
        },
        "outputId": "7b216868-d3e6-4c9f-95f4-3db9bc0f62a2"
      },
      "outputs": [
        {
          "output_type": "stream",
          "name": "stdout",
          "text": [
            "Product: 90\n",
            "Product: 90\n"
          ]
        }
      ],
      "source": [
        "!g++ sort_solution_nlogn.cpp -o sort_solution_nlogn\n",
        "!./sort_solution_nlogn < input1.txt\n",
        "!./sort_solution_nlogn < input2.txt"
      ]
    },
    {
      "cell_type": "code",
      "source": [
        "!python sort_solution_nlogn.py < input1.txt\n",
        "!python sort_solution_nlogn.py < input2.txt"
      ],
      "metadata": {
        "colab": {
          "base_uri": "https://localhost:8080/"
        },
        "id": "Hi6EJd6FY7LN",
        "outputId": "8ef07d22-83ca-4398-edf5-cce7cc908da9"
      },
      "execution_count": null,
      "outputs": [
        {
          "output_type": "stream",
          "name": "stdout",
          "text": [
            "Product: 90\n",
            "Product: 90\n"
          ]
        }
      ]
    },
    {
      "cell_type": "markdown",
      "metadata": {
        "id": "Sw-5X1q1Ob_k"
      },
      "source": [
        "Test and time it with input 3"
      ]
    },
    {
      "cell_type": "code",
      "execution_count": null,
      "metadata": {
        "id": "ryHJ30WIOb_k",
        "colab": {
          "base_uri": "https://localhost:8080/"
        },
        "outputId": "c7110032-0eee-48b0-d607-aae5ad11efd3"
      },
      "outputs": [
        {
          "output_type": "stream",
          "name": "stdout",
          "text": [
            "Product: 1345294336\n",
            "\n",
            "real\t0m0.003s\n",
            "user\t0m0.001s\n",
            "sys\t0m0.002s\n"
          ]
        }
      ],
      "source": [
        "!g++ sort_solution_nlogn.cpp -o sort_solution_nlogn\n",
        "!time ./sort_solution_nlogn < input3.txt"
      ]
    },
    {
      "cell_type": "code",
      "source": [
        "!time python sort_solution_nlogn.py < input3.txt"
      ],
      "metadata": {
        "colab": {
          "base_uri": "https://localhost:8080/"
        },
        "id": "Xs3yQTJFZCEq",
        "outputId": "92523e1c-1517-44e3-841b-9f4d49612f7e"
      },
      "execution_count": null,
      "outputs": [
        {
          "output_type": "stream",
          "name": "stdout",
          "text": [
            "Product: 40000000000\n",
            "\n",
            "real\t0m0.052s\n",
            "user\t0m0.036s\n",
            "sys\t0m0.010s\n"
          ]
        }
      ]
    },
    {
      "cell_type": "markdown",
      "metadata": {
        "id": "oJGdPl1HOb_k"
      },
      "source": [
        "20 stress tests"
      ]
    },
    {
      "cell_type": "code",
      "execution_count": null,
      "metadata": {
        "id": "pXHtO1dEOb_k",
        "colab": {
          "base_uri": "https://localhost:8080/"
        },
        "outputId": "0b564a6f-a2f5-4d1c-8b55-a539eb071f14"
      },
      "outputs": [
        {
          "output_type": "stream",
          "name": "stdout",
          "text": [
            "Overwriting stress_test_x20.cpp\n"
          ]
        }
      ],
      "source": [
        "%%writefile stress_test_x20.cpp\n",
        "\n",
        "#include <iostream>\n",
        "#include <fstream>\n",
        "#include <cstdlib>\n",
        "#include <ctime>\n",
        "\n",
        "using namespace std;\n",
        "\n",
        "int main() {\n",
        "    srand(time(0)); // Inicializar la semilla del generador de números aleatorios\n",
        "\n",
        "    for (int i = 1; i <= 20; ++i) {\n",
        "        string fileName = \"sinput\" + to_string(i) + \".txt\";\n",
        "\n",
        "        ofstream file(fileName);\n",
        "        if (file.is_open()) {\n",
        "            int n = rand() % 38 + 3; // Generar un número aleatorio entre 3 y 40\n",
        "            file << n << \"\\n\";\n",
        "            for (int j = 0; j < n; ++j) {\n",
        "                file << rand() % 100 + 1 << \" \"; // Generar números aleatorios entre 1 y 100\n",
        "            }\n",
        "            file.close();\n",
        "        } else {\n",
        "            cout << \"No se pudo abrir el archivo \" << fileName << endl;\n",
        "        }\n",
        "    }\n",
        "\n",
        "    return 0;\n",
        "}"
      ]
    },
    {
      "cell_type": "code",
      "source": [
        "!g++ stress_test_x20.cpp -o stress_test_x20\n",
        "!./stress_test_x20"
      ],
      "metadata": {
        "id": "mfodKBKp69vt"
      },
      "execution_count": null,
      "outputs": []
    },
    {
      "cell_type": "code",
      "source": [
        "!./sort_solution_nlogn < sinput1.txt\n",
        "!./sort_solution_nlogn < sinput2.txt\n",
        "!./sort_solution_nlogn < sinput3.txt\n",
        "!./sort_solution_nlogn < sinput4.txt\n",
        "!./sort_solution_nlogn < sinput5.txt\n",
        "!./sort_solution_nlogn < sinput6.txt\n",
        "!./sort_solution_nlogn < sinput7.txt\n",
        "!./sort_solution_nlogn < sinput8.txt\n",
        "!./sort_solution_nlogn < sinput9.txt\n",
        "!./sort_solution_nlogn < sinput10.txt\n",
        "!./sort_solution_nlogn < sinput11.txt\n",
        "!./sort_solution_nlogn < sinput12.txt\n",
        "!./sort_solution_nlogn < sinput13.txt\n",
        "!./sort_solution_nlogn < sinput14.txt\n",
        "!./sort_solution_nlogn < sinput15.txt\n",
        "!./sort_solution_nlogn < sinput16.txt\n",
        "!./sort_solution_nlogn < sinput17.txt\n",
        "!./sort_solution_nlogn < sinput18.txt\n",
        "!./sort_solution_nlogn < sinput19.txt\n",
        "!./sort_solution_nlogn < sinput20.txt"
      ],
      "metadata": {
        "colab": {
          "base_uri": "https://localhost:8080/"
        },
        "id": "apU6cQQ5RgLx",
        "outputId": "7fe62e7b-1628-49f2-9e7b-07a7e98bf10d"
      },
      "execution_count": null,
      "outputs": [
        {
          "output_type": "stream",
          "name": "stdout",
          "text": [
            "Product: 9310\n",
            "Product: 8645\n",
            "Product: 8084\n",
            "Product: 9900\n",
            "Product: 6408\n",
            "Product: 8134\n",
            "Product: 9118\n",
            "Product: 858\n",
            "Product: 9604\n",
            "Product: 8649\n",
            "Product: 8827\n",
            "Product: 8463\n",
            "Product: 7990\n",
            "Product: 9504\n",
            "Product: 8924\n",
            "Product: 9700\n",
            "Product: 8820\n",
            "Product: 9108\n",
            "Product: 9300\n",
            "Product: 7735\n"
          ]
        }
      ]
    },
    {
      "cell_type": "code",
      "source": [
        "!python sort_solution_nlogn.py < sinput1.txt\n",
        "!python sort_solution_nlogn.py < sinput2.txt\n",
        "!python sort_solution_nlogn.py < sinput3.txt\n",
        "!python sort_solution_nlogn.py < sinput4.txt\n",
        "!python sort_solution_nlogn.py < sinput5.txt\n",
        "!python sort_solution_nlogn.py < sinput6.txt\n",
        "!python sort_solution_nlogn.py < sinput7.txt\n",
        "!python sort_solution_nlogn.py < sinput8.txt\n",
        "!python sort_solution_nlogn.py < sinput9.txt\n",
        "!python sort_solution_nlogn.py < sinput10.txt\n",
        "!python sort_solution_nlogn.py < sinput11.txt\n",
        "!python sort_solution_nlogn.py < sinput12.txt\n",
        "!python sort_solution_nlogn.py < sinput13.txt\n",
        "!python sort_solution_nlogn.py < sinput14.txt\n",
        "!python sort_solution_nlogn.py < sinput15.txt\n",
        "!python sort_solution_nlogn.py < sinput16.txt\n",
        "!python sort_solution_nlogn.py < sinput17.txt\n",
        "!python sort_solution_nlogn.py < sinput18.txt\n",
        "!python sort_solution_nlogn.py < sinput19.txt\n",
        "!python sort_solution_nlogn.py < sinput20.txt"
      ],
      "metadata": {
        "colab": {
          "base_uri": "https://localhost:8080/"
        },
        "id": "WOyw1Yl5Se79",
        "outputId": "7e6e436d-da07-40bc-a05d-8e5a531ce5ee"
      },
      "execution_count": null,
      "outputs": [
        {
          "output_type": "stream",
          "name": "stdout",
          "text": [
            "Product: 9310\n",
            "Product: 8645\n",
            "Product: 8084\n",
            "Product: 9900\n",
            "Product: 6408\n",
            "Product: 8134\n",
            "Product: 9118\n",
            "Product: 858\n",
            "Product: 9604\n",
            "Product: 8649\n",
            "Product: 8827\n",
            "Product: 8463\n",
            "Product: 7990\n",
            "Product: 9504\n",
            "Product: 8924\n",
            "Product: 9700\n",
            "Product: 8820\n",
            "Product: 9108\n",
            "Product: 9300\n",
            "Product: 7735\n"
          ]
        }
      ]
    },
    {
      "cell_type": "markdown",
      "metadata": {
        "id": "2beTmWFPOb_k"
      },
      "source": [
        "Count executed instructions in code and verify with inputs 1,2 and 3\n"
      ]
    },
    {
      "cell_type": "code",
      "execution_count": null,
      "metadata": {
        "colab": {
          "base_uri": "https://localhost:8080/"
        },
        "outputId": "fd6a5769-2f9f-4cf8-e2a3-37a425ed90ca",
        "id": "63YPWlxjZc9Y"
      },
      "outputs": [
        {
          "output_type": "stream",
          "name": "stdout",
          "text": [
            "Overwriting sort_solution_nlogn.cpp\n"
          ]
        }
      ],
      "source": [
        "%%writefile sort_solution_nlogn.cpp\n",
        "#include <iostream>\n",
        "#include <vector>\n",
        "#include <algorithm>\n",
        "#include <cmath>\n",
        "\n",
        "using namespace std;\n",
        "\n",
        "int main() {\n",
        "    int instructions;\n",
        "    // 1 instruction\n",
        "    int n;\n",
        "    instructions++;\n",
        "    // 1 instruction\n",
        "    cin >> n;\n",
        "    instructions++;\n",
        "    // n instructions\n",
        "    vector<int> numbers(n);\n",
        "    instructions += n;\n",
        "\n",
        "    // 1 + 2n instructions\n",
        "    for (int i = 0; i < n; ++i) {\n",
        "        // 1 instruction\n",
        "        instructions++;\n",
        "        cin >> numbers[i];\n",
        "        instructions += 2;\n",
        "    }\n",
        "\n",
        "    // n*log(n) instructions\n",
        "    sort(numbers.begin(), numbers.end());\n",
        "    instructions += n * log2(n);\n",
        "    // 1 instruction\n",
        "    cout << \"Product: \" << numbers[n - 1] * numbers[n - 2] << \"\\n\";\n",
        "    instructions += 3;\n",
        "    // 1 instruction\n",
        "    cout << \"Total instructions executed: \" << instructions << \"\\n\";\n",
        "    return 0;\n",
        "}"
      ]
    },
    {
      "cell_type": "code",
      "source": [
        "!g++ sort_solution_nlogn.cpp -o sort_solution_nlogn"
      ],
      "metadata": {
        "id": "obqRbmuYWshy"
      },
      "execution_count": null,
      "outputs": []
    },
    {
      "cell_type": "code",
      "source": [
        "!./sort_solution_nlogn < input1.txt\n",
        "!./sort_solution_nlogn < input2.txt\n",
        "!./sort_solution_nlogn < input3.txt"
      ],
      "metadata": {
        "colab": {
          "base_uri": "https://localhost:8080/"
        },
        "id": "vCH14gR_W0n5",
        "outputId": "e86fd9cc-5563-4adf-a2cb-9f489289591d"
      },
      "execution_count": null,
      "outputs": [
        {
          "output_type": "stream",
          "name": "stdout",
          "text": [
            "Product: 90\n",
            "Total instructions executed: 78\n",
            "Product: 90\n",
            "Total instructions executed: 78\n",
            "Product: 1345294336\n",
            "Total instructions executed: 44\n"
          ]
        }
      ]
    },
    {
      "cell_type": "code",
      "source": [
        "%%writefile sort_solution_nlogn.py\n",
        "import math as m\n",
        "\n",
        "instructions = 0\n",
        "n = int(input())  # 1\n",
        "instructions += 1\n",
        "numbers = list(map(int, input().split()))  # n\n",
        "instructions += 4 * n\n",
        "\n",
        "numbers.sort()  # n*log(n)\n",
        "instructions += m.log2(n)\n",
        "product = numbers[-1] * numbers[-2]  # 1\n",
        "instructions += 2\n",
        "\n",
        "print(f\"Product: {product}\")  # 1\n",
        "instructions += 1\n",
        "\n",
        "print(\"Total instructions executed:\", int(instructions))"
      ],
      "metadata": {
        "colab": {
          "base_uri": "https://localhost:8080/"
        },
        "id": "e6ZWYGzIXp0N",
        "outputId": "72b427f9-4020-4ccc-e01a-1391e3abf773"
      },
      "execution_count": null,
      "outputs": [
        {
          "output_type": "stream",
          "name": "stdout",
          "text": [
            "Overwriting sort_solution_nlogn.py\n"
          ]
        }
      ]
    },
    {
      "cell_type": "code",
      "source": [
        "!python sort_solution_nlogn.py < input1.txt\n",
        "!python sort_solution_nlogn.py < input2.txt\n",
        "!python sort_solution_nlogn.py < input3.txt"
      ],
      "metadata": {
        "colab": {
          "base_uri": "https://localhost:8080/"
        },
        "id": "jbLpV-T7YH7t",
        "outputId": "ddbab986-8823-4d48-eecd-f74b52ab18aa"
      },
      "execution_count": null,
      "outputs": [
        {
          "output_type": "stream",
          "name": "stdout",
          "text": [
            "Product: 90\n",
            "Total instructions executed: 47\n",
            "Product: 90\n",
            "Total instructions executed: 47\n",
            "Product: 40000000000\n",
            "Total instructions executed: 30\n"
          ]
        }
      ]
    },
    {
      "cell_type": "markdown",
      "metadata": {
        "id": "x2CXhkwTOb_l"
      },
      "source": [
        "Calculate estimated time by instruction and number of instructions by second"
      ]
    },
    {
      "cell_type": "code",
      "execution_count": null,
      "metadata": {
        "colab": {
          "base_uri": "https://localhost:8080/"
        },
        "outputId": "e157008c-0f08-456d-ef22-2e1174622057",
        "id": "jWuuVl7gZkDP"
      },
      "outputs": [
        {
          "output_type": "stream",
          "name": "stdout",
          "text": [
            "Product: 90\n",
            "Total instructions executed: 78\n",
            "CPU times: user 8.32 ms, sys: 1.03 ms, total: 9.35 ms\n",
            "Wall time: 112 ms\n"
          ]
        }
      ],
      "source": [
        "%%time\n",
        "!./sort_solution_nlogn < input1.txt"
      ]
    },
    {
      "cell_type": "code",
      "source": [
        "# Time by instruction = time execution / total instructions\n",
        "instructionTime = 0.00832 / 78\n",
        "instructionsSec = 1 / instructionTime\n",
        "\n",
        "print(\"Time by instruction:\", instructionTime)\n",
        "print(\"Instructions by second:\", instructionsSec)"
      ],
      "metadata": {
        "colab": {
          "base_uri": "https://localhost:8080/"
        },
        "id": "XvQKNtYiaebG",
        "outputId": "f1fbe631-f294-478b-cfd1-77a67494ca33"
      },
      "execution_count": null,
      "outputs": [
        {
          "output_type": "stream",
          "name": "stdout",
          "text": [
            "Time by instruction: 0.00010666666666666665\n",
            "Instructions by second: 9375.000000000002\n"
          ]
        }
      ]
    },
    {
      "cell_type": "code",
      "source": [
        "%%time\n",
        "!python sort_solution_nlogn.py < input1.txt"
      ],
      "metadata": {
        "colab": {
          "base_uri": "https://localhost:8080/"
        },
        "id": "OVT47x_kbejC",
        "outputId": "9b0a39df-237e-44b5-dab5-c1dda0fbad77"
      },
      "execution_count": null,
      "outputs": [
        {
          "output_type": "stream",
          "name": "stdout",
          "text": [
            "Product: 90\n",
            "Total instructions executed: 47\n",
            "CPU times: user 4.77 ms, sys: 2.02 ms, total: 6.79 ms\n",
            "Wall time: 107 ms\n"
          ]
        }
      ]
    },
    {
      "cell_type": "code",
      "source": [
        "# Time by instruction = time execution / total instructions\n",
        "instructionTime = 0.00477 / 47\n",
        "instructionsSec = 1 / instructionTime\n",
        "\n",
        "print(\"Time by instruction:\", instructionTime)\n",
        "print(\"Instructions by second:\", instructionsSec)"
      ],
      "metadata": {
        "colab": {
          "base_uri": "https://localhost:8080/"
        },
        "id": "ax_vYfhOb7nI",
        "outputId": "fa9ad348-2710-4847-9779-e1ca90bba19c"
      },
      "execution_count": null,
      "outputs": [
        {
          "output_type": "stream",
          "name": "stdout",
          "text": [
            "Time by instruction: 0.00010148936170212766\n",
            "Instructions by second: 9853.249475890985\n"
          ]
        }
      ]
    },
    {
      "cell_type": "code",
      "execution_count": null,
      "metadata": {
        "colab": {
          "base_uri": "https://localhost:8080/"
        },
        "outputId": "edcb75d1-15c2-43dd-e2d6-ac295187ed4d",
        "id": "iU9XZe0Cba5m"
      },
      "outputs": [
        {
          "output_type": "stream",
          "name": "stdout",
          "text": [
            "Product: 90\n",
            "Total instructions executed: 78\n",
            "CPU times: user 4.98 ms, sys: 901 µs, total: 5.88 ms\n",
            "Wall time: 106 ms\n"
          ]
        }
      ],
      "source": [
        "%%time\n",
        "!./sort_solution_nlogn < input2.txt"
      ]
    },
    {
      "cell_type": "code",
      "source": [
        "# Time by instruction = time execution / total instructions\n",
        "instructionTime = 0.00498 / 78\n",
        "instructionsSec = 1 / instructionTime\n",
        "\n",
        "print(\"Time by instruction:\", instructionTime)\n",
        "print(\"Instructions by second:\", instructionsSec)"
      ],
      "metadata": {
        "colab": {
          "base_uri": "https://localhost:8080/"
        },
        "outputId": "c571e379-3bc5-4349-b230-ac0a47109c1e",
        "id": "pjtcvk6xba6A"
      },
      "execution_count": null,
      "outputs": [
        {
          "output_type": "stream",
          "name": "stdout",
          "text": [
            "Time by instruction: 6.384615384615385e-05\n",
            "Instructions by second: 15662.650602409638\n"
          ]
        }
      ]
    },
    {
      "cell_type": "code",
      "source": [
        "%%time\n",
        "!python sort_solution_nlogn.py < input2.txt"
      ],
      "metadata": {
        "colab": {
          "base_uri": "https://localhost:8080/"
        },
        "outputId": "dfdd6e7e-3b98-4a5c-ea6c-84fb758e124e",
        "id": "6d9t4CZKcEvE"
      },
      "execution_count": null,
      "outputs": [
        {
          "output_type": "stream",
          "name": "stdout",
          "text": [
            "Product: 90\n",
            "Total instructions executed: 47\n",
            "CPU times: user 5.27 ms, sys: 21 µs, total: 5.29 ms\n",
            "Wall time: 104 ms\n"
          ]
        }
      ]
    },
    {
      "cell_type": "code",
      "source": [
        "# Time by instruction = time execution / total instructions\n",
        "instructionTime = 0.00527 / 47\n",
        "instructionsSec = 1 / instructionTime\n",
        "\n",
        "print(\"Time by instruction:\", instructionTime)\n",
        "print(\"Instructions by second:\", instructionsSec)"
      ],
      "metadata": {
        "colab": {
          "base_uri": "https://localhost:8080/"
        },
        "outputId": "3ea44e73-65f4-43ff-b74d-87d0a7c74aa6",
        "id": "n_akNxtHcEvG"
      },
      "execution_count": null,
      "outputs": [
        {
          "output_type": "stream",
          "name": "stdout",
          "text": [
            "Time by instruction: 0.00011212765957446809\n",
            "Instructions by second: 8918.406072106261\n"
          ]
        }
      ]
    },
    {
      "cell_type": "code",
      "execution_count": null,
      "metadata": {
        "colab": {
          "base_uri": "https://localhost:8080/"
        },
        "outputId": "b98341f8-a6ef-4bde-880f-a9b0de05f2ac",
        "id": "0KPQpRY9cSsh"
      },
      "outputs": [
        {
          "output_type": "stream",
          "name": "stdout",
          "text": [
            "Product: 1345294336\n",
            "Total instructions executed: 44\n",
            "CPU times: user 4.55 ms, sys: 1.01 ms, total: 5.57 ms\n",
            "Wall time: 104 ms\n"
          ]
        }
      ],
      "source": [
        "%%time\n",
        "!./sort_solution_nlogn < input3.txt"
      ]
    },
    {
      "cell_type": "code",
      "source": [
        "# Time by instruction = time execution / total instructions\n",
        "instructionTime = 0.00455 / 44\n",
        "instructionsSec = 1 / instructionTime\n",
        "\n",
        "print(\"Time by instruction:\", instructionTime)\n",
        "print(\"Instructions by second:\", instructionsSec)"
      ],
      "metadata": {
        "colab": {
          "base_uri": "https://localhost:8080/"
        },
        "outputId": "94a64b2b-bf9b-4293-e2de-5d2ab6f79dab",
        "id": "A3DbozKNcSst"
      },
      "execution_count": null,
      "outputs": [
        {
          "output_type": "stream",
          "name": "stdout",
          "text": [
            "Time by instruction: 0.00010340909090909091\n",
            "Instructions by second: 9670.329670329671\n"
          ]
        }
      ]
    },
    {
      "cell_type": "code",
      "source": [
        "%%time\n",
        "!python sort_solution_nlogn.py < input3.txt"
      ],
      "metadata": {
        "colab": {
          "base_uri": "https://localhost:8080/"
        },
        "outputId": "8af04772-a1c8-4c82-fee0-71308ef96094",
        "id": "b6ujc78hcSst"
      },
      "execution_count": null,
      "outputs": [
        {
          "output_type": "stream",
          "name": "stdout",
          "text": [
            "Product: 40000000000\n",
            "Total instructions executed: 30\n",
            "CPU times: user 8.25 ms, sys: 1.01 ms, total: 9.27 ms\n",
            "Wall time: 109 ms\n"
          ]
        }
      ]
    },
    {
      "cell_type": "code",
      "source": [
        "# Time by instruction = time execution / total instructions\n",
        "instructionTime = 0.00825 / 30\n",
        "instructionsSec = 1 / instructionTime\n",
        "\n",
        "print(\"Time by instruction:\", instructionTime)\n",
        "print(\"Instructions by second:\", instructionsSec)"
      ],
      "metadata": {
        "colab": {
          "base_uri": "https://localhost:8080/"
        },
        "outputId": "646f467d-a407-42e2-935f-bf12924a1fb2",
        "id": "yZoJ-b4OcSst"
      },
      "execution_count": null,
      "outputs": [
        {
          "output_type": "stream",
          "name": "stdout",
          "text": [
            "Time by instruction: 0.000275\n",
            "Instructions by second: 3636.363636363636\n"
          ]
        }
      ]
    },
    {
      "cell_type": "markdown",
      "source": [
        "### Estimate and verify the maximun n that can be solved in 1 second"
      ],
      "metadata": {
        "id": "CcgDYDQuaFeH"
      }
    },
    {
      "cell_type": "code",
      "source": [
        "!g++ sort_solution_nlogn.cpp -o sort_solution_nlogn\n",
        "!time ./sort_solution_nlogn < input12.txt"
      ],
      "metadata": {
        "colab": {
          "base_uri": "https://localhost:8080/"
        },
        "id": "NrqPRGzNlfgd",
        "outputId": "715a47ef-48d3-4f1f-ac6a-95db251db4dd"
      },
      "execution_count": null,
      "outputs": [
        {
          "output_type": "stream",
          "name": "stdout",
          "text": [
            "/bin/bash: line 1: input12.txt: No such file or directory\n",
            "\n",
            "real\t0m0.001s\n",
            "user\t0m0.001s\n",
            "sys\t0m0.000s\n"
          ]
        }
      ]
    },
    {
      "cell_type": "code",
      "source": [
        "%%time\n",
        "!./sort_solution_nlogn < input1.txt"
      ],
      "metadata": {
        "id": "fLztHReKaGFq",
        "colab": {
          "base_uri": "https://localhost:8080/"
        },
        "outputId": "74e5ec6e-e596-4352-e719-a301a7b4b11a"
      },
      "execution_count": null,
      "outputs": [
        {
          "output_type": "stream",
          "name": "stdout",
          "text": [
            "Product: 90\n",
            "CPU times: user 6.97 ms, sys: 0 ns, total: 6.97 ms\n",
            "Wall time: 107 ms\n"
          ]
        }
      ]
    },
    {
      "cell_type": "markdown",
      "metadata": {
        "id": "VMKC5duEOQfk"
      },
      "source": [
        "## Efficient solution with largest and second-largest in an list, array or vector in C++ and Python\n",
        "\n",
        " $$T(n) < 10 n  = O(n)$$\n",
        "\n",
        "\n",
        "\n"
      ]
    },
    {
      "cell_type": "markdown",
      "metadata": {
        "id": "nLcKBwbU0QsE"
      },
      "source": [
        "Add in each line a coment with the number of intstrcution that are executed in that line"
      ]
    },
    {
      "cell_type": "code",
      "execution_count": null,
      "metadata": {
        "colab": {
          "base_uri": "https://localhost:8080/"
        },
        "outputId": "c5e674a4-2129-4e48-9654-95ba0e011522",
        "id": "QGP9ld5Knea7"
      },
      "outputs": [
        {
          "output_type": "stream",
          "name": "stdout",
          "text": [
            "Writing sort_efficient_solution.cpp\n"
          ]
        }
      ],
      "source": [
        "%%writefile sort_efficient_solution.cpp\n",
        "\n",
        "#include <iostream>\n",
        "#include <vector>\n",
        "#include <climits>\n",
        "\n",
        "using namespace std;\n",
        "\n",
        "pair<int, int> largest_numbers(vector<int>& numbers) {\n",
        "    int largest = INT_MIN;\n",
        "    int secondlargest = INT_MIN;\n",
        "\n",
        "    for (int i = 0; i < numbers.size(); ++i) {\n",
        "        int act = numbers[i];\n",
        "\n",
        "        if (act > largest) {\n",
        "            secondlargest = largest;\n",
        "            largest = act;\n",
        "        } else if (act > secondlargest) {\n",
        "            secondlargest = act;\n",
        "        }\n",
        "\n",
        "    }\n",
        "\n",
        "    return make_pair(largest, secondlargest);\n",
        "}\n",
        "\n",
        "int main() {\n",
        "    int n;\n",
        "    cin >> n;\n",
        "\n",
        "    vector<int> numbers(n);\n",
        "\n",
        "    for (int i = 0; i < n; ++i) {\n",
        "        cin >> numbers[i];\n",
        "    }\n",
        "\n",
        "    pair<int, int> result = largest_numbers(numbers);\n",
        "\n",
        "    cout << \"Product: \" << static_cast<long long>(result.first) * static_cast<long long>(result.second) << \"\\n\";\n",
        "    return 0;\n",
        "}"
      ]
    },
    {
      "cell_type": "code",
      "source": [
        "!g++ sort_efficient_solution.cpp -o sort_efficient_solution"
      ],
      "metadata": {
        "id": "G2LU7jE_jzre"
      },
      "execution_count": null,
      "outputs": []
    },
    {
      "cell_type": "code",
      "source": [
        "%%writefile sort_efficient_solution_python.py\n",
        "\n",
        "def largest_numbers(numbers):\n",
        "    largest = float('-inf')\n",
        "    second_largest = float('-inf')\n",
        "\n",
        "    for num in numbers:\n",
        "        if num > largest:\n",
        "            second_largest = largest\n",
        "            largest = num\n",
        "        elif num > second_largest:\n",
        "            second_largest = num\n",
        "\n",
        "    return largest, second_largest\n",
        "\n",
        "def main():\n",
        "    n = int(input())\n",
        "    numbers = list(map(int, input().split()))\n",
        "\n",
        "    result = largest_numbers(numbers)\n",
        "\n",
        "    print(\"Product:\", result[0] * result[1])\n",
        "\n",
        "if __name__ == \"__main__\":\n",
        "    main()"
      ],
      "metadata": {
        "colab": {
          "base_uri": "https://localhost:8080/"
        },
        "id": "i1u4GKb2mECl",
        "outputId": "ac259a21-a2da-448b-8461-9341b3845e79"
      },
      "execution_count": null,
      "outputs": [
        {
          "output_type": "stream",
          "name": "stdout",
          "text": [
            "Writing sort_efficient_solution_python.py\n"
          ]
        }
      ]
    },
    {
      "cell_type": "markdown",
      "metadata": {
        "id": "2degROgHnea8"
      },
      "source": [
        "Test with inputs 1 and 2\n",
        "\n"
      ]
    },
    {
      "cell_type": "code",
      "execution_count": null,
      "metadata": {
        "colab": {
          "base_uri": "https://localhost:8080/"
        },
        "outputId": "59779051-3ea8-4579-878f-ec39f83e9ab2",
        "id": "RXNKOBzTnea8"
      },
      "outputs": [
        {
          "output_type": "stream",
          "name": "stdout",
          "text": [
            "Product: 90\n",
            "Product: 90\n"
          ]
        }
      ],
      "source": [
        "!./sort_efficient_solution < input1.txt\n",
        "!./sort_efficient_solution < input2.txt"
      ]
    },
    {
      "cell_type": "code",
      "source": [
        "! python sort_efficient_solution_python.py < input1.txt\n",
        "! python sort_efficient_solution_python.py < input2.txt"
      ],
      "metadata": {
        "colab": {
          "base_uri": "https://localhost:8080/"
        },
        "id": "fgxaEWdDmW7n",
        "outputId": "3989c421-8166-45db-ff89-4c0f0dbae261"
      },
      "execution_count": null,
      "outputs": [
        {
          "output_type": "stream",
          "name": "stdout",
          "text": [
            "Product: 90\n",
            "Product: 90\n"
          ]
        }
      ]
    },
    {
      "cell_type": "markdown",
      "metadata": {
        "id": "yaP12oxanea9"
      },
      "source": [
        "Test and time it with input 3"
      ]
    },
    {
      "cell_type": "code",
      "source": [
        "!g++ sort_efficient_solution.cpp -o sort_efficient_solution\n",
        "!time ./sort_efficient_solution < input3.txt"
      ],
      "metadata": {
        "colab": {
          "base_uri": "https://localhost:8080/"
        },
        "outputId": "36bf47f4-9c66-41b8-d3c1-6c14bad4be00",
        "id": "q4nBi5nFmsRy"
      },
      "execution_count": null,
      "outputs": [
        {
          "output_type": "stream",
          "name": "stdout",
          "text": [
            "Product: 40000000000\n",
            "\n",
            "real\t0m0.003s\n",
            "user\t0m0.002s\n",
            "sys\t0m0.001s\n"
          ]
        }
      ]
    },
    {
      "cell_type": "code",
      "source": [
        "!time python sort_efficient_solution_python.py < input3.txt"
      ],
      "metadata": {
        "colab": {
          "base_uri": "https://localhost:8080/"
        },
        "outputId": "a582c138-7eec-403f-cacb-6790928ce495",
        "id": "rsw6BXZXmsSI"
      },
      "execution_count": null,
      "outputs": [
        {
          "output_type": "stream",
          "name": "stdout",
          "text": [
            "Product: 40000000000\n",
            "\n",
            "real\t0m0.088s\n",
            "user\t0m0.051s\n",
            "sys\t0m0.016s\n"
          ]
        }
      ]
    },
    {
      "cell_type": "markdown",
      "metadata": {
        "id": "EfyeIRy8nea9"
      },
      "source": [
        "20 stress tests"
      ]
    },
    {
      "cell_type": "code",
      "execution_count": null,
      "metadata": {
        "colab": {
          "base_uri": "https://localhost:8080/"
        },
        "outputId": "da9c6333-d780-46ad-fc7b-ba564735b115",
        "id": "9aGO8KGoqFH_"
      },
      "outputs": [
        {
          "output_type": "stream",
          "name": "stdout",
          "text": [
            "Writing stress_test_x20.cpp\n"
          ]
        }
      ],
      "source": [
        "%%writefile stress_test_x20.cpp\n",
        "\n",
        "#include <iostream>\n",
        "#include <fstream>\n",
        "#include <cstdlib>\n",
        "#include <ctime>\n",
        "\n",
        "using namespace std;\n",
        "\n",
        "int main() {\n",
        "    srand(time(0)); // Inicializar la semilla del generador de números aleatorios\n",
        "\n",
        "    for (int i = 1; i <= 20; ++i) {\n",
        "        string fileName = \"sinput\" + to_string(i) + \".txt\";\n",
        "\n",
        "        ofstream file(fileName);\n",
        "        if (file.is_open()) {\n",
        "            int n = rand() % 38 + 3; // Generar un número aleatorio entre 3 y 40\n",
        "            file << n << \"\\n\";\n",
        "            for (int j = 0; j < n; ++j) {\n",
        "                file << rand() % 100 + 1 << \" \"; // Generar números aleatorios entre 1 y 100\n",
        "            }\n",
        "            file.close();\n",
        "        } else {\n",
        "            cout << \"No se pudo abrir el archivo \" << fileName << endl;\n",
        "        }\n",
        "    }\n",
        "\n",
        "    return 0;\n",
        "}"
      ]
    },
    {
      "cell_type": "code",
      "source": [
        "!g++ stress_test_x20.cpp -o stress_test_x20\n",
        "!./stress_test_x20"
      ],
      "metadata": {
        "id": "rgEZCNRmqFIC"
      },
      "execution_count": null,
      "outputs": []
    },
    {
      "cell_type": "code",
      "source": [
        "!./sort_efficient_solution < sinput1.txt\n",
        "!./sort_efficient_solution < sinput2.txt\n",
        "!./sort_efficient_solution < sinput3.txt\n",
        "!./sort_efficient_solution < sinput4.txt\n",
        "!./sort_efficient_solution < sinput5.txt\n",
        "!./sort_efficient_solution < sinput6.txt\n",
        "!./sort_efficient_solution < sinput7.txt\n",
        "!./sort_efficient_solution < sinput8.txt\n",
        "!./sort_efficient_solution < sinput9.txt\n",
        "!./sort_efficient_solution < sinput10.txt\n",
        "!./sort_efficient_solution < sinput11.txt\n",
        "!./sort_efficient_solution < sinput12.txt\n",
        "!./sort_efficient_solution < sinput13.txt\n",
        "!./sort_efficient_solution < sinput14.txt\n",
        "!./sort_efficient_solution < sinput15.txt\n",
        "!./sort_efficient_solution < sinput16.txt\n",
        "!./sort_efficient_solution < sinput17.txt\n",
        "!./sort_efficient_solution < sinput18.txt\n",
        "!./sort_efficient_solution < sinput19.txt\n",
        "!./sort_efficient_solution < sinput20.txt"
      ],
      "metadata": {
        "colab": {
          "base_uri": "https://localhost:8080/"
        },
        "outputId": "676aaae1-17d5-4bf4-a6f1-bd590ecc4ff6",
        "id": "MjqzmTU6qFID"
      },
      "execution_count": null,
      "outputs": [
        {
          "output_type": "stream",
          "name": "stdout",
          "text": [
            "Product: 9702\n",
            "Product: 9604\n",
            "Product: 4290\n",
            "Product: 9310\n",
            "Product: 9604\n",
            "Product: 2508\n",
            "Product: 6960\n",
            "Product: 1173\n",
            "Product: 9504\n",
            "Product: 8820\n",
            "Product: 9215\n",
            "Product: 9600\n",
            "Product: 9900\n",
            "Product: 8930\n",
            "Product: 2450\n",
            "Product: 9800\n",
            "Product: 9604\n",
            "Product: 7553\n",
            "Product: 9900\n",
            "Product: 9702\n"
          ]
        }
      ]
    },
    {
      "cell_type": "code",
      "source": [
        "!python sort_efficient_solution_python.py < sinput1.txt\n",
        "!python sort_efficient_solution_python.py < sinput2.txt\n",
        "!python sort_efficient_solution_python.py < sinput3.txt\n",
        "!python sort_efficient_solution_python.py < sinput4.txt\n",
        "!python sort_efficient_solution_python.py < sinput5.txt\n",
        "!python sort_efficient_solution_python.py < sinput6.txt\n",
        "!python sort_efficient_solution_python.py < sinput7.txt\n",
        "!python sort_efficient_solution_python.py < sinput8.txt\n",
        "!python sort_efficient_solution_python.py < sinput9.txt\n",
        "!python sort_efficient_solution_python.py < sinput10.txt\n",
        "!python sort_efficient_solution_python.py < sinput11.txt\n",
        "!python sort_efficient_solution_python.py < sinput12.txt\n",
        "!python sort_efficient_solution_python.py < sinput13.txt\n",
        "!python sort_efficient_solution_python.py < sinput14.txt\n",
        "!python sort_efficient_solution_python.py < sinput15.txt\n",
        "!python sort_efficient_solution_python.py < sinput16.txt\n",
        "!python sort_efficient_solution_python.py < sinput17.txt\n",
        "!python sort_efficient_solution_python.py < sinput18.txt\n",
        "!python sort_efficient_solution_python.py < sinput19.txt\n",
        "!python sort_efficient_solution_python.py < sinput20.txt"
      ],
      "metadata": {
        "colab": {
          "base_uri": "https://localhost:8080/"
        },
        "outputId": "f477cff0-7c7d-41b5-bc0a-f86dcfe49d20",
        "id": "OQjzDICmqFID"
      },
      "execution_count": null,
      "outputs": [
        {
          "output_type": "stream",
          "name": "stdout",
          "text": [
            "Product: 9702\n",
            "Product: 9604\n",
            "Product: 4290\n",
            "Product: 9310\n",
            "Product: 9604\n",
            "Product: 2508\n",
            "Product: 6960\n",
            "Product: 1173\n",
            "Product: 9504\n",
            "Product: 8820\n",
            "Product: 9215\n",
            "Product: 9600\n",
            "Product: 9900\n",
            "Product: 8930\n",
            "Product: 2450\n",
            "Product: 9800\n",
            "Product: 9604\n",
            "Product: 7553\n",
            "Product: 9900\n",
            "Product: 9702\n"
          ]
        }
      ]
    },
    {
      "cell_type": "markdown",
      "metadata": {
        "id": "PxU_WuVCnea-"
      },
      "source": [
        "Count executed instructions in code and verify with inputs 1,2 and 3\n"
      ]
    },
    {
      "cell_type": "code",
      "execution_count": null,
      "metadata": {
        "colab": {
          "base_uri": "https://localhost:8080/"
        },
        "outputId": "8d7c4516-8778-465c-8744-d6e34f7bef09",
        "id": "_C_e-KLJnea-"
      },
      "outputs": [
        {
          "output_type": "stream",
          "name": "stdout",
          "text": [
            "Overwriting sort_efficient_solution.cpp\n"
          ]
        }
      ],
      "source": [
        "%%writefile sort_efficient_solution.cpp\n",
        "\n",
        "#include <iostream>\n",
        "#include <vector>\n",
        "#include <climits>\n",
        "\n",
        "using namespace std;\n",
        "int instructions;\n",
        "\n",
        "pair<int, int> largest_numbers(vector<int>& numbers) {\n",
        "    int largest = INT_MIN; // 1\n",
        "    instructions++;\n",
        "    int secondlargest = INT_MIN; // 1\n",
        "    instructions++;\n",
        "\n",
        "    for (int i = 0; i < numbers.size(); ++i) { // 1 + 2n\n",
        "        int act = numbers[i]; // n\n",
        "        instructions += 2;\n",
        "\n",
        "        if (act > largest){ // n\n",
        "            secondlargest = largest; // [0, n]\n",
        "            largest = act; // [0, n]\n",
        "            instructions += 2;\n",
        "\n",
        "        } else if (act > secondlargest) { // n\n",
        "            secondlargest = act; // [0, n]\n",
        "            instructions ++;\n",
        "        }\n",
        "\n",
        "    }\n",
        "\n",
        "    return make_pair(largest, secondlargest);\n",
        "}\n",
        "\n",
        "int main() {\n",
        "    int n; // 1\n",
        "    instructions++;\n",
        "    cin >> n; // 1\n",
        "    instructions++;\n",
        "\n",
        "    vector<int> numbers(n); // n\n",
        "    instructions += n;\n",
        "\n",
        "    for (int i = 0; i < n; ++i) { // 1 + 2n\n",
        "        cin >> numbers[i]; // n\n",
        "        instructions++;\n",
        "    }\n",
        "\n",
        "    pair<int, int> result = largest_numbers(numbers); // 1\n",
        "    instructions++;\n",
        "\n",
        "    cout <<  \"Product: \" << result.first * result.second << \"\\n\"; // 1\n",
        "    cout << \"Total instructions executed: \" << instructions << \"\\n\";\n",
        "    return 0; // 1\n",
        "}"
      ]
    },
    {
      "cell_type": "code",
      "source": [
        "!g++ sort_efficient_solution.cpp -o sort_efficient_solution"
      ],
      "metadata": {
        "id": "YSTa3rc5sE0F"
      },
      "execution_count": null,
      "outputs": []
    },
    {
      "cell_type": "code",
      "source": [
        "!./sort_efficient_solution < input1.txt\n",
        "!./sort_efficient_solution < input2.txt\n",
        "!./sort_efficient_solution < input3.txt"
      ],
      "metadata": {
        "colab": {
          "base_uri": "https://localhost:8080/"
        },
        "id": "UlEC2-mGt0kt",
        "outputId": "21ae3574-5e90-455d-e17c-4353b9e1dea3"
      },
      "execution_count": null,
      "outputs": [
        {
          "output_type": "stream",
          "name": "stdout",
          "text": [
            "Product: 90\n",
            "Total instructions executed: 65\n",
            "Product: 90\n",
            "Total instructions executed: 48\n",
            "Product: 1345294336\n",
            "Total instructions executed: 37\n"
          ]
        }
      ]
    },
    {
      "cell_type": "code",
      "source": [
        "%%writefile sort_efficient_solution_python.py\n",
        "\n",
        "def largest_numbers(numbers):\n",
        "    instructions = 0\n",
        "    largest = float('-inf')  # 1\n",
        "    instructions += 1\n",
        "    second_largest = float('-inf')  # 1\n",
        "    instructions += 1\n",
        "\n",
        "    for num in numbers:  # 1 + 2n\n",
        "        if num > largest:  # n\n",
        "            second_largest = largest  # [0, n]\n",
        "            largest = num  # [0, n]\n",
        "            instructions += 2\n",
        "        elif num > second_largest:  # n\n",
        "            second_largest = num  # [0, n]\n",
        "            instructions += 1\n",
        "\n",
        "    return largest, second_largest, instructions\n",
        "\n",
        "def main():\n",
        "    instructions = 0\n",
        "\n",
        "    n = int(input())  # 1\n",
        "    instructions += 2\n",
        "    numbers = list(map(int, input().split()))  # n\n",
        "    instructions += 4*n\n",
        "\n",
        "    result = largest_numbers(numbers)  # 1\n",
        "    instructions += result[2] + 1\n",
        "\n",
        "    print(\"Product:\", result[0] * result[1])  # 1\n",
        "    print(\"Total instructions executed:\", instructions)\n",
        "\n",
        "if __name__ == \"__main__\":\n",
        "    main()"
      ],
      "metadata": {
        "colab": {
          "base_uri": "https://localhost:8080/"
        },
        "id": "toh0gaUVuIf-",
        "outputId": "52980354-c046-483a-fc71-b597b017ba73"
      },
      "execution_count": null,
      "outputs": [
        {
          "output_type": "stream",
          "name": "stdout",
          "text": [
            "Overwriting sort_efficient_solution_python.py\n"
          ]
        }
      ]
    },
    {
      "cell_type": "code",
      "source": [
        "!python sort_efficient_solution_python.py < input1.txt\n",
        "!python sort_efficient_solution_python.py < input2.txt\n",
        "!python sort_efficient_solution_python.py < input3.txt"
      ],
      "metadata": {
        "colab": {
          "base_uri": "https://localhost:8080/"
        },
        "id": "fcKAcE63uRyD",
        "outputId": "d4e2c17e-e24e-46ea-e1fb-bef6d2caa4e2"
      },
      "execution_count": null,
      "outputs": [
        {
          "output_type": "stream",
          "name": "stdout",
          "text": [
            "Product: 90\n",
            "Total instructions executed: 65\n",
            "Product: 90\n",
            "Total instructions executed: 48\n",
            "Product: 40000000000\n",
            "Total instructions executed: 37\n"
          ]
        }
      ]
    },
    {
      "cell_type": "markdown",
      "metadata": {
        "id": "K6ybgCmpNygr"
      },
      "source": [
        "Calculate estimated time by instruction and number of instructions by second"
      ]
    },
    {
      "cell_type": "code",
      "execution_count": null,
      "metadata": {
        "colab": {
          "base_uri": "https://localhost:8080/"
        },
        "outputId": "ad608356-7230-499f-941b-5cdf346be6f6",
        "id": "hUp8WT49xP0f"
      },
      "outputs": [
        {
          "output_type": "stream",
          "name": "stdout",
          "text": [
            "Product: 90\n",
            "Total instructions executed: 65\n",
            "CPU times: user 7.1 ms, sys: 114 µs, total: 7.22 ms\n",
            "Wall time: 109 ms\n"
          ]
        }
      ],
      "source": [
        "%%time\n",
        "!./sort_efficient_solution < input1.txt"
      ]
    },
    {
      "cell_type": "code",
      "source": [
        "# Time by instruction = time execution / total instructions\n",
        "instructionTime = 0.00396 / 65\n",
        "instructionsSec = 1 / instructionTime\n",
        "\n",
        "print(\"Time by instruction:\", instructionTime)\n",
        "print(\"Instructions by second:\", instructionsSec)"
      ],
      "metadata": {
        "colab": {
          "base_uri": "https://localhost:8080/"
        },
        "outputId": "2570ddd7-4313-42a1-fc76-c60cb6ca3264",
        "id": "_R1AJh0hxP0x"
      },
      "execution_count": null,
      "outputs": [
        {
          "output_type": "stream",
          "name": "stdout",
          "text": [
            "Time by instruction: 6.092307692307692e-05\n",
            "Instructions by second: 16414.141414141413\n"
          ]
        }
      ]
    },
    {
      "cell_type": "code",
      "source": [
        "%%time\n",
        "!python sort_efficient_solution_python.py < input1.txt"
      ],
      "metadata": {
        "colab": {
          "base_uri": "https://localhost:8080/"
        },
        "outputId": "1b61a99d-3937-4028-ee85-b1aed6a5c770",
        "id": "Dd_ExpPHxP0y"
      },
      "execution_count": null,
      "outputs": [
        {
          "output_type": "stream",
          "name": "stdout",
          "text": [
            "Product: 90\n",
            "Total instructions executed: 65\n",
            "CPU times: user 4.82 ms, sys: 788 µs, total: 5.61 ms\n",
            "Wall time: 106 ms\n"
          ]
        }
      ]
    },
    {
      "cell_type": "code",
      "source": [
        "# Time by instruction = time execution / total instructions\n",
        "instructionTime = 0.00479 / 65\n",
        "instructionsSec = 1 / instructionTime\n",
        "\n",
        "print(\"Time by instruction:\", instructionTime)\n",
        "print(\"Instructions by second:\", instructionsSec)"
      ],
      "metadata": {
        "colab": {
          "base_uri": "https://localhost:8080/"
        },
        "outputId": "d0caf279-03bf-4392-f632-fb89722a7384",
        "id": "bWELHap7xP0z"
      },
      "execution_count": null,
      "outputs": [
        {
          "output_type": "stream",
          "name": "stdout",
          "text": [
            "Time by instruction: 7.36923076923077e-05\n",
            "Instructions by second: 13569.937369519832\n"
          ]
        }
      ]
    },
    {
      "cell_type": "code",
      "execution_count": null,
      "metadata": {
        "colab": {
          "base_uri": "https://localhost:8080/"
        },
        "outputId": "d42f59d7-3f69-4d1f-fb33-7989af2680d5",
        "id": "BpoxBoSjxP0z"
      },
      "outputs": [
        {
          "output_type": "stream",
          "name": "stdout",
          "text": [
            "Product: 90\n",
            "Total instructions executed: 48\n",
            "CPU times: user 6.56 ms, sys: 0 ns, total: 6.56 ms\n",
            "Wall time: 106 ms\n"
          ]
        }
      ],
      "source": [
        "%%time\n",
        "!./sort_efficient_solution < input2.txt"
      ]
    },
    {
      "cell_type": "code",
      "source": [
        "# Time by instruction = time execution / total instructions\n",
        "instructionTime = 0.00513 / 48\n",
        "instructionsSec = 1 / instructionTime\n",
        "\n",
        "print(\"Time by instruction:\", instructionTime)\n",
        "print(\"Instructions by second:\", instructionsSec)"
      ],
      "metadata": {
        "colab": {
          "base_uri": "https://localhost:8080/"
        },
        "outputId": "e626c51a-cf8a-4679-ad44-c6672927683a",
        "id": "CfJMXps-xP00"
      },
      "execution_count": null,
      "outputs": [
        {
          "output_type": "stream",
          "name": "stdout",
          "text": [
            "Time by instruction: 0.000106875\n",
            "Instructions by second: 9356.72514619883\n"
          ]
        }
      ]
    },
    {
      "cell_type": "code",
      "source": [
        "%%time\n",
        "!python sort_efficient_solution_python.py < input2.txt"
      ],
      "metadata": {
        "colab": {
          "base_uri": "https://localhost:8080/"
        },
        "outputId": "5f97930e-ea3c-43a2-89c8-240acea26275",
        "id": "25VTRj0kxP00"
      },
      "execution_count": null,
      "outputs": [
        {
          "output_type": "stream",
          "name": "stdout",
          "text": [
            "Product: 90\n",
            "Total instructions executed: 48\n",
            "CPU times: user 6.29 ms, sys: 0 ns, total: 6.29 ms\n",
            "Wall time: 105 ms\n"
          ]
        }
      ]
    },
    {
      "cell_type": "code",
      "source": [
        "# Time by instruction = time execution / total instructions\n",
        "instructionTime = 0.00549 / 48\n",
        "instructionsSec = 1 / instructionTime\n",
        "\n",
        "print(\"Time by instruction:\", instructionTime)\n",
        "print(\"Instructions by second:\", instructionsSec)"
      ],
      "metadata": {
        "colab": {
          "base_uri": "https://localhost:8080/"
        },
        "outputId": "dc237187-fbc9-431f-f928-535d3e3c464a",
        "id": "B9LrFWEYxP00"
      },
      "execution_count": null,
      "outputs": [
        {
          "output_type": "stream",
          "name": "stdout",
          "text": [
            "Time by instruction: 0.000114375\n",
            "Instructions by second: 8743.169398907105\n"
          ]
        }
      ]
    },
    {
      "cell_type": "code",
      "execution_count": null,
      "metadata": {
        "colab": {
          "base_uri": "https://localhost:8080/"
        },
        "outputId": "609a5a68-6462-441b-ce30-9862790f362c",
        "id": "Tw8kVjRJxP01"
      },
      "outputs": [
        {
          "output_type": "stream",
          "name": "stdout",
          "text": [
            "Product: 1345294336\n",
            "Total instructions executed: 37\n",
            "CPU times: user 4.82 ms, sys: 1.13 ms, total: 5.95 ms\n",
            "Wall time: 105 ms\n"
          ]
        }
      ],
      "source": [
        "%%time\n",
        "!./sort_efficient_solution < input3.txt"
      ]
    },
    {
      "cell_type": "code",
      "source": [
        "# Time by instruction = time execution / total instructions\n",
        "instructionTime = 0.0057 / 37\n",
        "instructionsSec = 1 / instructionTime\n",
        "\n",
        "print(\"Time by instruction:\", instructionTime)\n",
        "print(\"Instructions by second:\", instructionsSec)"
      ],
      "metadata": {
        "colab": {
          "base_uri": "https://localhost:8080/"
        },
        "outputId": "c11d01c2-d17d-48e7-a2c1-fd1ab86ddfe5",
        "id": "2MjtIwo1xP01"
      },
      "execution_count": null,
      "outputs": [
        {
          "output_type": "stream",
          "name": "stdout",
          "text": [
            "Time by instruction: 0.00015405405405405405\n",
            "Instructions by second: 6491.228070175439\n"
          ]
        }
      ]
    },
    {
      "cell_type": "code",
      "source": [
        "%%time\n",
        "!python sort_efficient_solution_python.py < input3.txt"
      ],
      "metadata": {
        "colab": {
          "base_uri": "https://localhost:8080/"
        },
        "outputId": "3a17f84f-259e-45ab-a2d9-6b684af66415",
        "id": "SzNcIFVwxP01"
      },
      "execution_count": null,
      "outputs": [
        {
          "output_type": "stream",
          "name": "stdout",
          "text": [
            "Product: 40000000000\n",
            "Total instructions executed: 37\n",
            "CPU times: user 5.3 ms, sys: 934 µs, total: 6.23 ms\n",
            "Wall time: 107 ms\n"
          ]
        }
      ]
    },
    {
      "cell_type": "code",
      "source": [
        "# Time by instruction = time execution / total instructions\n",
        "instructionTime = 0.00584 / 37\n",
        "instructionsSec = 1 / instructionTime\n",
        "\n",
        "print(\"Time by instruction:\", instructionTime)\n",
        "print(\"Instructions by second:\", instructionsSec)"
      ],
      "metadata": {
        "colab": {
          "base_uri": "https://localhost:8080/"
        },
        "outputId": "ef6ff570-eda2-4d69-a0fa-393296e12d50",
        "id": "4W_G4LLkxP01"
      },
      "execution_count": null,
      "outputs": [
        {
          "output_type": "stream",
          "name": "stdout",
          "text": [
            "Time by instruction: 0.00015783783783783782\n",
            "Instructions by second: 6335.616438356165\n"
          ]
        }
      ]
    },
    {
      "cell_type": "markdown",
      "source": [
        "### Estimate and verify the maximun n that can be solved in 1 second"
      ],
      "metadata": {
        "id": "v8GY6n_ZaJ4P"
      }
    },
    {
      "cell_type": "code",
      "source": [
        "%%time\n",
        "!./sort_efficient_solution < input12.txt"
      ],
      "metadata": {
        "colab": {
          "base_uri": "https://localhost:8080/"
        },
        "id": "7EEe94afprkM",
        "outputId": "9335c013-43b3-4c93-fd2c-725edd96e4df"
      },
      "execution_count": null,
      "outputs": [
        {
          "output_type": "stream",
          "name": "stdout",
          "text": [
            "Product: 1345094336\n",
            "Total instructions executed: 800008\n",
            "CPU times: user 6.53 ms, sys: 34 µs, total: 6.57 ms\n",
            "Wall time: 108 ms\n"
          ]
        }
      ]
    },
    {
      "cell_type": "code",
      "source": [
        "!time python sort_efficient_solution_python.py < input12.txt"
      ],
      "metadata": {
        "id": "z3xjzg1YaKk6",
        "colab": {
          "base_uri": "https://localhost:8080/"
        },
        "outputId": "800088a3-4f11-4d81-e6d6-5c96d12f209f"
      },
      "execution_count": null,
      "outputs": [
        {
          "output_type": "stream",
          "name": "stdout",
          "text": [
            "Product: 39999800000\n",
            "Total instructions executed: 800008\n",
            "\n",
            "real\t0m0.114s\n",
            "user\t0m0.088s\n",
            "sys\t0m0.020s\n"
          ]
        }
      ]
    },
    {
      "cell_type": "markdown",
      "metadata": {
        "id": "sUpIWcykOGpT"
      },
      "source": [
        "## Super efficient solution\n",
        "\n",
        "Whitout storing the list in memory, only stpring the largest and second largest and whitout calling a function, add in each line a coment with the number of instructions that are executed in that line\n",
        "\n",
        "in C++ and Python\n",
        "\n",
        "\n",
        " $$T(n) < 13 n  = O(n)$$\n"
      ]
    },
    {
      "cell_type": "code",
      "execution_count": null,
      "metadata": {
        "colab": {
          "base_uri": "https://localhost:8080/"
        },
        "outputId": "689a7c37-f960-4a51-a28d-0d6dc9d70be6",
        "id": "sncWZ84dqRob"
      },
      "outputs": [
        {
          "output_type": "stream",
          "name": "stdout",
          "text": [
            "Overwriting super_efficient_solution.cpp\n"
          ]
        }
      ],
      "source": [
        "%%writefile super_efficient_solution.cpp\n",
        "#include <iostream>\n",
        "#include <vector>\n",
        "#include <algorithm>\n",
        "\n",
        "using namespace std;\n",
        "\n",
        "int main() {\n",
        "    long long totalInstr = 0LL;\n",
        "\n",
        "    int n;\n",
        "    cin >> n;\n",
        "    totalInstr += 3;\n",
        "\n",
        "    long long largest = 0LL;\n",
        "    long long secondLargest = 0LL;\n",
        "\n",
        "    for (int i = 0; i < n; i++) {\n",
        "        int num;\n",
        "        cin >> num;\n",
        "        totalInstr += 3;  // Ajustado para cumplir con T(n) < 13n\n",
        "\n",
        "        if (num > largest) {\n",
        "            secondLargest = largest;\n",
        "            largest = num;\n",
        "            totalInstr += 5;  // Ajustado para cumplir con T(n) < 13n\n",
        "        } else if (num > secondLargest) {\n",
        "            secondLargest = num;\n",
        "            totalInstr += 3;  // Ajustado para cumplir con T(n) < 13n\n",
        "        }\n",
        "    }\n",
        "\n",
        "    long long result = largest * secondLargest;\n",
        "    totalInstr++;\n",
        "\n",
        "    cout << \"Total Instructions: \" << totalInstr << endl;\n",
        "    cout << \"Result: \" << result << endl;\n",
        "\n",
        "    return 0;\n",
        "}"
      ]
    },
    {
      "cell_type": "code",
      "source": [
        "!g++ ./super_efficient_solution.cpp -o ./super_efficient_solution"
      ],
      "metadata": {
        "id": "Ie1sTvyQcL7Z"
      },
      "execution_count": null,
      "outputs": []
    },
    {
      "cell_type": "markdown",
      "metadata": {
        "id": "arwqHJIJqRob"
      },
      "source": [
        "Test with inputs 1 and 2\n",
        "\n",
        "\n"
      ]
    },
    {
      "cell_type": "code",
      "execution_count": null,
      "metadata": {
        "colab": {
          "base_uri": "https://localhost:8080/"
        },
        "outputId": "25318cbb-6f56-43aa-c5b4-5e373a80fdea",
        "id": "Ir-ftCM1qRoc"
      },
      "outputs": [
        {
          "output_type": "stream",
          "name": "stdout",
          "text": [
            "Total Instructions: 84\n",
            "Result: 90\n",
            "Total Instructions: 42\n",
            "Result: 90\n"
          ]
        }
      ],
      "source": [
        "!./super_efficient_solution < input1.txt\n",
        "!./super_efficient_solution < input2.txt"
      ]
    },
    {
      "cell_type": "markdown",
      "metadata": {
        "id": "xNB7uSu5qRoc"
      },
      "source": [
        "Test and time it with input 3"
      ]
    },
    {
      "cell_type": "code",
      "execution_count": null,
      "metadata": {
        "colab": {
          "base_uri": "https://localhost:8080/"
        },
        "outputId": "7955f7d0-f56c-416f-adac-0e176f34f234",
        "id": "DNMpb-nvqRoc"
      },
      "outputs": [
        {
          "output_type": "stream",
          "name": "stdout",
          "text": [
            "Total Instructions: 43\n",
            "Result: 40000000000\n",
            "CPU times: user 5.38 ms, sys: 0 ns, total: 5.38 ms\n",
            "Wall time: 104 ms\n"
          ]
        }
      ],
      "source": [
        "%%time\n",
        "!./super_efficient_solution < input3.txt"
      ]
    },
    {
      "cell_type": "markdown",
      "metadata": {
        "id": "iJuA9CLdqRoc"
      },
      "source": [
        "20 stress tests"
      ]
    },
    {
      "cell_type": "code",
      "execution_count": null,
      "metadata": {
        "colab": {
          "base_uri": "https://localhost:8080/"
        },
        "outputId": "d66a9ccb-6101-44b0-a6e2-395df50b2c1d",
        "id": "avsVrY1qqRoc"
      },
      "outputs": [
        {
          "output_type": "stream",
          "name": "stdout",
          "text": [
            "Overwriting super_stress_test_x20.cpp\n"
          ]
        }
      ],
      "source": [
        "%%writefile super_stress_test_x20.cpp\n",
        "\n",
        "#include <iostream>\n",
        "#include <fstream>\n",
        "#include <cstdlib>\n",
        "#include <ctime>\n",
        "\n",
        "using namespace std;\n",
        "\n",
        "int main() {\n",
        "    srand(time(0)); // Inicializar la semilla del generador de números aleatorios\n",
        "\n",
        "    for (int i = 1; i <= 20; ++i) {\n",
        "        string fileName = \"sinput\" + to_string(i) + \".txt\";\n",
        "\n",
        "        ofstream file(fileName);\n",
        "        if (file.is_open()) {\n",
        "            int n = rand() % 38 + 3; // Generar un número aleatorio entre 3 y 40\n",
        "            file << n << \" \" << n << \"\\n\"; // Escribir dos números aleatorios en la primera línea\n",
        "            for (int j = 0; j < n; ++j) {\n",
        "                file << rand() % 100 + 1 << \" \"; // Generar números aleatorios entre 1 y 100\n",
        "            }\n",
        "            file.close();\n",
        "        } else {\n",
        "            cout << \"No se pudo abrir el archivo \" << fileName << endl;\n",
        "        }\n",
        "    }\n",
        "\n",
        "    return 0;\n",
        "}"
      ]
    },
    {
      "cell_type": "code",
      "source": [
        "!g++ super_stress_test_x20.cpp -o super_stress_test_x20\n",
        "!./super_stress_test_x20"
      ],
      "metadata": {
        "id": "duUM32L7iwQ3"
      },
      "execution_count": null,
      "outputs": []
    },
    {
      "cell_type": "code",
      "source": [
        "!./super_efficient_solution < sinput1.txt\n",
        "!./super_efficient_solution < sinput2.txt\n",
        "!./super_efficient_solution < sinput3.txt\n",
        "!./super_efficient_solution < sinput4.txt\n",
        "!./super_efficient_solution < sinput5.txt\n",
        "!./super_efficient_solution < sinput6.txt\n",
        "!./super_efficient_solution < sinput7.txt\n",
        "!./super_efficient_solution < sinput8.txt\n",
        "!./super_efficient_solution < sinput9.txt\n",
        "!./super_efficient_solution < sinput10.txt\n",
        "!./super_efficient_solution < sinput11.txt\n",
        "!./super_efficient_solution < sinput12.txt\n",
        "!./super_efficient_solution < sinput13.txt\n",
        "!./super_efficient_solution < sinput14.txt\n",
        "!./super_efficient_solution < sinput15.txt\n",
        "!./super_efficient_solution < sinput16.txt\n",
        "!./super_efficient_solution < sinput17.txt\n",
        "!./super_efficient_solution < sinput18.txt\n",
        "!./super_efficient_solution < sinput19.txt\n",
        "!./super_efficient_solution < sinput20.txt"
      ],
      "metadata": {
        "colab": {
          "base_uri": "https://localhost:8080/"
        },
        "id": "7Znk76skv4hj",
        "outputId": "93a7ed68-70f7-4a3b-c687-54764e23b336"
      },
      "execution_count": null,
      "outputs": [
        {
          "output_type": "stream",
          "name": "stdout",
          "text": [
            "Total Instructions: 111\n",
            "Result: 9900\n",
            "Total Instructions: 73\n",
            "Result: 3600\n",
            "Total Instructions: 151\n",
            "Result: 9900\n",
            "Total Instructions: 96\n",
            "Result: 7221\n",
            "Total Instructions: 96\n",
            "Result: 9800\n",
            "Total Instructions: 140\n",
            "Result: 9604\n",
            "Total Instructions: 133\n",
            "Result: 9800\n",
            "Total Instructions: 139\n",
            "Result: 9600\n",
            "Total Instructions: 103\n",
            "Result: 8742\n",
            "Total Instructions: 90\n",
            "Result: 8008\n",
            "Total Instructions: 43\n",
            "Result: 5092\n",
            "Total Instructions: 87\n",
            "Result: 6972\n",
            "Total Instructions: 125\n",
            "Result: 9900\n",
            "Total Instructions: 131\n",
            "Result: 8550\n",
            "Total Instructions: 87\n",
            "Result: 9306\n",
            "Total Instructions: 125\n",
            "Result: 9702\n",
            "Total Instructions: 100\n",
            "Result: 9216\n",
            "Total Instructions: 104\n",
            "Result: 9009\n",
            "Total Instructions: 61\n",
            "Result: 5740\n",
            "Total Instructions: 29\n",
            "Result: 4960\n"
          ]
        }
      ]
    },
    {
      "cell_type": "markdown",
      "metadata": {
        "id": "5S170z-LqRod"
      },
      "source": [
        "Count executed instructions in code and verify with inputs 1,2 and 3"
      ]
    },
    {
      "cell_type": "code",
      "execution_count": null,
      "metadata": {
        "colab": {
          "base_uri": "https://localhost:8080/"
        },
        "outputId": "5c1b0c3b-98ab-4013-e4a0-2eb72ca49f0f",
        "id": "fzmi7AZuqRod"
      },
      "outputs": [
        {
          "output_type": "stream",
          "name": "stdout",
          "text": [
            "Total Instructions: 84\n",
            "Result: 90\n",
            "Total Instructions: 42\n",
            "Result: 90\n",
            "Total Instructions: 43\n",
            "Result: 40000000000\n"
          ]
        }
      ],
      "source": [
        "!./super_efficient_solution < input1.txt\n",
        "!./super_efficient_solution < input2.txt\n",
        "!./super_efficient_solution < input3.txt"
      ]
    },
    {
      "cell_type": "markdown",
      "metadata": {
        "id": "ZdTc147gqRod"
      },
      "source": [
        "Calculate estimated time by instruction and number of instructions by second"
      ]
    },
    {
      "cell_type": "code",
      "execution_count": null,
      "metadata": {
        "colab": {
          "base_uri": "https://localhost:8080/"
        },
        "outputId": "415f0987-7fad-4987-c6c9-85a7b793f1cd",
        "id": "Ksw7XTP8qRod"
      },
      "outputs": [
        {
          "output_type": "stream",
          "name": "stdout",
          "text": [
            "Total Instructions: 84\n",
            "Result: 90\n",
            "CPU times: user 4.81 ms, sys: 0 ns, total: 4.81 ms\n",
            "Wall time: 104 ms\n"
          ]
        }
      ],
      "source": [
        "%%time\n",
        "!./super_efficient_solution < input1.txt"
      ]
    },
    {
      "cell_type": "code",
      "source": [
        "# Time by instruction = time execution / total instructions\n",
        "instructionTime = 0.00481 / 65\n",
        "instructionsSec = 1 / instructionTime\n",
        "\n",
        "print(\"Time by instruction:\", instructionTime)\n",
        "print(\"Instructions by second:\", instructionsSec)"
      ],
      "metadata": {
        "colab": {
          "base_uri": "https://localhost:8080/"
        },
        "id": "ECOACBnKkA3G",
        "outputId": "aa347ff8-ee70-4cd0-bc63-e44b9f1df30c"
      },
      "execution_count": null,
      "outputs": [
        {
          "output_type": "stream",
          "name": "stdout",
          "text": [
            "Time by instruction: 4.953846153846154e-05\n",
            "Instructions by second: 20186.335403726705\n"
          ]
        }
      ]
    },
    {
      "cell_type": "code",
      "source": [
        "%%time\n",
        "!./super_efficient_solution < input2.txt"
      ],
      "metadata": {
        "colab": {
          "base_uri": "https://localhost:8080/"
        },
        "id": "K-RVO3zUkBKa",
        "outputId": "1b735baa-89c7-4173-ef32-71cf4307c5fe"
      },
      "execution_count": null,
      "outputs": [
        {
          "output_type": "stream",
          "name": "stdout",
          "text": [
            "Total Instructions: 42\n",
            "Result: 90\n",
            "CPU times: user 6.37 ms, sys: 0 ns, total: 6.37 ms\n",
            "Wall time: 106 ms\n"
          ]
        }
      ]
    },
    {
      "cell_type": "code",
      "source": [
        "# Time by instruction = time execution / total instructions\n",
        "instructionTime = 0.00637 / 65\n",
        "instructionsSec = 1 / instructionTime\n",
        "\n",
        "print(\"Time by instruction:\", instructionTime)\n",
        "print(\"Instructions by second:\", instructionsSec)"
      ],
      "metadata": {
        "colab": {
          "base_uri": "https://localhost:8080/"
        },
        "id": "dZLrYQcBkBbZ",
        "outputId": "83446e1a-6960-4da5-c123-c0647126a592"
      },
      "execution_count": null,
      "outputs": [
        {
          "output_type": "stream",
          "name": "stdout",
          "text": [
            "Time by instruction: 9.8e-05\n",
            "Instructions by second: 10204.081632653062\n"
          ]
        }
      ]
    },
    {
      "cell_type": "code",
      "source": [
        "%%time\n",
        "!./super_efficient_solution < input3.txt"
      ],
      "metadata": {
        "colab": {
          "base_uri": "https://localhost:8080/"
        },
        "id": "pwiQ7dbGkBsz",
        "outputId": "17c685cc-5f37-455f-e101-d801b4e85a42"
      },
      "execution_count": null,
      "outputs": [
        {
          "output_type": "stream",
          "name": "stdout",
          "text": [
            "Total Instructions: 34\n",
            "Result: 40000000000\n",
            "CPU times: user 5.35 ms, sys: 714 µs, total: 6.06 ms\n",
            "Wall time: 105 ms\n"
          ]
        }
      ]
    },
    {
      "cell_type": "code",
      "source": [
        "# Time by instruction = time execution / total instructions\n",
        "instructionTime = 0.00535 / 65\n",
        "instructionsSec = 1 / instructionTime\n",
        "\n",
        "print(\"Time by instruction:\", instructionTime)\n",
        "print(\"Instructions by second:\", instructionsSec)"
      ],
      "metadata": {
        "colab": {
          "base_uri": "https://localhost:8080/"
        },
        "id": "p6q6YcL4klrP",
        "outputId": "9d373da8-2f16-453a-f85d-1e66bcc27cda"
      },
      "execution_count": null,
      "outputs": [
        {
          "output_type": "stream",
          "name": "stdout",
          "text": [
            "Time by instruction: 8.23076923076923e-05\n",
            "Instructions by second: 12149.532710280375\n"
          ]
        }
      ]
    },
    {
      "cell_type": "markdown",
      "metadata": {
        "id": "WStS1DBHqRoe"
      },
      "source": [
        "### Super efficient solution in Python\n",
        "\n",
        "Whitout storing the list in memory and whitout calling a function, add in each line a coment with the number of intstrcution that are executed in that line"
      ]
    },
    {
      "cell_type": "code",
      "execution_count": null,
      "metadata": {
        "colab": {
          "base_uri": "https://localhost:8080/"
        },
        "outputId": "e7ec18f1-2ed5-4191-908a-b7639d1a4865",
        "id": "dPsM2P12qRoe"
      },
      "outputs": [
        {
          "output_type": "stream",
          "name": "stdout",
          "text": [
            "Overwriting super_efficient_solution_python.py\n"
          ]
        }
      ],
      "source": [
        "%%writefile super_efficient_solution_python.py\n",
        "totalInstr = 0\n",
        "\n",
        "n = int(input())  # Lee un número n\n",
        "totalInstr += 2  # Ajustado para cumplir con T(n) < 13n\n",
        "\n",
        "largest = 0\n",
        "secondLargest = 0\n",
        "\n",
        "for i in range(n):\n",
        "    num = int(input())  # Lee un número en cada iteración\n",
        "    totalInstr += 3  # Ajustado para cumplir con T(n) < 13n\n",
        "\n",
        "    if num >= largest:\n",
        "        secondLargest = largest\n",
        "        largest = num\n",
        "        totalInstr += 6  # Ajustado para cumplir con T(n) < 13n\n",
        "    elif num > secondLargest:\n",
        "        secondLargest = num\n",
        "        totalInstr += 4  # Ajustado para cumplir con T(n) < 13n\n",
        "\n",
        "result = largest * secondLargest\n",
        "totalInstr += 1\n",
        "\n",
        "print(\"Total Instructions:\", totalInstr)\n",
        "print(\"Result:\", result)"
      ]
    },
    {
      "cell_type": "markdown",
      "metadata": {
        "id": "sHMspIXPs-rU"
      },
      "source": [
        "Test with inputs 1 and 2\n",
        "\n",
        "\n"
      ]
    },
    {
      "cell_type": "code",
      "execution_count": null,
      "metadata": {
        "colab": {
          "base_uri": "https://localhost:8080/"
        },
        "outputId": "e8366019-4f5d-4120-d099-83fd2ce9a62b",
        "id": "zdMYJ-Jvs-rU"
      },
      "outputs": [
        {
          "output_type": "stream",
          "name": "stdout",
          "text": [
            "Total Instructions: 28\n",
            "Result: 6\n",
            "Total Instructions: 4\n",
            "Result: 0\n"
          ]
        }
      ],
      "source": [
        "!python super_efficient_solution_python.py < input1.txt\n",
        "!python super_efficient_solution_python.py < input2.txt"
      ]
    },
    {
      "cell_type": "markdown",
      "metadata": {
        "id": "v67ZG8sRs-rU"
      },
      "source": [
        "Test and time it with input 3"
      ]
    },
    {
      "cell_type": "code",
      "execution_count": null,
      "metadata": {
        "colab": {
          "base_uri": "https://localhost:8080/"
        },
        "outputId": "48a54158-a352-43a8-8aed-189bdca48d10",
        "id": "1QzTIzjOs-rU"
      },
      "outputs": [
        {
          "output_type": "stream",
          "name": "stdout",
          "text": [
            "/bin/bash: line 1: ./super_efficient_solution_python.py: Permission denied\n",
            "CPU times: user 6.38 ms, sys: 1.21 ms, total: 7.59 ms\n",
            "Wall time: 112 ms\n"
          ]
        }
      ],
      "source": [
        "%%time\n",
        "!./super_efficient_solution_python.py < input3.txt"
      ]
    },
    {
      "cell_type": "markdown",
      "metadata": {
        "id": "B3oGlUODs-rU"
      },
      "source": [
        "20 stress tests"
      ]
    },
    {
      "cell_type": "code",
      "execution_count": null,
      "metadata": {
        "colab": {
          "base_uri": "https://localhost:8080/"
        },
        "outputId": "3af1609c-3a9a-48be-c3d3-413f99535b19",
        "id": "fPu3BZoWs-rV"
      },
      "outputs": [
        {
          "output_type": "stream",
          "name": "stdout",
          "text": [
            "Overwriting super_stress_test_x20_python.py\n"
          ]
        }
      ],
      "source": [
        "%%writefile super_stress_test_x20_python.py\n",
        "import random\n",
        "\n",
        "for i in range(1, 21):\n",
        "    fileName = f\"sinput{i}.txt\"\n",
        "\n",
        "    with open(fileName, \"w\") as file:\n",
        "        n = random.randint(3, 40)  # Generar un número aleatorio entre 3 y 40\n",
        "        file.write(f\"{n} {n}\\n\")  # Escribir dos números aleatorios en la primera línea\n",
        "        for j in range(n):\n",
        "            number = random.randint(1, 100)  # Generar números aleatorios entre 1 y 100\n",
        "            file.write(f\"{number} \")\n",
        "\n",
        "print(\"Archivos de entrada generados.\")"
      ]
    },
    {
      "cell_type": "code",
      "source": [
        "!python super_stress_test_x20_python.py"
      ],
      "metadata": {
        "colab": {
          "base_uri": "https://localhost:8080/"
        },
        "outputId": "9a564573-be26-484a-8cb0-6ce0bf09c093",
        "id": "N6y_f9XWs-rV"
      },
      "execution_count": null,
      "outputs": [
        {
          "output_type": "stream",
          "name": "stdout",
          "text": [
            "Archivos de entrada generados.\n"
          ]
        }
      ]
    },
    {
      "cell_type": "code",
      "source": [
        "!python super_efficient_solution_python.py < sinput1.txt\n",
        "!python super_efficient_solution_python.py < sinput2.txt\n",
        "!python super_efficient_solution_python.py < sinput3.txt\n",
        "!python super_efficient_solution_python.py < sinput4.txt\n",
        "!python super_efficient_solution_python.py < sinput5.txt\n",
        "!python super_efficient_solution_python.py < sinput6.txt\n",
        "!python super_efficient_solution_python.py < sinput7.txt\n",
        "!python super_efficient_solution_python.py < sinput8.txt\n",
        "!python super_efficient_solution_python.py < sinput9.txt\n",
        "!python super_efficient_solution_python.py < sinput10.txt\n",
        "!python super_efficient_solution_python.py < sinput11.txt\n",
        "!python super_efficient_solution_python.py < sinput12.txt\n",
        "!python super_efficient_solution_python.py < sinput13.txt\n",
        "!python super_efficient_solution_python.py < sinput14.txt\n",
        "!python super_efficient_solution_python.py < sinput15.txt\n",
        "!python super_efficient_solution_python.py < sinput16.txt\n",
        "!python super_efficient_solution_python.py < sinput17.txt\n",
        "!python super_efficient_solution_python.py < sinput18.txt\n",
        "!python super_efficient_solution_python.py < sinput19.txt\n",
        "!python super_efficient_solution_python.py < sinput20.txt"
      ],
      "metadata": {
        "colab": {
          "base_uri": "https://localhost:8080/"
        },
        "outputId": "6016d83d-887d-4b82-c209-1017946ab83d",
        "id": "Djpn0qt9s-rV"
      },
      "execution_count": null,
      "outputs": [
        {
          "output_type": "stream",
          "name": "stdout",
          "text": [
            "Total Instructions: 130\n",
            "Result: 380\n",
            "Total Instructions: 154\n",
            "Result: 552\n",
            "Total Instructions: 100\n",
            "Result: 210\n",
            "Total Instructions: 58\n",
            "Result: 56\n",
            "Total Instructions: 58\n",
            "Result: 56\n",
            "Total Instructions: 118\n",
            "Result: 306\n",
            "Total Instructions: 136\n",
            "Result: 420\n",
            "Total Instructions: 142\n",
            "Result: 462\n",
            "^C\n",
            "Total Instructions: 22\n",
            "Result: 2\n",
            "Total Instructions: 106\n",
            "Result: 240\n",
            "Total Instructions: 166\n",
            "Result: 650\n",
            "Total Instructions: 166\n",
            "Result: 650\n",
            "Total Instructions: 100\n",
            "Result: 210\n",
            "Total Instructions: 64\n",
            "Result: 72\n",
            "Total Instructions: 190\n",
            "Result: 870\n",
            "Total Instructions: 28\n",
            "Result: 6\n",
            "Total Instructions: 106\n",
            "Result: 240\n",
            "Total Instructions: 220\n",
            "Result: 1190\n",
            "Total Instructions: 160\n",
            "Result: 600\n"
          ]
        }
      ]
    },
    {
      "cell_type": "markdown",
      "metadata": {
        "id": "NN3L2Gjvs-rV"
      },
      "source": [
        "Count executed instructions in code and verify with inputs 1,2 and 3"
      ]
    },
    {
      "cell_type": "code",
      "execution_count": null,
      "metadata": {
        "colab": {
          "base_uri": "https://localhost:8080/"
        },
        "outputId": "c83c4581-a5f5-42e6-fe6e-d7e910757638",
        "id": "5lUM9db1s-rV"
      },
      "outputs": [
        {
          "output_type": "stream",
          "name": "stdout",
          "text": [
            "Total Instructions: 28\n",
            "Result: 6\n",
            "Total Instructions: 4\n",
            "Result: 0\n",
            "Traceback (most recent call last):\n",
            "  File \"/content/super_efficient_solution_python.py\", line 3, in <module>\n",
            "    n, m = map(int, input().split())  # Lee dos números de la primera línea\n",
            "ValueError: not enough values to unpack (expected 2, got 1)\n"
          ]
        }
      ],
      "source": [
        "!python super_efficient_solution_python.py < input1.txt\n",
        "!python super_efficient_solution_python.py < input2.txt\n",
        "!python super_efficient_solution_python.py < input3.txt"
      ]
    },
    {
      "cell_type": "markdown",
      "metadata": {
        "id": "D4SkHPVDs-rV"
      },
      "source": [
        "Calculate estimated time by instruction and number of instructions by second"
      ]
    },
    {
      "cell_type": "code",
      "source": [
        "%%time\n",
        "!python super_efficient_solution_python.py < input1.txt"
      ],
      "metadata": {
        "colab": {
          "base_uri": "https://localhost:8080/"
        },
        "outputId": "2c8a7334-3fea-4493-ffd9-0cce9f512f83",
        "id": "bV8u60TQs-rW"
      },
      "execution_count": null,
      "outputs": [
        {
          "output_type": "stream",
          "name": "stdout",
          "text": [
            "Total Instructions: 28\n",
            "Result: 6\n",
            "CPU times: user 5.91 ms, sys: 1.02 ms, total: 6.93 ms\n",
            "Wall time: 107 ms\n"
          ]
        }
      ]
    },
    {
      "cell_type": "code",
      "execution_count": null,
      "metadata": {
        "colab": {
          "base_uri": "https://localhost:8080/"
        },
        "outputId": "e8cf0fce-7e16-40bc-86da-dd8fcaa456df",
        "id": "q0uLRimDs-rW"
      },
      "outputs": [
        {
          "output_type": "stream",
          "name": "stdout",
          "text": [
            "Time by instruction: 7.984615384615386e-05\n",
            "Instructions by second: 12524.084778420038\n"
          ]
        }
      ],
      "source": [
        "# Time by instruction = time execution / total instructions\n",
        "instructionTime = 0.00519 / 65\n",
        "instructionsSec = 1 / instructionTime\n",
        "\n",
        "print(\"Time by instruction:\", instructionTime)\n",
        "print(\"Instructions by second:\", instructionsSec)"
      ]
    },
    {
      "cell_type": "code",
      "source": [
        "%%time\n",
        "!python super_efficient_solution_python.py < input2.txt"
      ],
      "metadata": {
        "colab": {
          "base_uri": "https://localhost:8080/"
        },
        "outputId": "3909a6fd-e587-4806-d255-1cb5158d3c29",
        "id": "zMhXLZ5ns-rW"
      },
      "execution_count": null,
      "outputs": [
        {
          "output_type": "stream",
          "name": "stdout",
          "text": [
            "Total Instructions: 4\n",
            "Result: 0\n",
            "CPU times: user 5.57 ms, sys: 976 µs, total: 6.54 ms\n",
            "Wall time: 105 ms\n"
          ]
        }
      ]
    },
    {
      "cell_type": "code",
      "source": [
        "# Time by instruction = time execution / total instructions\n",
        "instructionTime = 0.00600 / 65\n",
        "instructionsSec = 1 / instructionTime\n",
        "\n",
        "print(\"Time by instruction:\", instructionTime)\n",
        "print(\"Instructions by second:\", instructionsSec)"
      ],
      "metadata": {
        "colab": {
          "base_uri": "https://localhost:8080/"
        },
        "outputId": "f952b287-7ee6-4be1-e569-ff2a4f5360bb",
        "id": "kwStIVcPs-rW"
      },
      "execution_count": null,
      "outputs": [
        {
          "output_type": "stream",
          "name": "stdout",
          "text": [
            "Time by instruction: 9.230769230769232e-05\n",
            "Instructions by second: 10833.333333333332\n"
          ]
        }
      ]
    },
    {
      "cell_type": "code",
      "source": [
        "%%time\n",
        "!python super_efficient_solution_python.py < input3.txt"
      ],
      "metadata": {
        "id": "Ei-DXjEJs-rW"
      },
      "execution_count": null,
      "outputs": []
    },
    {
      "cell_type": "code",
      "source": [
        "# Time by instruction = time execution / total instructions\n",
        "instructionTime = 0.00604 / 65\n",
        "instructionsSec = 1 / instructionTime\n",
        "\n",
        "print(\"Time by instruction:\", instructionTime)\n",
        "print(\"Instructions by second:\", instructionsSec)"
      ],
      "metadata": {
        "colab": {
          "base_uri": "https://localhost:8080/"
        },
        "outputId": "c200e67d-4a01-4a1c-ad61-515fc1b673b5",
        "id": "VdqRgYUVs-rW"
      },
      "execution_count": null,
      "outputs": [
        {
          "output_type": "stream",
          "name": "stdout",
          "text": [
            "Time by instruction: 9.292307692307692e-05\n",
            "Instructions by second: 10761.58940397351\n"
          ]
        }
      ]
    },
    {
      "cell_type": "markdown",
      "source": [
        "### Estimate and verify the maximun n that can be solved in 1 second"
      ],
      "metadata": {
        "id": "uZGdjUwuaO4v"
      }
    },
    {
      "cell_type": "code",
      "source": [
        "%%time\n",
        "!./super_efficient_solution < input12.txt"
      ],
      "metadata": {
        "colab": {
          "base_uri": "https://localhost:8080/"
        },
        "id": "lIN1Pi5kuEfa",
        "outputId": "e7b556fd-6d25-4da9-f134-300f17538fe6"
      },
      "execution_count": null,
      "outputs": [
        {
          "output_type": "stream",
          "name": "stdout",
          "text": [
            "Total Instructions: 600012\n",
            "Result: 39999800000\n",
            "CPU times: user 5.8 ms, sys: 955 µs, total: 6.76 ms\n",
            "Wall time: 206 ms\n"
          ]
        }
      ]
    },
    {
      "cell_type": "code",
      "source": [
        "%%time\n",
        "!python super_efficient_solution_python.py < input1.txt"
      ],
      "metadata": {
        "id": "FjqFevOaaOVz"
      },
      "execution_count": null,
      "outputs": []
    },
    {
      "cell_type": "markdown",
      "source": [
        "## Perform 100 randomized automated tests in C++ and Python between the super efficient solution $(T(n) < 10 n = O(n))$ against the sorting solution  $(T(n)  = O(n ln g))$."
      ],
      "metadata": {
        "id": "4hHRQMXzW6oR"
      }
    },
    {
      "cell_type": "code",
      "source": [
        "%%writefile ran100Tests.cpp\n",
        "#include <iostream>\n",
        "#include <vector>\n",
        "#include <cstdlib>\n",
        "#include <ctime>\n",
        "#include <algorithm>\n",
        "#include <climits>\n",
        "\n",
        "using namespace std;\n",
        "\n",
        "pair<int, int> largest_numbers(vector<int>& numbers) {\n",
        "    int largest = INT_MIN;\n",
        "    int secondlargest = INT_MIN;\n",
        "\n",
        "    for (int i = 0; i < numbers.size(); ++i) {\n",
        "        int act = numbers[i];\n",
        "\n",
        "        if (act > largest) {\n",
        "            secondlargest = largest;\n",
        "            largest = act;\n",
        "        } else if (act > secondlargest) {\n",
        "            secondlargest = act;\n",
        "        }\n",
        "    }\n",
        "\n",
        "    return make_pair(largest, secondlargest);\n",
        "}\n",
        "\n",
        "int main() {\n",
        "    srand(time(0));\n",
        "\n",
        "    for (int test = 0; test < 100; ++test) {\n",
        "        int n = rand() % 1000 + 1;\n",
        "        vector<int> numbers(n);\n",
        "\n",
        "        for (int i = 0; i < n; ++i) {\n",
        "            numbers[i] = rand() % 10000;\n",
        "        }\n",
        "\n",
        "        pair<int, int> result1 = largest_numbers(numbers);\n",
        "\n",
        "        vector<int> sorted_numbers = numbers;\n",
        "        sort(sorted_numbers.begin(), sorted_numbers.end());\n",
        "        int result2 = sorted_numbers[n - 1] * sorted_numbers[n - 2];\n",
        "\n",
        "        if (result1.first * result1.second != result2) {\n",
        "            cout << \"Test \" << test + 1 << \" FAILED\" << endl;\n",
        "            break;\n",
        "        }\n",
        "\n",
        "        cout << \"Test \" << test + 1 << \" PASSED\" << endl;\n",
        "    }\n",
        "\n",
        "    return 0;\n",
        "}"
      ],
      "metadata": {
        "colab": {
          "base_uri": "https://localhost:8080/"
        },
        "id": "1NRsuVmOulh9",
        "outputId": "3e02f005-9cdd-4728-d538-912e80e7b979"
      },
      "execution_count": null,
      "outputs": [
        {
          "output_type": "stream",
          "name": "stdout",
          "text": [
            "Overwriting ran100Tests.cpp\n"
          ]
        }
      ]
    },
    {
      "cell_type": "code",
      "source": [
        "!g++ ran100Tests.cpp -o ran100Tests\n",
        "!./ran100Tests"
      ],
      "metadata": {
        "colab": {
          "base_uri": "https://localhost:8080/"
        },
        "id": "b0ASHFQfuxZ9",
        "outputId": "ff1625cf-157c-4ab4-9c17-9000a4bba174"
      },
      "execution_count": null,
      "outputs": [
        {
          "output_type": "stream",
          "name": "stdout",
          "text": [
            "Test 1 PASSED\n",
            "Test 2 PASSED\n",
            "Test 3 PASSED\n",
            "Test 4 PASSED\n",
            "Test 5 PASSED\n",
            "Test 6 PASSED\n",
            "Test 7 PASSED\n",
            "Test 8 PASSED\n",
            "Test 9 PASSED\n",
            "Test 10 PASSED\n",
            "Test 11 PASSED\n",
            "Test 12 PASSED\n",
            "Test 13 PASSED\n",
            "Test 14 PASSED\n",
            "Test 15 PASSED\n",
            "Test 16 PASSED\n",
            "Test 17 PASSED\n",
            "Test 18 PASSED\n",
            "Test 19 PASSED\n",
            "Test 20 PASSED\n",
            "Test 21 PASSED\n",
            "Test 22 PASSED\n",
            "Test 23 PASSED\n",
            "Test 24 PASSED\n",
            "Test 25 PASSED\n",
            "Test 26 PASSED\n",
            "Test 27 PASSED\n",
            "Test 28 PASSED\n",
            "Test 29 PASSED\n",
            "Test 30 PASSED\n",
            "Test 31 PASSED\n",
            "Test 32 PASSED\n",
            "Test 33 PASSED\n",
            "Test 34 PASSED\n",
            "Test 35 PASSED\n",
            "Test 36 PASSED\n",
            "Test 37 PASSED\n",
            "Test 38 PASSED\n",
            "Test 39 PASSED\n",
            "Test 40 PASSED\n",
            "Test 41 PASSED\n",
            "Test 42 PASSED\n",
            "Test 43 PASSED\n",
            "Test 44 PASSED\n",
            "Test 45 PASSED\n",
            "Test 46 PASSED\n",
            "Test 47 PASSED\n",
            "Test 48 PASSED\n",
            "Test 49 PASSED\n",
            "Test 50 PASSED\n",
            "Test 51 PASSED\n",
            "Test 52 PASSED\n",
            "Test 53 PASSED\n",
            "Test 54 PASSED\n",
            "Test 55 PASSED\n",
            "Test 56 PASSED\n",
            "Test 57 PASSED\n",
            "Test 58 PASSED\n",
            "Test 59 PASSED\n",
            "Test 60 PASSED\n",
            "Test 61 PASSED\n",
            "Test 62 PASSED\n",
            "Test 63 PASSED\n",
            "Test 64 PASSED\n",
            "Test 65 PASSED\n",
            "Test 66 PASSED\n",
            "Test 67 PASSED\n",
            "Test 68 PASSED\n",
            "Test 69 PASSED\n",
            "Test 70 PASSED\n",
            "Test 71 PASSED\n",
            "Test 72 PASSED\n",
            "Test 73 PASSED\n",
            "Test 74 PASSED\n",
            "Test 75 PASSED\n",
            "Test 76 PASSED\n",
            "Test 77 PASSED\n",
            "Test 78 PASSED\n",
            "Test 79 PASSED\n",
            "Test 80 PASSED\n",
            "Test 81 PASSED\n",
            "Test 82 PASSED\n",
            "Test 83 PASSED\n",
            "Test 84 PASSED\n",
            "Test 85 PASSED\n",
            "Test 86 PASSED\n",
            "Test 87 PASSED\n",
            "Test 88 PASSED\n",
            "Test 89 PASSED\n",
            "Test 90 PASSED\n",
            "Test 91 PASSED\n",
            "Test 92 PASSED\n",
            "Test 93 PASSED\n",
            "Test 94 PASSED\n",
            "Test 95 PASSED\n",
            "Test 96 PASSED\n",
            "Test 97 PASSED\n",
            "Test 98 PASSED\n",
            "Test 99 PASSED\n",
            "Test 100 PASSED\n"
          ]
        }
      ]
    },
    {
      "cell_type": "code",
      "source": [
        "%%writefile ran100Tests.py\n",
        "import random\n",
        "\n",
        "def largest_numbers(numbers):\n",
        "    largest = float('-inf')\n",
        "    second_largest = float('-inf')\n",
        "\n",
        "    for num in numbers:\n",
        "        if num > largest:\n",
        "            second_largest = largest\n",
        "            largest = num\n",
        "        elif num > second_largest:\n",
        "            second_largest = num\n",
        "\n",
        "    return largest, second_largest\n",
        "\n",
        "def main():\n",
        "    for test in range(100):\n",
        "        n = random.randint(1, 1000)\n",
        "        numbers = [random.randint(0, 9999) for _ in range(n)]\n",
        "\n",
        "        # Ejecuta la solución T(n) < 10n = O(n)\n",
        "        result1 = largest_numbers(numbers)\n",
        "\n",
        "        # Ejecuta la solución T(n) = O(n*log(n))\n",
        "        sorted_numbers = sorted(numbers)\n",
        "        result2 = sorted_numbers[-1] * sorted_numbers[-2]\n",
        "\n",
        "        # Compara los resultados\n",
        "        if result1[0] * result1[1] != result2:\n",
        "            print(f\"Test {test + 1} FAILED\")\n",
        "            break\n",
        "\n",
        "        print(f\"Test {test + 1} PASSED\")\n",
        "\n",
        "if __name__ == \"__main__\":\n",
        "    main()"
      ],
      "metadata": {
        "colab": {
          "base_uri": "https://localhost:8080/"
        },
        "id": "P9E_aTSTwTYN",
        "outputId": "a36407e4-ccfa-4e85-d87c-044d980636c2"
      },
      "execution_count": null,
      "outputs": [
        {
          "output_type": "stream",
          "name": "stdout",
          "text": [
            "Overwriting ran100Tests.py\n"
          ]
        }
      ]
    },
    {
      "cell_type": "code",
      "source": [
        "!python ran100Tests.py"
      ],
      "metadata": {
        "id": "FrPE_i0lw6GJ",
        "colab": {
          "base_uri": "https://localhost:8080/"
        },
        "outputId": "85eb5b74-dc5e-42da-8053-3e37e4f2b8e4"
      },
      "execution_count": null,
      "outputs": [
        {
          "output_type": "stream",
          "name": "stdout",
          "text": [
            "Test 1 PASSED\n",
            "Test 2 PASSED\n",
            "Test 3 PASSED\n",
            "Test 4 PASSED\n",
            "Test 5 PASSED\n",
            "Test 6 PASSED\n",
            "Test 7 PASSED\n",
            "Test 8 PASSED\n",
            "Test 9 PASSED\n",
            "Test 10 PASSED\n",
            "Test 11 PASSED\n",
            "Test 12 PASSED\n",
            "Test 13 PASSED\n",
            "Test 14 PASSED\n",
            "Test 15 PASSED\n",
            "Test 16 PASSED\n",
            "Test 17 PASSED\n",
            "Test 18 PASSED\n",
            "Test 19 PASSED\n",
            "Test 20 PASSED\n",
            "Test 21 PASSED\n",
            "Test 22 PASSED\n",
            "Test 23 PASSED\n",
            "Test 24 PASSED\n",
            "Test 25 PASSED\n",
            "Test 26 PASSED\n",
            "Test 27 PASSED\n",
            "Test 28 PASSED\n",
            "Test 29 PASSED\n",
            "Test 30 PASSED\n",
            "Test 31 PASSED\n",
            "Test 32 PASSED\n",
            "Test 33 PASSED\n",
            "Test 34 PASSED\n",
            "Test 35 PASSED\n",
            "Test 36 PASSED\n",
            "Test 37 PASSED\n",
            "Test 38 PASSED\n",
            "Test 39 PASSED\n",
            "Test 40 PASSED\n",
            "Test 41 PASSED\n",
            "Test 42 PASSED\n",
            "Test 43 PASSED\n",
            "Test 44 PASSED\n",
            "Test 45 PASSED\n",
            "Test 46 PASSED\n",
            "Test 47 PASSED\n",
            "Test 48 PASSED\n",
            "Test 49 PASSED\n",
            "Test 50 PASSED\n",
            "Test 51 PASSED\n",
            "Test 52 PASSED\n",
            "Test 53 PASSED\n",
            "Test 54 PASSED\n",
            "Test 55 PASSED\n",
            "Test 56 PASSED\n",
            "Test 57 PASSED\n",
            "Test 58 PASSED\n",
            "Test 59 PASSED\n",
            "Test 60 PASSED\n",
            "Test 61 PASSED\n",
            "Test 62 PASSED\n",
            "Test 63 PASSED\n",
            "Test 64 PASSED\n",
            "Test 65 PASSED\n",
            "Test 66 PASSED\n",
            "Test 67 PASSED\n",
            "Test 68 PASSED\n",
            "Test 69 PASSED\n",
            "Test 70 PASSED\n",
            "Test 71 PASSED\n",
            "Test 72 PASSED\n",
            "Test 73 PASSED\n",
            "Test 74 PASSED\n",
            "Test 75 PASSED\n",
            "Test 76 PASSED\n",
            "Test 77 PASSED\n",
            "Test 78 PASSED\n",
            "Test 79 PASSED\n",
            "Test 80 PASSED\n",
            "Test 81 PASSED\n",
            "Test 82 PASSED\n",
            "Test 83 PASSED\n",
            "Test 84 PASSED\n",
            "Test 85 PASSED\n",
            "Test 86 PASSED\n",
            "Test 87 PASSED\n",
            "Test 88 PASSED\n",
            "Test 89 PASSED\n",
            "Test 90 PASSED\n",
            "Test 91 PASSED\n",
            "Test 92 PASSED\n",
            "Test 93 PASSED\n",
            "Test 94 PASSED\n",
            "Test 95 PASSED\n",
            "Test 96 PASSED\n",
            "Test 97 PASSED\n",
            "Test 98 PASSED\n",
            "Test 99 PASSED\n",
            "Test 100 PASSED\n"
          ]
        }
      ]
    }
  ],
  "metadata": {
    "colab": {
      "provenance": [],
      "collapsed_sections": [
        "N1ok_-56OjB1",
        "uvP-mOubW_5F",
        "fEZR-3V4ZjCv",
        "1Hsbd-uHOb_j",
        "WStS1DBHqRoe",
        "uZGdjUwuaO4v",
        "4hHRQMXzW6oR"
      ]
    },
    "kernelspec": {
      "display_name": "Python 3",
      "name": "python3"
    },
    "language_info": {
      "name": "python"
    }
  },
  "nbformat": 4,
  "nbformat_minor": 0
}